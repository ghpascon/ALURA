{
 "cells": [
  {
   "cell_type": "markdown",
   "metadata": {},
   "source": [
    "LIBS"
   ]
  },
  {
   "cell_type": "code",
   "execution_count": 1,
   "metadata": {},
   "outputs": [],
   "source": [
    "import easyocr\n",
    "import re"
   ]
  },
  {
   "cell_type": "markdown",
   "metadata": {},
   "source": [
    "IMAGEM"
   ]
  },
  {
   "cell_type": "code",
   "execution_count": 2,
   "metadata": {},
   "outputs": [
    {
     "name": "stderr",
     "output_type": "stream",
     "text": [
      "Neither CUDA nor MPS are available - defaulting to CPU. Note: This module is much faster with a GPU.\n"
     ]
    },
    {
     "name": "stdout",
     "output_type": "stream",
     "text": [
      "Texto: BDM3D69, Confiança: 0.21956762126037446\n"
     ]
    }
   ],
   "source": [
    "# Cria o leitor com suporte ao idioma desejado\n",
    "reader = easyocr.Reader(['pt', 'en'])  # 'pt' para português e 'en' para inglês\n",
    "\n",
    "# Faz a leitura de texto de uma imagem\n",
    "results = reader.readtext(r'placas_imagens\\placa_carro3.jpg')\n",
    "\n",
    "regex = re.compile(r'\\b[a-zA-Z]{3}[a-zA-Z0-9]{4}\\b')\n",
    "\n",
    "# Exibe os resultados\n",
    "for bbox, text, confidence in results:\n",
    "    if regex.match(text):\n",
    "        print(f\"Texto: {text}, Confiança: {confidence}\")"
   ]
  }
 ],
 "metadata": {
  "kernelspec": {
   "display_name": "Python 3",
   "language": "python",
   "name": "python3"
  },
  "language_info": {
   "codemirror_mode": {
    "name": "ipython",
    "version": 3
   },
   "file_extension": ".py",
   "mimetype": "text/x-python",
   "name": "python",
   "nbconvert_exporter": "python",
   "pygments_lexer": "ipython3",
   "version": "3.9.0"
  }
 },
 "nbformat": 4,
 "nbformat_minor": 2
}
