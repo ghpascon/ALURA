{
 "cells": [
  {
   "cell_type": "markdown",
   "metadata": {},
   "source": [
    "LIBS"
   ]
  },
  {
   "cell_type": "code",
   "execution_count": null,
   "metadata": {},
   "outputs": [],
   "source": [
    "from sklearn.metrics import accuracy_score\n",
    "import cv2 as cv\n",
    "import matplotlib.pyplot as plt\n",
    "from os import listdir, path, makedirs\n",
    "import shutil\n",
    "import numpy as np\n"
   ]
  },
  {
   "cell_type": "markdown",
   "metadata": {},
   "source": [
    "PROCESSAR IMAGENS"
   ]
  },
  {
   "cell_type": "code",
   "execution_count": 2,
   "metadata": {},
   "outputs": [],
   "source": [
    "cropped_faces = 'data/cropped_faces'\n",
    "lista_faces = [f for f in listdir(cropped_faces) if path.isfile(path.join(cropped_faces, f))]"
   ]
  },
  {
   "cell_type": "code",
   "execution_count": 3,
   "metadata": {},
   "outputs": [
    {
     "name": "stdout",
     "output_type": "stream",
     "text": [
      "['s01_01.jpg', 's01_02.jpg', 's01_03.jpg', 's01_04.jpg', 's01_05.jpg', 's01_06.jpg', 's01_07.jpg', 's01_08.jpg', 's01_09.jpg', 's01_10.jpg', 's01_11.jpg', 's01_12.jpg', 's01_13.jpg', 's01_14.jpg', 's01_15.jpg', 's02_01.jpg', 's02_02.jpg', 's02_03.jpg', 's02_04.jpg', 's02_05.jpg', 's02_06.jpg', 's02_07.jpg', 's02_08.jpg', 's02_09.jpg', 's02_10.jpg', 's02_11.jpg', 's02_12.jpg', 's02_13.jpg', 's02_14.jpg', 's02_15.jpg', 's03_01.jpg', 's03_02.jpg', 's03_03.jpg', 's03_04.jpg', 's03_05.jpg', 's03_06.jpg', 's03_07.jpg', 's03_08.jpg', 's03_09.jpg', 's03_10.jpg', 's03_11.jpg', 's03_12.jpg', 's03_13.jpg', 's03_14.jpg', 's03_15.jpg', 's04_01.jpg', 's04_02.jpg', 's04_03.jpg', 's04_04.jpg', 's04_05.jpg', 's04_06.jpg', 's04_07.jpg', 's04_08.jpg', 's04_09.jpg', 's04_10.jpg', 's04_11.jpg', 's04_12.jpg', 's04_13.jpg', 's04_14.jpg', 's04_15.jpg', 's05_01.jpg', 's05_02.jpg', 's05_03.jpg', 's05_04.jpg', 's05_05.jpg', 's05_06.jpg', 's05_07.jpg', 's05_08.jpg', 's05_09.jpg', 's05_10.jpg', 's05_11.jpg', 's05_12.jpg', 's05_13.jpg', 's05_14.jpg', 's05_15.jpg', 's06_01.jpg', 's06_02.jpg', 's06_03.jpg', 's06_04.jpg', 's06_05.jpg', 's06_06.jpg', 's06_07.jpg', 's06_08.jpg', 's06_09.jpg', 's06_10.jpg', 's06_11.jpg', 's06_12.jpg', 's06_13.jpg', 's06_14.jpg', 's06_15.jpg', 's07_01.jpg', 's07_02.jpg', 's07_03.jpg', 's07_04.jpg', 's07_05.jpg', 's07_06.jpg', 's07_07.jpg', 's07_08.jpg', 's07_09.jpg', 's07_10.jpg', 's07_11.jpg', 's07_12.jpg', 's07_13.jpg', 's07_14.jpg', 's07_15.jpg', 's08_01.jpg', 's08_02.jpg', 's08_03.jpg', 's08_04.jpg', 's08_05.jpg', 's08_06.jpg', 's08_07.jpg', 's08_08.jpg', 's08_09.jpg', 's08_10.jpg', 's08_11.jpg', 's08_12.jpg', 's08_13.jpg', 's08_14.jpg', 's08_15.jpg', 's09_01.jpg', 's09_02.jpg', 's09_03.jpg', 's09_04.jpg', 's09_05.jpg', 's09_06.jpg', 's09_07.jpg', 's09_08.jpg', 's09_09.jpg', 's09_10.jpg', 's09_11.jpg', 's09_12.jpg', 's09_13.jpg', 's09_14.jpg', 's09_15.jpg', 's10_01.jpg', 's10_02.jpg', 's10_03.jpg', 's10_04.jpg', 's10_05.jpg', 's10_06.jpg', 's10_07.jpg', 's10_08.jpg', 's10_09.jpg', 's10_10.jpg', 's10_11.jpg', 's10_12.jpg', 's10_13.jpg', 's10_14.jpg', 's10_15.jpg', 's11_01.jpg', 's11_02.jpg', 's11_03.jpg', 's11_04.jpg', 's11_05.jpg', 's11_06.jpg', 's11_07.jpg', 's11_08.jpg', 's11_09.jpg', 's11_10.jpg', 's11_11.jpg', 's11_12.jpg', 's11_13.jpg', 's11_14.jpg', 's11_15.jpg', 's12_01.jpg', 's12_02.jpg', 's12_03.jpg', 's12_04.jpg', 's12_05.jpg', 's12_06.jpg', 's12_07.jpg', 's12_08.jpg', 's12_09.jpg', 's12_10.jpg', 's12_11.jpg', 's12_12.jpg', 's12_13.jpg', 's12_14.jpg', 's12_15.jpg', 's13_01.jpg', 's13_02.jpg', 's13_03.jpg', 's13_04.jpg', 's13_05.jpg', 's13_06.jpg', 's13_07.jpg', 's13_08.jpg', 's13_09.jpg', 's13_10.jpg', 's13_11.jpg', 's13_12.jpg', 's13_13.jpg', 's13_14.jpg', 's13_15.jpg', 's14_01.jpg', 's14_02.jpg', 's14_03.jpg', 's14_04.jpg', 's14_05.jpg', 's14_06.jpg', 's14_07.jpg', 's14_08.jpg', 's14_09.jpg', 's14_10.jpg', 's14_11.jpg', 's14_12.jpg', 's14_13.jpg', 's14_14.jpg', 's14_15.jpg', 's15_01.jpg', 's15_02.jpg', 's15_03.jpg', 's15_04.jpg', 's15_05.jpg', 's15_06.jpg', 's15_07.jpg', 's15_08.jpg', 's15_09.jpg', 's15_10.jpg', 's15_11.jpg', 's15_12.jpg', 's15_13.jpg', 's15_14.jpg', 's15_15.jpg', 's16_01.jpg', 's16_02.jpg', 's16_03.jpg', 's16_04.jpg', 's16_05.jpg', 's16_06.jpg', 's16_07.jpg', 's16_08.jpg', 's16_09.jpg', 's16_10.jpg', 's16_11.jpg', 's16_12.jpg', 's16_13.jpg', 's16_14.jpg', 's16_15.jpg', 's17_01.jpg', 's17_02.jpg', 's17_03.jpg', 's17_04.jpg', 's17_05.jpg', 's17_06.jpg', 's17_07.jpg', 's17_08.jpg', 's17_09.jpg', 's17_10.jpg', 's17_11.jpg', 's17_12.jpg', 's17_13.jpg', 's17_14.jpg', 's17_15.jpg', 's18_01.jpg', 's18_02.jpg', 's18_03.jpg', 's18_04.jpg', 's18_05.jpg', 's18_06.jpg', 's18_07.jpg', 's18_08.jpg', 's18_09.jpg', 's18_10.jpg', 's18_11.jpg', 's18_12.jpg', 's18_13.jpg', 's18_14.jpg', 's18_15.jpg', 's19_01.jpg', 's19_02.jpg', 's19_03.jpg', 's19_04.jpg', 's19_05.jpg', 's19_06.jpg', 's19_07.jpg', 's19_08.jpg', 's19_09.jpg', 's19_10.jpg', 's19_11.jpg', 's19_12.jpg', 's19_13.jpg', 's19_14.jpg', 's19_15.jpg', 's20_01.jpg', 's20_02.jpg', 's20_03.jpg', 's20_04.jpg', 's20_05.jpg', 's20_06.jpg', 's20_07.jpg', 's20_08.jpg', 's20_09.jpg', 's20_10.jpg', 's20_11.jpg', 's20_12.jpg', 's20_13.jpg', 's20_14.jpg', 's20_15.jpg', 's21_01.jpg', 's21_02.jpg', 's21_03.jpg', 's21_04.jpg', 's21_05.jpg', 's21_06.jpg', 's21_07.jpg', 's21_08.jpg', 's21_09.jpg', 's21_10.jpg', 's21_11.jpg', 's21_12.jpg', 's21_13.jpg', 's21_14.jpg', 's21_15.jpg', 's22_01.jpg', 's22_02.jpg', 's22_03.jpg', 's22_04.jpg', 's22_05.jpg', 's22_06.jpg', 's22_07.jpg', 's22_08.jpg', 's22_09.jpg', 's22_10.jpg', 's22_11.jpg', 's22_12.jpg', 's22_13.jpg', 's22_14.jpg', 's22_15.jpg', 's23_01.jpg', 's23_02.jpg', 's23_03.jpg', 's23_04.jpg', 's23_05.jpg', 's23_06.jpg', 's23_07.jpg', 's23_08.jpg', 's23_09.jpg', 's23_10.jpg', 's23_11.jpg', 's23_12.jpg', 's23_13.jpg', 's23_14.jpg', 's23_15.jpg', 's24_01.jpg', 's24_02.jpg', 's24_03.jpg', 's24_04.jpg', 's24_05.jpg', 's24_06.jpg', 's24_07.jpg', 's24_08.jpg', 's24_09.jpg', 's24_10.jpg', 's24_11.jpg', 's24_12.jpg', 's24_13.jpg', 's24_14.jpg', 's24_15.jpg', 's25_01.jpg', 's25_02.jpg', 's25_03.jpg', 's25_04.jpg', 's25_05.jpg', 's25_06.jpg', 's25_07.jpg', 's25_08.jpg', 's25_09.jpg', 's25_10.jpg', 's25_11.jpg', 's25_12.jpg', 's25_13.jpg', 's25_14.jpg', 's25_15.jpg', 's26_01.jpg', 's26_02.jpg', 's26_03.jpg', 's26_04.jpg', 's26_05.jpg', 's26_06.jpg', 's26_07.jpg', 's26_08.jpg', 's26_09.jpg', 's26_10.jpg', 's26_11.jpg', 's26_12.jpg', 's26_13.jpg', 's26_14.jpg', 's26_15.jpg', 's27_01.jpg', 's27_02.jpg', 's27_03.jpg', 's27_04.jpg', 's27_05.jpg', 's27_06.jpg', 's27_07.jpg', 's27_08.jpg', 's27_09.jpg', 's27_10.jpg', 's27_11.jpg', 's27_12.jpg', 's27_13.jpg', 's27_14.jpg', 's27_15.jpg', 's28_01.jpg', 's28_02.jpg', 's28_03.jpg', 's28_04.jpg', 's28_05.jpg', 's28_06.jpg', 's28_07.jpg', 's28_08.jpg', 's28_09.jpg', 's28_10.jpg', 's28_11.jpg', 's28_12.jpg', 's28_13.jpg', 's28_14.jpg', 's28_15.jpg', 's29_01.jpg', 's29_02.jpg', 's29_03.jpg', 's29_04.jpg', 's29_05.jpg', 's29_06.jpg', 's29_07.jpg', 's29_08.jpg', 's29_09.jpg', 's29_10.jpg', 's29_11.jpg', 's29_12.jpg', 's29_13.jpg', 's29_14.jpg', 's29_15.jpg', 's30_01.jpg', 's30_02.jpg', 's30_03.jpg', 's30_04.jpg', 's30_05.jpg', 's30_06.jpg', 's30_07.jpg', 's30_08.jpg', 's30_09.jpg', 's30_10.jpg', 's30_11.jpg', 's30_12.jpg', 's30_13.jpg', 's30_14.jpg', 's30_15.jpg', 's31_01.jpg', 's31_02.jpg', 's31_03.jpg', 's31_04.jpg', 's31_05.jpg', 's31_06.jpg', 's31_07.jpg', 's31_08.jpg', 's31_09.jpg', 's31_10.jpg', 's31_11.jpg', 's31_12.jpg', 's31_13.jpg', 's31_14.jpg', 's31_15.jpg', 's32_01.jpg', 's32_02.jpg', 's32_03.jpg', 's32_04.jpg', 's32_05.jpg', 's32_06.jpg', 's32_07.jpg', 's32_08.jpg', 's32_09.jpg', 's32_10.jpg', 's32_11.jpg', 's32_12.jpg', 's32_13.jpg', 's32_14.jpg', 's32_15.jpg', 's33_01.jpg', 's33_02.jpg', 's33_03.jpg', 's33_04.jpg', 's33_05.jpg', 's33_06.jpg', 's33_07.jpg', 's33_08.jpg', 's33_09.jpg', 's33_10.jpg', 's33_11.jpg', 's33_12.jpg', 's33_13.jpg', 's33_14.jpg', 's33_15.jpg', 's34_01.jpg', 's34_02.jpg', 's34_03.jpg', 's34_04.jpg', 's34_05.jpg', 's34_06.jpg', 's34_07.jpg', 's34_08.jpg', 's34_09.jpg', 's34_10.jpg', 's34_11.jpg', 's34_12.jpg', 's34_13.jpg', 's34_14.jpg', 's34_15.jpg', 's35_01.jpg', 's35_02.jpg', 's35_03.jpg', 's35_04.jpg', 's35_05.jpg', 's35_06.jpg', 's35_07.jpg', 's35_08.jpg', 's35_09.jpg', 's35_10.jpg', 's35_11.jpg', 's35_12.jpg', 's35_13.jpg', 's35_14.jpg', 's35_15.jpg', 's36_01.jpg', 's36_02.jpg', 's36_03.jpg', 's36_04.jpg', 's36_05.jpg', 's36_06.jpg', 's36_07.jpg', 's36_08.jpg', 's36_09.jpg', 's36_10.jpg', 's36_11.jpg', 's36_12.jpg', 's36_13.jpg', 's36_14.jpg', 's36_15.jpg', 's37_01.jpg', 's37_02.jpg', 's37_03.jpg', 's37_04.jpg', 's37_05.jpg', 's37_06.jpg', 's37_07.jpg', 's37_08.jpg', 's37_09.jpg', 's37_10.jpg', 's37_11.jpg', 's37_12.jpg', 's37_13.jpg', 's37_14.jpg', 's37_15.jpg', 's38_01.jpg', 's38_02.jpg', 's38_03.jpg', 's38_04.jpg', 's38_05.jpg', 's38_06.jpg', 's38_07.jpg', 's38_08.jpg', 's38_09.jpg', 's38_10.jpg', 's38_11.jpg', 's38_12.jpg', 's38_13.jpg', 's38_14.jpg', 's38_15.jpg', 's39_01.jpg', 's39_02.jpg', 's39_03.jpg', 's39_04.jpg', 's39_05.jpg', 's39_06.jpg', 's39_07.jpg', 's39_08.jpg', 's39_09.jpg', 's39_10.jpg', 's39_11.jpg', 's39_12.jpg', 's39_13.jpg', 's39_14.jpg', 's39_15.jpg', 's40_01.jpg', 's40_02.jpg', 's40_03.jpg', 's40_04.jpg', 's40_05.jpg', 's40_06.jpg', 's40_07.jpg', 's40_08.jpg', 's40_09.jpg', 's40_10.jpg', 's40_11.jpg', 's40_12.jpg', 's40_13.jpg', 's40_14.jpg', 's40_15.jpg', 's41_01.jpg', 's41_02.jpg', 's41_03.jpg', 's41_04.jpg', 's41_05.jpg', 's41_06.jpg', 's41_07.jpg', 's41_08.jpg', 's41_09.jpg', 's41_10.jpg', 's41_11.jpg', 's41_12.jpg', 's41_13.jpg', 's41_14.jpg', 's41_15.jpg', 's42_01.jpg', 's42_02.jpg', 's42_03.jpg', 's42_04.jpg', 's42_05.jpg', 's42_06.jpg', 's42_07.jpg', 's42_08.jpg', 's42_09.jpg', 's42_10.jpg', 's42_11.jpg', 's42_12.jpg', 's42_13.jpg', 's42_14.jpg', 's42_15.jpg', 's43_01.jpg', 's43_02.jpg', 's43_03.jpg', 's43_04.jpg', 's43_05.jpg', 's43_06.jpg', 's43_07.jpg', 's43_08.jpg', 's43_09.jpg', 's43_10.jpg', 's43_11.jpg', 's43_12.jpg', 's43_13.jpg', 's43_14.jpg', 's43_15.jpg', 's44_01.jpg', 's44_02.jpg', 's44_03.jpg', 's44_04.jpg', 's44_05.jpg', 's44_06.jpg', 's44_07.jpg', 's44_08.jpg', 's44_09.jpg', 's44_10.jpg', 's44_11.jpg', 's44_12.jpg', 's44_13.jpg', 's44_14.jpg', 's44_15.jpg', 's45_01.jpg', 's45_02.jpg', 's45_03.jpg', 's45_04.jpg', 's45_05.jpg', 's45_06.jpg', 's45_07.jpg', 's45_08.jpg', 's45_09.jpg', 's45_10.jpg', 's45_11.jpg', 's45_12.jpg', 's45_13.jpg', 's45_14.jpg', 's45_15.jpg', 's46_01.jpg', 's46_02.jpg', 's46_03.jpg', 's46_04.jpg', 's46_05.jpg', 's46_06.jpg', 's46_07.jpg', 's46_08.jpg', 's46_09.jpg', 's46_10.jpg', 's46_11.jpg', 's46_12.jpg', 's46_13.jpg', 's46_14.jpg', 's46_15.jpg', 's47_01.jpg', 's47_02.jpg', 's47_03.jpg', 's47_04.jpg', 's47_05.jpg', 's47_06.jpg', 's47_07.jpg', 's47_08.jpg', 's47_09.jpg', 's47_10.jpg', 's47_11.jpg', 's47_12.jpg', 's47_13.jpg', 's47_14.jpg', 's47_15.jpg', 's48_01.jpg', 's48_02.jpg', 's48_03.jpg', 's48_04.jpg', 's48_05.jpg', 's48_06.jpg', 's48_07.jpg', 's48_08.jpg', 's48_09.jpg', 's48_10.jpg', 's48_11.jpg', 's48_12.jpg', 's48_13.jpg', 's48_14.jpg', 's48_15.jpg', 's49_01.jpg', 's49_02.jpg', 's49_03.jpg', 's49_04.jpg', 's49_05.jpg', 's49_06.jpg', 's49_07.jpg', 's49_08.jpg', 's49_09.jpg', 's49_10.jpg', 's49_11.jpg', 's49_12.jpg', 's49_13.jpg', 's49_14.jpg', 's49_15.jpg', 's50_01.jpg', 's50_02.jpg', 's50_03.jpg', 's50_04.jpg', 's50_05.jpg', 's50_06.jpg', 's50_07.jpg', 's50_08.jpg', 's50_09.jpg', 's50_10.jpg', 's50_11.jpg', 's50_12.jpg', 's50_13.jpg', 's50_14.jpg', 's50_15.jpg']\n"
     ]
    }
   ],
   "source": [
    "print(lista_faces)"
   ]
  },
  {
   "cell_type": "code",
   "execution_count": 4,
   "metadata": {},
   "outputs": [],
   "source": [
    "faces_treino = 'data/treino'\n",
    "faces_teste = 'data/teste'\n",
    "\n",
    "# if not path.exists(faces_treino):\n",
    "#     makedirs(faces_treino)\n",
    "\n",
    "# if not path.exists(faces_teste):\n",
    "#     makedirs(faces_teste)\n",
    "\n",
    "# for face in lista_faces:\n",
    "#     sujeito = face[:face.index('_')]\n",
    "#     num = int(face[face.index('_') + 1:face.index('.')])\n",
    "\n",
    "#     if num<=10:\n",
    "#         shutil.copyfile(f'{cropped_faces}/{face}',f'{faces_treino}/{face}')\n",
    "#     else:\n",
    "#         shutil.copyfile(f'{cropped_faces}/{face}',f'{faces_teste}/{face}')\n",
    "        "
   ]
  },
  {
   "cell_type": "code",
   "execution_count": 5,
   "metadata": {},
   "outputs": [],
   "source": [
    "def padronizar_img(img_path, size=(200,200)):\n",
    "    img = cv.imread(img_path, cv.IMREAD_GRAYSCALE)\n",
    "    img = cv.resize(img, size, interpolation=cv.INTER_LANCZOS4)\n",
    "    return img"
   ]
  },
  {
   "cell_type": "code",
   "execution_count": 6,
   "metadata": {},
   "outputs": [
    {
     "name": "stdout",
     "output_type": "stream",
     "text": [
      "500\n",
      "250\n"
     ]
    }
   ],
   "source": [
    "list_faces_treino = [f for f in listdir(faces_treino) if path.isfile(path.join(faces_treino, f))]\n",
    "list_faces_teste = [f for f in listdir(faces_teste) if path.isfile(path.join(faces_teste, f))]\n",
    "print(len(list_faces_treino))\n",
    "print(len(list_faces_teste))"
   ]
  },
  {
   "cell_type": "code",
   "execution_count": 7,
   "metadata": {},
   "outputs": [],
   "source": [
    "dados_treino = []\n",
    "sujeitos_treino = []\n",
    "\n",
    "for i, arq in enumerate(list_faces_treino):\n",
    "    path = f'{faces_treino}/{arq}'\n",
    "    img = padronizar_img(path)\n",
    "    dados_treino.append(img)\n",
    "    sujeito = arq[1:arq.index('_')]\n",
    "    sujeitos_treino.append(sujeito)"
   ]
  },
  {
   "cell_type": "code",
   "execution_count": 9,
   "metadata": {},
   "outputs": [],
   "source": [
    "dados_teste = []\n",
    "sujeitos_teste = []\n",
    "\n",
    "for i, arq in enumerate(list_faces_teste):\n",
    "    path = f'{faces_teste}/{arq}'\n",
    "    img = padronizar_img(path)\n",
    "    dados_teste.append(img)\n",
    "    sujeito = arq[1:arq.index('_')]\n",
    "    sujeitos_teste.append(sujeito)"
   ]
  },
  {
   "cell_type": "code",
   "execution_count": 10,
   "metadata": {},
   "outputs": [
    {
     "name": "stdout",
     "output_type": "stream",
     "text": [
      "500\n",
      "250\n"
     ]
    }
   ],
   "source": [
    "print(len(sujeitos_treino))\n",
    "print(len(sujeitos_teste))"
   ]
  },
  {
   "cell_type": "code",
   "execution_count": 11,
   "metadata": {},
   "outputs": [],
   "source": [
    "sujeitos_treino = np.array(sujeitos_treino, dtype = np.int32)\n",
    "sujeitos_teste = np.array(sujeitos_teste, dtype = np.int32)"
   ]
  },
  {
   "cell_type": "markdown",
   "metadata": {},
   "source": [
    "MODELOS"
   ]
  },
  {
   "cell_type": "code",
   "execution_count": 38,
   "metadata": {},
   "outputs": [],
   "source": [
    "model_eingenface = cv.face.EigenFaceRecognizer.create()\n",
    "model_eingenface.train(dados_treino, sujeitos_treino)\n"
   ]
  },
  {
   "cell_type": "code",
   "execution_count": 39,
   "metadata": {},
   "outputs": [],
   "source": [
    "model_fisher = cv.face.FisherFaceRecognizer.create()\n",
    "model_fisher.train(dados_treino, sujeitos_treino)\n"
   ]
  },
  {
   "cell_type": "code",
   "execution_count": 50,
   "metadata": {},
   "outputs": [],
   "source": [
    "model_lbph = cv.face.LBPHFaceRecognizer.create()\n",
    "model_lbph.train(dados_treino, sujeitos_treino)\n"
   ]
  },
  {
   "cell_type": "code",
   "execution_count": 63,
   "metadata": {},
   "outputs": [
    {
     "name": "stdout",
     "output_type": "stream",
     "text": [
      "(35, 5186.750640696217)\n",
      "(32, 961.6743844840247)\n",
      "(2, 47.03805947909994)\n",
      "1\n"
     ]
    }
   ],
   "source": [
    "index = 0\n",
    "predict_eingenface_ = model_eingenface.predict(dados_teste[index])\n",
    "predict_fisher_ = model_fisher.predict(dados_teste[index])\n",
    "predict_lbph_ = model_lbph.predict(dados_teste[index])\n",
    "\n",
    "print(predict_eingenface_)\n",
    "print(predict_fisher_)\n",
    "print(predict_lbph_)\n",
    "print(sujeitos_teste[index])"
   ]
  },
  {
   "cell_type": "markdown",
   "metadata": {},
   "source": [
    "ACCURACIA"
   ]
  },
  {
   "cell_type": "code",
   "execution_count": 68,
   "metadata": {},
   "outputs": [],
   "source": [
    "predict_eingenface = []\n",
    "predict_fisher = []\n",
    "predict_lbph = []\n",
    "\n",
    "for item in dados_teste:\n",
    "    predict_eingenface.append(model_eingenface.predict(item)[0])\n",
    "    predict_fisher.append(model_fisher.predict(item)[0])\n",
    "    predict_lbph.append(model_lbph.predict(item)[0])\n"
   ]
  },
  {
   "cell_type": "code",
   "execution_count": 69,
   "metadata": {},
   "outputs": [
    {
     "name": "stdout",
     "output_type": "stream",
     "text": [
      "0.724\n",
      "0.52\n",
      "0.792\n"
     ]
    }
   ],
   "source": [
    "accuracy_eingenface = accuracy_score(sujeitos_teste, predict_eingenface)\n",
    "accuracy_fisher = accuracy_score(sujeitos_teste, predict_fisher)\n",
    "accuracy_lbph = accuracy_score(sujeitos_teste, predict_lbph)\n",
    "\n",
    "print(accuracy_eingenface)\n",
    "print(accuracy_fisher)\n",
    "print(accuracy_lbph)"
   ]
  }
 ],
 "metadata": {
  "kernelspec": {
   "display_name": "Python 3",
   "language": "python",
   "name": "python3"
  },
  "language_info": {
   "codemirror_mode": {
    "name": "ipython",
    "version": 3
   },
   "file_extension": ".py",
   "mimetype": "text/x-python",
   "name": "python",
   "nbconvert_exporter": "python",
   "pygments_lexer": "ipython3",
   "version": "3.9.0"
  }
 },
 "nbformat": 4,
 "nbformat_minor": 2
}
