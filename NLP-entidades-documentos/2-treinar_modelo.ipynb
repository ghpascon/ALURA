{
 "cells": [
  {
   "cell_type": "markdown",
   "metadata": {},
   "source": [
    "# Treinar modelo para identificar entidades"
   ]
  },
  {
   "cell_type": "markdown",
   "metadata": {},
   "source": [
    "# Tokenizar dados"
   ]
  },
  {
   "cell_type": "code",
   "execution_count": 23,
   "metadata": {},
   "outputs": [],
   "source": [
    "import zipfile\n",
    "import pandas as pd\n",
    "import spacy"
   ]
  },
  {
   "cell_type": "code",
   "execution_count": 2,
   "metadata": {},
   "outputs": [
    {
     "data": {
      "text/html": [
       "<div>\n",
       "<style scoped>\n",
       "    .dataframe tbody tr th:only-of-type {\n",
       "        vertical-align: middle;\n",
       "    }\n",
       "\n",
       "    .dataframe tbody tr th {\n",
       "        vertical-align: top;\n",
       "    }\n",
       "\n",
       "    .dataframe thead th {\n",
       "        text-align: right;\n",
       "    }\n",
       "</style>\n",
       "<table border=\"1\" class=\"dataframe\">\n",
       "  <thead>\n",
       "    <tr style=\"text-align: right;\">\n",
       "      <th></th>\n",
       "      <th>arquivo</th>\n",
       "      <th>palavra</th>\n",
       "    </tr>\n",
       "  </thead>\n",
       "  <tbody>\n",
       "    <tr>\n",
       "      <th>0</th>\n",
       "      <td>ADI2TJDFT.txt</td>\n",
       "      <td>Órgão</td>\n",
       "    </tr>\n",
       "    <tr>\n",
       "      <th>1</th>\n",
       "      <td>ADI2TJDFT.txt</td>\n",
       "      <td>:</td>\n",
       "    </tr>\n",
       "    <tr>\n",
       "      <th>2</th>\n",
       "      <td>ADI2TJDFT.txt</td>\n",
       "      <td>Conselho</td>\n",
       "    </tr>\n",
       "    <tr>\n",
       "      <th>3</th>\n",
       "      <td>ADI2TJDFT.txt</td>\n",
       "      <td>Especial</td>\n",
       "    </tr>\n",
       "    <tr>\n",
       "      <th>4</th>\n",
       "      <td>ADI2TJDFT.txt</td>\n",
       "      <td>Classe</td>\n",
       "    </tr>\n",
       "    <tr>\n",
       "      <th>...</th>\n",
       "      <td>...</td>\n",
       "      <td>...</td>\n",
       "    </tr>\n",
       "    <tr>\n",
       "      <th>193487</th>\n",
       "      <td>ACORDAOTCU25052016.txt</td>\n",
       "      <td>Ministro-Substituto</td>\n",
       "    </tr>\n",
       "    <tr>\n",
       "      <th>193488</th>\n",
       "      <td>ACORDAOTCU25052016.txt</td>\n",
       "      <td>AUGUSTO</td>\n",
       "    </tr>\n",
       "    <tr>\n",
       "      <th>193489</th>\n",
       "      <td>ACORDAOTCU25052016.txt</td>\n",
       "      <td>SHERMAN</td>\n",
       "    </tr>\n",
       "    <tr>\n",
       "      <th>193490</th>\n",
       "      <td>ACORDAOTCU25052016.txt</td>\n",
       "      <td>CAVALCANTI</td>\n",
       "    </tr>\n",
       "    <tr>\n",
       "      <th>193491</th>\n",
       "      <td>ACORDAOTCU25052016.txt</td>\n",
       "      <td>Relator</td>\n",
       "    </tr>\n",
       "  </tbody>\n",
       "</table>\n",
       "<p>193492 rows × 2 columns</p>\n",
       "</div>"
      ],
      "text/plain": [
       "                       arquivo              palavra\n",
       "0                ADI2TJDFT.txt                Órgão\n",
       "1                ADI2TJDFT.txt                    :\n",
       "2                ADI2TJDFT.txt             Conselho\n",
       "3                ADI2TJDFT.txt             Especial\n",
       "4                ADI2TJDFT.txt               Classe\n",
       "...                        ...                  ...\n",
       "193487  ACORDAOTCU25052016.txt  Ministro-Substituto\n",
       "193488  ACORDAOTCU25052016.txt              AUGUSTO\n",
       "193489  ACORDAOTCU25052016.txt              SHERMAN\n",
       "193490  ACORDAOTCU25052016.txt           CAVALCANTI\n",
       "193491  ACORDAOTCU25052016.txt              Relator\n",
       "\n",
       "[193492 rows x 2 columns]"
      ]
     },
     "execution_count": 2,
     "metadata": {},
     "output_type": "execute_result"
    }
   ],
   "source": [
    "dados = []\n",
    "with zipfile.ZipFile('data/texts.zip','r') as zip:\n",
    "    for nome in zip.namelist():\n",
    "        with zip.open(nome) as arquivo:\n",
    "            conteudo = arquivo.read().decode('utf-8')\n",
    "            palavras = conteudo.split()\n",
    "            for palavra in palavras:\n",
    "                dados.append([nome,palavra])\n",
    "tabela = pd.DataFrame(dados, columns=['arquivo','palavra'])\n",
    "tabela"
   ]
  },
  {
   "cell_type": "code",
   "execution_count": 3,
   "metadata": {},
   "outputs": [],
   "source": [
    "tabela.to_csv('data/palavras.csv', index=False,sep='\\t')"
   ]
  },
  {
   "cell_type": "markdown",
   "metadata": {},
   "source": [
    "# ROTULAR DADOS NO FORMATO IOB no sheets"
   ]
  },
  {
   "cell_type": "code",
   "execution_count": 4,
   "metadata": {},
   "outputs": [
    {
     "data": {
      "text/html": [
       "<div>\n",
       "<style scoped>\n",
       "    .dataframe tbody tr th:only-of-type {\n",
       "        vertical-align: middle;\n",
       "    }\n",
       "\n",
       "    .dataframe tbody tr th {\n",
       "        vertical-align: top;\n",
       "    }\n",
       "\n",
       "    .dataframe thead th {\n",
       "        text-align: right;\n",
       "    }\n",
       "</style>\n",
       "<table border=\"1\" class=\"dataframe\">\n",
       "  <thead>\n",
       "    <tr style=\"text-align: right;\">\n",
       "      <th></th>\n",
       "      <th>arquivo</th>\n",
       "      <th>palavra</th>\n",
       "      <th>label</th>\n",
       "    </tr>\n",
       "  </thead>\n",
       "  <tbody>\n",
       "    <tr>\n",
       "      <th>0</th>\n",
       "      <td>TCU4687.txt</td>\n",
       "      <td>GRUPO</td>\n",
       "      <td>O</td>\n",
       "    </tr>\n",
       "    <tr>\n",
       "      <th>1</th>\n",
       "      <td>TCU4687.txt</td>\n",
       "      <td>I</td>\n",
       "      <td>O</td>\n",
       "    </tr>\n",
       "    <tr>\n",
       "      <th>2</th>\n",
       "      <td>TCU4687.txt</td>\n",
       "      <td>CLASSE</td>\n",
       "      <td>O</td>\n",
       "    </tr>\n",
       "    <tr>\n",
       "      <th>3</th>\n",
       "      <td>TCU4687.txt</td>\n",
       "      <td>II</td>\n",
       "      <td>O</td>\n",
       "    </tr>\n",
       "    <tr>\n",
       "      <th>4</th>\n",
       "      <td>TCU4687.txt</td>\n",
       "      <td>2ª</td>\n",
       "      <td>B-ORGANIZACAO</td>\n",
       "    </tr>\n",
       "    <tr>\n",
       "      <th>...</th>\n",
       "      <td>...</td>\n",
       "      <td>...</td>\n",
       "      <td>...</td>\n",
       "    </tr>\n",
       "    <tr>\n",
       "      <th>229272</th>\n",
       "      <td>RR2574407120025020372.txt</td>\n",
       "      <td>de</td>\n",
       "      <td>O</td>\n",
       "    </tr>\n",
       "    <tr>\n",
       "      <th>229273</th>\n",
       "      <td>RR2574407120025020372.txt</td>\n",
       "      <td>Chaves</td>\n",
       "      <td>O</td>\n",
       "    </tr>\n",
       "    <tr>\n",
       "      <th>229274</th>\n",
       "      <td>RR2574407120025020372.txt</td>\n",
       "      <td>Públicas</td>\n",
       "      <td>O</td>\n",
       "    </tr>\n",
       "    <tr>\n",
       "      <th>229275</th>\n",
       "      <td>RR2574407120025020372.txt</td>\n",
       "      <td>Brasileira</td>\n",
       "      <td>O</td>\n",
       "    </tr>\n",
       "    <tr>\n",
       "      <th>229276</th>\n",
       "      <td>RR2574407120025020372.txt</td>\n",
       "      <td>.</td>\n",
       "      <td>O</td>\n",
       "    </tr>\n",
       "  </tbody>\n",
       "</table>\n",
       "<p>229277 rows × 3 columns</p>\n",
       "</div>"
      ],
      "text/plain": [
       "                          arquivo     palavra          label\n",
       "0                     TCU4687.txt       GRUPO              O\n",
       "1                     TCU4687.txt           I              O\n",
       "2                     TCU4687.txt      CLASSE              O\n",
       "3                     TCU4687.txt          II              O\n",
       "4                     TCU4687.txt          2ª  B-ORGANIZACAO\n",
       "...                           ...         ...            ...\n",
       "229272  RR2574407120025020372.txt          de              O\n",
       "229273  RR2574407120025020372.txt      Chaves              O\n",
       "229274  RR2574407120025020372.txt    Públicas              O\n",
       "229275  RR2574407120025020372.txt  Brasileira              O\n",
       "229276  RR2574407120025020372.txt           .              O\n",
       "\n",
       "[229277 rows x 3 columns]"
      ]
     },
     "execution_count": 4,
     "metadata": {},
     "output_type": "execute_result"
    }
   ],
   "source": [
    "dados_rotulados = pd.read_csv('data/palavras_IOB.tsv',sep='\\t')\n",
    "dados_rotulados"
   ]
  },
  {
   "cell_type": "markdown",
   "metadata": {},
   "source": [
    "# Transformar dados para spacy"
   ]
  },
  {
   "cell_type": "code",
   "execution_count": 5,
   "metadata": {},
   "outputs": [],
   "source": [
    "grupos = dados_rotulados.groupby(by='arquivo')"
   ]
  },
  {
   "cell_type": "code",
   "execution_count": 16,
   "metadata": {},
   "outputs": [],
   "source": [
    "documentos=[]\n",
    "for filename in grupos.groups.keys():\n",
    "    tabela_agrupada = grupos.get_group(filename)[['palavra','label']].values\n",
    "\n",
    "    conteudo = ''\n",
    "    anotacoes = {'entities': []}\n",
    "    inicio = 0\n",
    "    final = 0\n",
    "\n",
    "    for texto,label in tabela_agrupada:\n",
    "        texto = str(texto)\n",
    "        inicio = final\n",
    "        final = inicio + len(texto)+1\n",
    "\n",
    "        if label != 'O':\n",
    "            anotacao = (inicio,final-1,label)\n",
    "            anotacoes['entities'].append(anotacao)\n",
    "    \n",
    "        conteudo += texto + ' '\n",
    "    documentos.append((conteudo, anotacoes))"
   ]
  },
  {
   "cell_type": "code",
   "execution_count": 17,
   "metadata": {},
   "outputs": [
    {
     "data": {
      "text/plain": [
       "(\"EMENTA : AÇÃO DE COBRANÇA - INDENIZAÇÃO DO SEGURO DPVAT - INVALIDEZ PERMANENTE PARCIAL INCOMPLETA - SÚMULA 474/STJ - CORREÇÃO MONETÁRIA - SÚMULA 580 DO STJ - JUROS DE MORA - SÚMULA 426/STJ - HONORÁRIOS ADVOCATÍCIOS - INTERESSE PROCESSUAL - REGISTRO DE OCORRÊNCIA - CERCEAMENTO DE DEFESA - PRESCRIÃO - TERMO INICIAL . `` A indenização do seguro DPVAT , em caso de invalidez parcial permanente do beneficiário , será paga de forma proporcional ao grau da invalidez . '' `` A correção monetária nas indenizações do seguro DPVAT por morte ou invalidez , prevista no § 7º do art . 5º da Lei n . 6.194/1974 , redação dada pela Lei n . 11.482/2007 , incide desde a data do evento danoso . '' `` Os juros de mora na indenização do seguro DPVAT fluem a partir da citação . '' Honorários advocatícios que se mostram adequados para o trabalho técnico realizado , natureza e importância da causa , não desafiam modulação redutiva . Contestada a ação , e produzida prova pericial que permite uma justa resolução da pretensão que se mostrou e continua resistida , falar em falta de interesse processual em virtude da ausência de requerimento administrativo prévio , viola os princípios da dignidade da pessoa humana ( art . 1º , III , CF ) e da duração razoável do processo judicial e administrativo e dos meios que garantam a celeridade de sua tramitação ( art . 5º , LXXVIII , CF ) . É que , para uma ação de cobrança de indenização do seguro obrigatório DPVAT proposta em 25/10/2013 , não se pode falar no ano de 2018 , em sede recursal , na falta de interesse processual pela ausência de requerimento administrativo prévio , porquanto procedimento ineficaz diante da resistência técnica da seguradora devedora , que muito se aproveitou do tempo decorrido , tanto que nenhuma oferta de pagamento apresentou no curso do procedimento , em sinal de boa-fé ( art . 5º , CPC ) e colaboração ( art . 6º , CPC ) , e de que a via administrativa seria adequada para evitar o conflito . O cerceamento de defesa não ocorre pela ausência de registro de ocorrência do acidente de trânsito . O termo inicial do prazo prescricional , na ação de cobrança de indenização do seguro obrigatório DPVAT , é a data em que o segurado teve ciência inequívoca do caráter permanente da invalidez . Exceto nos casos de invalidez permanente notória , a ciência inequívoca do caráter permanente da invalidez depende de laudo médico , sendo relativa , a presunção de ciência . Como os documentos clínicos juntados com a inicial não revelam um estado clínico de invalidez notória , forçoso concluir que o segurado somente tomou ciência inequívoca da invalidez parcial com a juntada do laudo pericial em 08/07/2015 , não se podendo falar em prescrição . APELAÇÃO CÍVEL Nº 1.0701.13.039261-9/002 - COMARCA DE UBERABA - APELANTE ( S ) : MAPFRE VERA CRUZ SEGURADORA S/A - APELADO ( A ) ( S ) : MAGNO FABRICIO ALVES A C Ó R D Ã O Vistos etc. , acorda , em Turma , a 12ª CÂMARA CÍVEL do Tribunal de Justiça do Estado de Minas Gerais , na conformidade da ata dos julgamentos , em REJEITAR AS PRELIMINARES e A PREJUDICIAL DE MÉRITO . DAR PARCIAL PROVIMENTO À APELAÇÃO . DES . SALDANHA DA FONSECA RELATOR . DES . SALDANHA DA FONSECA ( RELATOR ) V O T O Recurso próprio e tempestivo . Preliminares Carência da ação - Falta de interesse processual ( f . 221-224 ) A apelante alega que há falta de interesse processual , pois o requerimento administrativo prévio configura condição da ação , que surgiria com a demora ou recusa injustificada do pedido administrativo . O Superior Tribunal de Justiça ( AgRg no REsp 936574/SP , DJe 08/08/2011 ) , para a ação de cobrança do seguro obrigatório DPVAT , tem por assentado que `` O requerimento administrativo prévio constitui requisito essencial para o ingresso da demanda judicial . '' Tal conclusão técnica decorre do fato de que a questão não se refere ao exaurimento da esfera administrativa , a qual , como cediço , não impede o acesso ao judiciário , exceto nos casos excepcionados pela Constituição Federal . Na hipótese , trata-se de requerimento prévio administrativo , requisito essencial para a utilidade da providência jurisdicional , isso porque a provocação do Estado e a posterior concretização do processo não podem ser instrumento de mera consulta , mas sim , meio de aplicação da justiça , como forma de soluções de conflitos . Assim carece de interesse processual a parte que não demonstra ter apresentado requerimento administrativo a fim de obter a vindicação pretendida . Sem embargo , contestada a ação ( f . 41-61 ) e produzida prova pericial ( f . 127-132 ) que permite uma justa resolução da pretensão que se mostrou e continua resistida , falar em falta de interesse processual em virtude da ausência de requerimento administrativo prévio viola os princípios da dignidade da pessoa humana ( art . 1º , III , CF ) e da duração razoável do processo judicial e administrativo e dos meios que garantam a celeridade de sua tramitação ( art . 5º , LXXVIII , CF ) . É que , para uma ação de cobrança de indenização do seguro obrigatório DPVAT proposta em 25/10/2013 ( f . 02v . ) , não se pode falar no ano de 2018 , em sede recursal , na falta de interesse processual pela ausência de requerimento administrativo prévio , porquanto procedimento ineficaz diante da resistência técnica da seguradora devedora , que muito se aproveitou do tempo decorrido , tanto que nenhuma oferta de pagamento apresentou no curso do procedimento ( f . 41-232 ) , em sinal de boa-fé ( art . 5º , CPC ) e colaboração ( art . 6º , CPC ) , e de que a via administrativa seria adequada para evitar o conflito . Nesse contexto , não compreendo caracterizada a situação processual de falta de interesse processual , apesar da falta de requerimento administrativo prévio . Rejeito a preliminar . DES . DOMINGOS COELHO - De acordo com o ( a ) Relator ( a ) . DES . JOSÉ FLÁVIO DE ALMEIDA - De acordo com o ( a ) Relator ( a ) . DES . SALDANHA DA FONSECA ( RELATOR ) : Cerceamento de defesa ( f . 220-221 ) A apelante afirma que na ausência do registro de ocorrência há flagrante cerceamento de defesa da parte ré , tendo em vista que fica impossibilitada de realizar a devida análise quanto à dinâmica do acidente , bem como , quanto aos veículos envolvidos , e assim como não há descrição em detalhes do ocorrido , resta inconclusiva a cobertura do seguro obrigatório DPVAT . A falta de registro de ocorrência não enseja cerceamento de defesa , uma vez que o acidente pode ser apurado por meio de prova outra legítima , situação própria dos documentos médicos juntados ( f . 07-10 ) e prova oral produzida ( f . 186 ) . Note que o apelado foi atingido por um veículo quando conduzia uma bicicleta , cujo condutor não prestou socorro ( f . 186 ) . Dessa forma , não há cerceamento de defesa caracterizado pela ausência de registro de ocorrência do acidente de que foi vítima o apelado ( f . 186 ) . Rejeito a preliminar . DES . DOMINGOS COELHO - De acordo com o ( a ) Relator ( a ) . DES . JOSÉ FLÁVIO DE ALMEIDA - De acordo com o ( a ) Relator ( a ) . DES . SALDANHA DA FONSECA ( RELATOR ) : Prejudicial de mérito Prescrição ( f . 224-227 ) A apelante alega que o sinistro ocorreu em 19/12/2009 , sendo a ação distribuída em 25/10/2013 , restam operados os efeitos da prescrição quinquenal ( art . 206 , § 3º , IX , CC e Súmula 405 , STJ ) . Os documentos particulares acostados aos autos não afastam a prescrição , em conformidade com as Súmulas 278 e 573 , STJ . Não esclarecida pela prova pericial uma data real da ciência inequívoca da suposta invalidez alegada na inicial , não há razões para afastar a ocorrência da prescrição . O Superior Tribunal de Justiça , em recursos repetitivos ( REsp 1418347/MG , DJe 15/04/2015 ( Tema : 883 ) e REsp 1388030 / MG , DJe 01/08/2014 ( Temas : 668 e 875 ) ) , deixou assentado : RECURSO ESPECIAL . REPRESENTATIVO DA CONTROVÉRSIA . AÇÃO DE COBRANÇA . SEGURO OBRIGATÓRIO . DPVAT . COMPLEMENTAÇÃO DE VALOR . PRESCRIÇÃO . PRAZO TRIENAL . SÚMULA Nº 405/STJ . TERMO INICIAL . PAGAMENTO PARCIAL . 1 . A pretensão de cobrança e a pretensão a diferenças de valores do seguro obrigatório ( DPVAT ) prescrevem em três anos , sendo o termo inicial , no último caso , o pagamento administrativo considerado a menor . 2 . Recurso especial provido . Acórdão submetido ao regime do art . 543-C do CPC e da Resolução/STJ nº 8/2008 . RECURSO ESPECIAL REPRESENTATIVO DA CONTROVÉRSIA . CIVIL E PROCESSUAL CIVIL . SEGURO DPVAT . TERMO INICIAL DA PRESCRIÇÃO . CIÊNCIA INEQUÍVOCA DO CARÁTER PERMANENTE DA INVALIDEZ . NECESSIDADE DE LAUDO MÉDICO . 1 . Para fins do art . 543-C do CPC : 1.1 . O termo inicial do prazo prescricional , na ação de indenização , é a data em que o segurado teve ciência inequívoca do caráter permanente da invalidez . 1.2 . Exceto nos casos de invalidez permanente notória , a ciência inequívoca do caráter permanente da invalidez depende de laudo médico , sendo relativa a presunção de ciência . 2 . Caso concreto : Inocorrência de prescrição , não obstante a apresentação de laudo elaborado quatro anos após o acidente . 3 . RECURSO ESPECIAL DESPROVIDO . Portanto , o termo inicial do prazo prescricional , na ação de cobrança de indenização do seguro obrigatório DPVAT , é a data em que o segurado teve ciência inequívoca do caráter permanente da invalidez . Exceto nos casos de invalidez permanente notória , a ciência inequívoca do caráter permanente da invalidez depende de laudo médico , sendo relativa , a presunção de ciência . Como os documentos clínicos juntados com a inicial ( f . 07-10 ) não revelam para o apelado um estado clínico de invalidez notória , forçoso concluir que somente tomou ciência inequívoca da invalidez parcial com a juntada do laudo pericial em 08/07/2015 ( f . 126 ) , não se podendo falar em prescrição . Rejeito a prejudicial de mérito . DES . DOMINGOS COELHO - De acordo com o ( a ) Relator ( a ) . DES . JOSÉ FLÁVIO DE ALMEIDA - De acordo com o ( a ) Relator ( a ) . DES . SALDANHA DA FONSECA ( RELATOR ) : Mérito ( f . 227-232 ) A análise dos autos revela que o apelado requer em face da apelante uma tutela jurídica de indenização do seguro obrigatório DPVAT . Alega que sofreu acidente automobilístico que acarretou invalidez permanente e total de membro superior direito . Faz jus ao recebimento da indenização prevista no art . 8º da Lei nº 11.782 , de 31/03/2007 , com as limitações impostas pelo art . 31 da Lei nº 11.945 , de 04/06/2009 . Requer o pagamento da indenização do seguro obrigatório DPVAT ou de sua diferença , acaso apurado algum pagamento na via administrativa , em liquidação de sentença , após a realização de perícia médica , com correção monetária e juros de mora . Prova pericial produzida ( f . 122-132 ) . Prova oral produzida ( f . 185-186 ) . Pedido julgado procedente , para condenar a ré a pagar ao autor , a título de indenização securitária , a quantia de R $ 7.087,50 , com correção monetária calculada pelos índices divulgados pela Corregedoria Geral de Justiça , a partir do evento danoso , 19/12/2009 , e juros moratórios de 1 % ao mês , contados da citação ( f . 40 ) , nos termos da Súmula 426 do STJ , ficando extinto o processo com resolução de mérito , com base no art . 487 , I , CPC ( f . 212-215v . ) . A apelante sustenta que o apelado não apresenta provas para corroborar a veracidade dos fatos alegados , uma vez que da narração destes , sopesados os documentos juntados , não se alcança a conclusão que sustente a pretensão indenizatória . O pleito autoral deve ser rechaçado , já que não existe comprovação do nexo causal com o evento , e ausente o registro de ocorrência , não há como , apenas com a narrativa dos fatos , alcançar conclusão lógica necessária a suportar a demanda . A indenização deverá ser nos termos da Súmula 474 , STJ . A indenização se mostra calculada de forma errada , enquanto os juros de mora fluem a partir da citação . Os honorários de sucumbência não devem ultrapassar o patamar de 10 % sobre o valor da condenação . O Seguro Obrigatório de Danos Pessoais Causados por Veículos Automotores de vias Terrestres , ou por sua Carga , a Pessoas Transportadas ou Não ( seguro DPVAT ) , tem por finalidade amparar as vítimas de acidentes de trânsito em todo o território nacional , não importando de quem seja a culpa dos acidentes . A cobertura invalidez permanente decorre de acidente de trânsito no qual a vítima venha a se invalidar permanentemente em virtude do acidente , desde que esteja terminado o tratamento e seja definitivo o caráter da invalidez . A quantia apura-se tomando por base o percentual da incapacidade de que for portadora a vítima , de acordo com a tabela de Danos Corporais Totais , constante do anexo à Lei n . 6.194/74 ( Súmula 474/STJ ) , tendo como indenização máxima a importância segurada vigente à época do sinistro ( art . 3º , § 1º , I e II , Lei n . 6.194/74 ) . Ao Instituto Médico Legal da jurisdição do acidente ou da residência cumpre fornecer , no prazo de 90 dias , laudo à vítima ( art . 5º , § 5º , Lei n . 6.194/74 ) , função técnica que pode ser suprida por prova pericial realizada por ordem do juízo da causa , ou por prova técnica realizada no âmbito administrativo que se mostre coerente com os demais elementos de prova constante dos autos . É necessário perceber que a Lei nº 6.194/1974 fixa indenização para o caso de óbito equivalente a R $ 13.500,00 e para o caso de invalidez permanente de até R $ 13.500,00 , pois , nesse caso , o capital segurado varia conforme tabela anexa , sendo a indenização proporcional à perda funcional quantificada . Aliás , equiparar o capital segurado para o caso de óbito com o capital segurado para invalidez permanente é não aplicar a lei em seus devidos termos técnicos , mas conforme melhor interesse individual , em flagrante lesão ao caráter social do seguro obrigatório , verdadeiro ato de fraude social ( Súmula 474/STJ ) . A prova produzida em contraditório judicial ( f . 07-10 , f . 127-132 e f . 186 ) corrobora a veracidade dos fatos alegados pelo apelado , apesar da apelante afirmar o contrário . Note que há identificação da lesão do membro superior direito , de grau intenso , e do nexo de causalidade . Dessa maneira , a apelante não acerta ao dizer que o pleito autoral deve ser rechaçado , por não existir comprovação do nexo causal com o evento . O apelado teve identificado um dano anatômico parcial incompleto no membro superior direito , intensidade de 75 % , com sequelas em punho , que resultou num percentual final de invalidez de 52,5 % ( f . 130 ) . A sentença recorrida identificou devida uma indenização de R $ 7.087,50 ( f . 214-215v . ) , quantia impugnada pelo apelante , com base na Súmula 474 do STJ . Como a prova pericial declara que o apelado está acometido de `` Invalidez permanente e parcial '' ( f . 132 ) , cujo percentual final de redução funcional de punho e membro superior direito é de 52,5 % ( f . 130 ) , aplicado o disposto o art . 3º , § 1º , I e II , da Lei nº 6.194/74 , a indenização devida é de R $ 4.961,25 ( R $ 13.500,00 x 70 % = R $ 9.450,00 - capital segurado ( art . 3º , § 1º , I , da Lei nº 6.194/74 ) ) x 52,5 % = R $ 4.961,25 ( R $ 9.450,00 ( capital segurado ) x 52,5 % = R $ 4.961,25 - indenização devida ( art . 3º , § 1º , II , da Lei nº 6.194/74 ) ) . Dessa maneira , o apelado tem a receber da apelante pelo `` por redução funcional em graus intenso de punho e membro superior direito '' a quantia de R $ 4.961,25 ( art . 3º , § 1º , I e II , da Lei nº 6.194/74 ) . O Superior Tribunal de Justiça , no Recurso Especial 1483620/SC , DJe 02/06/2015 , recurso repetitivo , deixou assentado : RECURSO ESPECIAL REPETITIVO . CIVIL . SEGURO DPVAT . INDENIZAÇÃO . ATUALIZAÇÃO MONETÁRIA . TERMO 'A QUO ' . DATA DO EVENTO DANOSO . ART . 543-C DO CPC . 1 . Polêmica em torno da forma de atualização monetária das indenizações previstas no art . 3º da Lei 6.194/74 , com redação dada pela Medida Provisória n . 340/2006 , convertida na Lei 11.482/07 , em face da omissão legislativa acerca da incidência de correção monetária . 2 . Controvérsia em torno da existência de omissão legislativa ou de silêncio eloquente da lei . 3 . Manifestação expressa do STF , ao analisar a ausência de menção ao direito de correção monetária no art . 3º da Lei nº 6.194/74 , com a redação da Lei nº 11.482/2007 , no sentido da inexistência de inconstitucionalidade por omissão ( ADI 4.350/DF ) . 4 . Para os fins do art . 543-C do CPC : A incidência de atualização monetária nas indenizações por morte ou invalidez do seguro DPVAT , prevista no § 7º do art . 5º da Lei n . 6194/74 , redação dada pela Lei n . 11.482/2007 , opera-se desde a data do evento danoso . 5 . Aplicação da tese ao caso concreto para estabelecer como termo inicial da correção monetária a data do evento danoso . 6 . RECURSO ESPECIAL PROVIDO . Destarte , `` A correção monetária nas indenizações do seguro DPVAT por morte ou invalidez , prevista no § 7º do art . 5º da Lei n . 6.194/1974 , redação dada pela Lei n . 11.482/2007 , incide desde a data do evento danoso . '' ( Súmula 580/STJ ) . `` Os juros de mora na indenização do seguro DPVAT fluem a partir da citação . '' ( Súmula 426/STJ ) . A sentença recorrida assim decidiu ( f . 44 ) . A sucumbência se mantém inalterada , porquanto tutelada a pretensão do apelado de recebimento de indenização do seguro obrigatório DPVAT conforme lesão suportada , apurada por meio de prova pericial produzida em contraditório judicial ( f . 98-99v . e f . 124-126 ) . Os honorários advocatícios arbitrados no percentual de 15 % sobre o valor da condenação ( f . 215v . ) não desafiam redução , porquanto adequados para o trabalho técnico realizado , natureza e importância da causa ( art . 85 , § 2º , CPC ) . Dispositivo Com tais razões , DOU PARCIAL PROVIMENTO à apelação , para determinar que a apelante pague para o apelado uma indenização do seguro obrigatório DPVAT no importe de R $ 4.961,25 , com correção monetária calculada pelos índices divulgados pela Corregedoria Geral de Justiça , a partir do evento danoso ( 19/12/2009 ) e juros de mora de 1 % ao mês , contados da citação ; manter a sucumbência aplicada ( f . 215-215v . ) e condenar o apelado ao pagamento das custas recursais , e dos honorários advocatícios finais ( art . 85 , §§ 2º e 11 , CPC ) de 2 % do valor total da condenação ( f . 215v . ) , suspensa a exigibilidade em razão da gratuidade da justiça ( art . 98 , § 3º , CPC ) . DES . DOMINGOS COELHO - De acordo com o ( a ) Relator ( a ) . DES . JOSÉ FLÁVIO DE ALMEIDA - De acordo com o ( a ) Relator ( a ) . SÚMULA : `` REJEITARAM AS PRELIMINARES E A PREJUDICIAL DE MÉRITO . DERAM PARCIAL PROVIMENTO A APELAÇÃO . '' \",\n",
       " {'entities': [(100, 106, 'B-JURISPRUDENCIA'),\n",
       "   (107, 114, 'I-JURISPRUDENCIA'),\n",
       "   (138, 144, 'B-JURISPRUDENCIA'),\n",
       "   (145, 148, 'I-JURISPRUDENCIA'),\n",
       "   (149, 151, 'I-JURISPRUDENCIA'),\n",
       "   (152, 155, 'I-JURISPRUDENCIA'),\n",
       "   (174, 180, 'B-JURISPRUDENCIA'),\n",
       "   (181, 188, 'I-JURISPRUDENCIA'),\n",
       "   (562, 563, 'B-LEGISLACAO'),\n",
       "   (564, 566, 'I-LEGISLACAO'),\n",
       "   (567, 569, 'I-LEGISLACAO'),\n",
       "   (570, 573, 'I-LEGISLACAO'),\n",
       "   (574, 575, 'I-LEGISLACAO'),\n",
       "   (576, 578, 'I-LEGISLACAO'),\n",
       "   (579, 581, 'I-LEGISLACAO'),\n",
       "   (582, 585, 'I-LEGISLACAO'),\n",
       "   (586, 587, 'I-LEGISLACAO'),\n",
       "   (588, 589, 'I-LEGISLACAO'),\n",
       "   (590, 600, 'I-LEGISLACAO'),\n",
       "   (621, 624, 'B-LEGISLACAO'),\n",
       "   (625, 626, 'I-LEGISLACAO'),\n",
       "   (627, 628, 'I-LEGISLACAO'),\n",
       "   (629, 640, 'I-LEGISLACAO'),\n",
       "   (1204, 1207, 'B-LEGISLACAO'),\n",
       "   (1208, 1209, 'I-LEGISLACAO'),\n",
       "   (1210, 1212, 'I-LEGISLACAO'),\n",
       "   (1213, 1214, 'I-LEGISLACAO'),\n",
       "   (1215, 1218, 'I-LEGISLACAO'),\n",
       "   (1219, 1220, 'I-LEGISLACAO'),\n",
       "   (1221, 1223, 'I-LEGISLACAO'),\n",
       "   (1344, 1347, 'B-LEGISLACAO'),\n",
       "   (1348, 1349, 'I-LEGISLACAO'),\n",
       "   (1350, 1352, 'I-LEGISLACAO'),\n",
       "   (1353, 1354, 'I-LEGISLACAO'),\n",
       "   (1355, 1362, 'I-LEGISLACAO'),\n",
       "   (1363, 1364, 'I-LEGISLACAO'),\n",
       "   (1365, 1367, 'I-LEGISLACAO'),\n",
       "   (1461, 1471, 'B-TEMPO'),\n",
       "   (1495, 1498, 'B-TEMPO'),\n",
       "   (1499, 1501, 'I-TEMPO'),\n",
       "   (1502, 1506, 'I-TEMPO'),\n",
       "   (1844, 1847, 'B-LEGISLACAO'),\n",
       "   (1848, 1849, 'I-LEGISLACAO'),\n",
       "   (1850, 1852, 'I-LEGISLACAO'),\n",
       "   (1853, 1854, 'I-LEGISLACAO'),\n",
       "   (1855, 1858, 'I-LEGISLACAO'),\n",
       "   (1877, 1880, 'B-LEGISLACAO'),\n",
       "   (1881, 1882, 'I-LEGISLACAO'),\n",
       "   (1883, 1885, 'I-LEGISLACAO'),\n",
       "   (1886, 1887, 'I-LEGISLACAO'),\n",
       "   (1888, 1891, 'I-LEGISLACAO'),\n",
       "   (2661, 2671, 'B-TEMPO'),\n",
       "   (2711, 2719, 'B-JURISPRUDENCIA'),\n",
       "   (2720, 2725, 'I-JURISPRUDENCIA'),\n",
       "   (2726, 2728, 'I-JURISPRUDENCIA'),\n",
       "   (2729, 2751, 'I-JURISPRUDENCIA'),\n",
       "   (2754, 2761, 'B-LOCAL'),\n",
       "   (2762, 2764, 'I-LOCAL'),\n",
       "   (2765, 2772, 'I-LOCAL'),\n",
       "   (2792, 2798, 'B-ORGANIZACAO'),\n",
       "   (2799, 2803, 'I-ORGANIZACAO'),\n",
       "   (2804, 2808, 'I-ORGANIZACAO'),\n",
       "   (2809, 2819, 'I-ORGANIZACAO'),\n",
       "   (2820, 2823, 'I-ORGANIZACAO'),\n",
       "   (2848, 2853, 'B-PESSOA'),\n",
       "   (2854, 2862, 'I-PESSOA'),\n",
       "   (2863, 2868, 'I-PESSOA'),\n",
       "   (2919, 2922, 'B-ORGANIZACAO'),\n",
       "   (2923, 2929, 'I-ORGANIZACAO'),\n",
       "   (2930, 2935, 'I-ORGANIZACAO'),\n",
       "   (2936, 2938, 'I-ORGANIZACAO'),\n",
       "   (2939, 2947, 'I-ORGANIZACAO'),\n",
       "   (2948, 2950, 'I-ORGANIZACAO'),\n",
       "   (2951, 2958, 'I-ORGANIZACAO'),\n",
       "   (2959, 2961, 'I-ORGANIZACAO'),\n",
       "   (2962, 2968, 'I-ORGANIZACAO'),\n",
       "   (2969, 2971, 'I-ORGANIZACAO'),\n",
       "   (2972, 2977, 'I-ORGANIZACAO'),\n",
       "   (2978, 2984, 'I-ORGANIZACAO'),\n",
       "   (3126, 3134, 'B-PESSOA'),\n",
       "   (3135, 3137, 'I-PESSOA'),\n",
       "   (3138, 3145, 'I-PESSOA'),\n",
       "   (3162, 3170, 'B-PESSOA'),\n",
       "   (3171, 3173, 'I-PESSOA'),\n",
       "   (3174, 3181, 'I-PESSOA'),\n",
       "   (3517, 3525, 'B-ORGANIZACAO'),\n",
       "   (3526, 3534, 'I-ORGANIZACAO'),\n",
       "   (3535, 3537, 'I-ORGANIZACAO'),\n",
       "   (3538, 3545, 'I-ORGANIZACAO'),\n",
       "   (3548, 3552, 'B-JURISPRUDENCIA'),\n",
       "   (3553, 3555, 'I-JURISPRUDENCIA'),\n",
       "   (3556, 3560, 'I-JURISPRUDENCIA'),\n",
       "   (3561, 3570, 'I-JURISPRUDENCIA'),\n",
       "   (3577, 3587, 'B-TEMPO'),\n",
       "   (3985, 3997, 'B-LEGISLACAO'),\n",
       "   (3998, 4005, 'I-LEGISLACAO'),\n",
       "   (4810, 4813, 'B-LEGISLACAO'),\n",
       "   (4814, 4815, 'I-LEGISLACAO'),\n",
       "   (4816, 4818, 'I-LEGISLACAO'),\n",
       "   (4819, 4820, 'I-LEGISLACAO'),\n",
       "   (4821, 4824, 'I-LEGISLACAO'),\n",
       "   (4825, 4826, 'I-LEGISLACAO'),\n",
       "   (4827, 4829, 'I-LEGISLACAO'),\n",
       "   (4950, 4953, 'B-LEGISLACAO'),\n",
       "   (4954, 4955, 'I-LEGISLACAO'),\n",
       "   (4956, 4958, 'I-LEGISLACAO'),\n",
       "   (4959, 4960, 'I-LEGISLACAO'),\n",
       "   (4961, 4968, 'I-LEGISLACAO'),\n",
       "   (4969, 4970, 'I-LEGISLACAO'),\n",
       "   (4971, 4973, 'I-LEGISLACAO'),\n",
       "   (5067, 5077, 'B-TEMPO'),\n",
       "   (5115, 5118, 'B-TEMPO'),\n",
       "   (5119, 5121, 'I-TEMPO'),\n",
       "   (5122, 5126, 'I-TEMPO'),\n",
       "   (5479, 5482, 'B-LEGISLACAO'),\n",
       "   (5483, 5484, 'I-LEGISLACAO'),\n",
       "   (5485, 5487, 'I-LEGISLACAO'),\n",
       "   (5488, 5489, 'I-LEGISLACAO'),\n",
       "   (5490, 5493, 'I-LEGISLACAO'),\n",
       "   (5512, 5515, 'B-LEGISLACAO'),\n",
       "   (5516, 5517, 'I-LEGISLACAO'),\n",
       "   (5518, 5520, 'I-LEGISLACAO'),\n",
       "   (5521, 5522, 'I-LEGISLACAO'),\n",
       "   (5523, 5526, 'I-LEGISLACAO'),\n",
       "   (5789, 5797, 'B-PESSOA'),\n",
       "   (5798, 5804, 'I-PESSOA'),\n",
       "   (5851, 5855, 'B-PESSOA'),\n",
       "   (5856, 5862, 'I-PESSOA'),\n",
       "   (5863, 5865, 'I-PESSOA'),\n",
       "   (5866, 5873, 'I-PESSOA'),\n",
       "   (5920, 5928, 'B-PESSOA'),\n",
       "   (5929, 5931, 'I-PESSOA'),\n",
       "   (5932, 5939, 'I-PESSOA'),\n",
       "   (6914, 6922, 'B-PESSOA'),\n",
       "   (6923, 6929, 'I-PESSOA'),\n",
       "   (6976, 6980, 'B-PESSOA'),\n",
       "   (6981, 6987, 'I-PESSOA'),\n",
       "   (6988, 6990, 'I-PESSOA'),\n",
       "   (6991, 6998, 'I-PESSOA'),\n",
       "   (7045, 7053, 'B-PESSOA'),\n",
       "   (7054, 7056, 'I-PESSOA'),\n",
       "   (7057, 7064, 'I-PESSOA'),\n",
       "   (7171, 7181, 'B-TEMPO'),\n",
       "   (7212, 7222, 'B-TEMPO'),\n",
       "   (7279, 7282, 'B-LEGISLACAO'),\n",
       "   (7283, 7284, 'I-LEGISLACAO'),\n",
       "   (7285, 7288, 'I-LEGISLACAO'),\n",
       "   (7289, 7290, 'I-LEGISLACAO'),\n",
       "   (7291, 7292, 'I-LEGISLACAO'),\n",
       "   (7293, 7295, 'I-LEGISLACAO'),\n",
       "   (7296, 7297, 'I-LEGISLACAO'),\n",
       "   (7298, 7300, 'I-LEGISLACAO'),\n",
       "   (7301, 7302, 'I-LEGISLACAO'),\n",
       "   (7303, 7305, 'I-LEGISLACAO'),\n",
       "   (7308, 7314, 'B-JURISPRUDENCIA'),\n",
       "   (7315, 7318, 'I-JURISPRUDENCIA'),\n",
       "   (7319, 7320, 'I-JURISPRUDENCIA'),\n",
       "   (7321, 7324, 'I-JURISPRUDENCIA'),\n",
       "   (7426, 7433, 'B-JURISPRUDENCIA'),\n",
       "   (7434, 7437, 'I-JURISPRUDENCIA'),\n",
       "   (7438, 7439, 'I-JURISPRUDENCIA'),\n",
       "   (7440, 7443, 'I-JURISPRUDENCIA'),\n",
       "   (7444, 7445, 'I-JURISPRUDENCIA'),\n",
       "   (7446, 7449, 'I-JURISPRUDENCIA'),\n",
       "   (7624, 7632, 'B-ORGANIZACAO'),\n",
       "   (7633, 7641, 'I-ORGANIZACAO'),\n",
       "   (7642, 7644, 'I-ORGANIZACAO'),\n",
       "   (7645, 7652, 'I-ORGANIZACAO'),\n",
       "   (7681, 7685, 'B-JURISPRUDENCIA'),\n",
       "   (7686, 7696, 'I-JURISPRUDENCIA'),\n",
       "   (7703, 7713, 'B-TEMPO'),\n",
       "   (7731, 7735, 'B-JURISPRUDENCIA'),\n",
       "   (7736, 7743, 'I-JURISPRUDENCIA'),\n",
       "   (7744, 7745, 'I-JURISPRUDENCIA'),\n",
       "   (7746, 7748, 'I-JURISPRUDENCIA'),\n",
       "   (7755, 7765, 'B-TEMPO'),\n",
       "   (7966, 7972, 'B-JURISPRUDENCIA'),\n",
       "   (7973, 7975, 'I-JURISPRUDENCIA'),\n",
       "   (7976, 7983, 'I-JURISPRUDENCIA'),\n",
       "   (8298, 8301, 'B-LEGISLACAO'),\n",
       "   (8302, 8303, 'I-LEGISLACAO'),\n",
       "   (8304, 8309, 'I-LEGISLACAO'),\n",
       "   (8310, 8312, 'I-LEGISLACAO'),\n",
       "   (8313, 8316, 'I-LEGISLACAO'),\n",
       "   (8322, 8335, 'B-LEGISLACAO'),\n",
       "   (8336, 8338, 'I-LEGISLACAO'),\n",
       "   (8339, 8345, 'I-LEGISLACAO'),\n",
       "   (8573, 8576, 'B-LEGISLACAO'),\n",
       "   (8577, 8578, 'I-LEGISLACAO'),\n",
       "   (8579, 8584, 'I-LEGISLACAO'),\n",
       "   (8585, 8587, 'I-LEGISLACAO'),\n",
       "   (8588, 8591, 'I-LEGISLACAO'),\n",
       "   (9716, 9726, 'B-TEMPO'),\n",
       "   (9818, 9826, 'B-PESSOA'),\n",
       "   (9827, 9833, 'I-PESSOA'),\n",
       "   (9880, 9884, 'B-PESSOA'),\n",
       "   (9885, 9891, 'I-PESSOA'),\n",
       "   (9892, 9894, 'I-PESSOA'),\n",
       "   (9895, 9902, 'I-PESSOA'),\n",
       "   (9949, 9957, 'B-PESSOA'),\n",
       "   (9958, 9960, 'I-PESSOA'),\n",
       "   (9961, 9968, 'I-PESSOA'),\n",
       "   (10303, 10306, 'B-LEGISLACAO'),\n",
       "   (10307, 10308, 'I-LEGISLACAO'),\n",
       "   (10309, 10311, 'I-LEGISLACAO'),\n",
       "   (10312, 10314, 'I-LEGISLACAO'),\n",
       "   (10315, 10318, 'I-LEGISLACAO'),\n",
       "   (10319, 10321, 'I-LEGISLACAO'),\n",
       "   (10322, 10328, 'I-LEGISLACAO'),\n",
       "   (10334, 10344, 'B-TEMPO'),\n",
       "   (10379, 10382, 'B-LEGISLACAO'),\n",
       "   (10383, 10384, 'I-LEGISLACAO'),\n",
       "   (10385, 10387, 'I-LEGISLACAO'),\n",
       "   (10388, 10390, 'I-LEGISLACAO'),\n",
       "   (10391, 10394, 'I-LEGISLACAO'),\n",
       "   (10395, 10397, 'I-LEGISLACAO'),\n",
       "   (10398, 10404, 'I-LEGISLACAO'),\n",
       "   (10410, 10420, 'B-TEMPO'),\n",
       "   (10945, 10957, 'B-ORGANIZACAO'),\n",
       "   (10958, 10963, 'I-ORGANIZACAO'),\n",
       "   (10964, 10966, 'I-ORGANIZACAO'),\n",
       "   (10967, 10974, 'I-ORGANIZACAO'),\n",
       "   (11005, 11015, 'B-TEMPO'),\n",
       "   (11100, 11106, 'B-JURISPRUDENCIA'),\n",
       "   (11107, 11110, 'I-JURISPRUDENCIA'),\n",
       "   (11111, 11113, 'I-JURISPRUDENCIA'),\n",
       "   (11114, 11117, 'I-JURISPRUDENCIA'),\n",
       "   (11185, 11188, 'B-LEGISLACAO'),\n",
       "   (11189, 11190, 'I-LEGISLACAO'),\n",
       "   (11191, 11194, 'I-LEGISLACAO'),\n",
       "   (11195, 11196, 'I-LEGISLACAO'),\n",
       "   (11197, 11198, 'I-LEGISLACAO'),\n",
       "   (11199, 11200, 'I-LEGISLACAO'),\n",
       "   (11201, 11204, 'I-LEGISLACAO'),\n",
       "   (11750, 11756, 'B-JURISPRUDENCIA'),\n",
       "   (11757, 11760, 'I-JURISPRUDENCIA'),\n",
       "   (11761, 11762, 'I-JURISPRUDENCIA'),\n",
       "   (11763, 11766, 'I-JURISPRUDENCIA'),\n",
       "   (12680, 12683, 'B-LEGISLACAO'),\n",
       "   (12684, 12685, 'I-LEGISLACAO'),\n",
       "   (12686, 12687, 'I-LEGISLACAO'),\n",
       "   (12688, 12696, 'I-LEGISLACAO'),\n",
       "   (12699, 12705, 'B-JURISPRUDENCIA'),\n",
       "   (12706, 12713, 'I-JURISPRUDENCIA'),\n",
       "   (12801, 12804, 'B-LEGISLACAO'),\n",
       "   (12805, 12806, 'I-LEGISLACAO'),\n",
       "   (12807, 12809, 'I-LEGISLACAO'),\n",
       "   (12810, 12811, 'I-LEGISLACAO'),\n",
       "   (12812, 12813, 'I-LEGISLACAO'),\n",
       "   (12814, 12816, 'I-LEGISLACAO'),\n",
       "   (12817, 12818, 'I-LEGISLACAO'),\n",
       "   (12819, 12820, 'I-LEGISLACAO'),\n",
       "   (12821, 12822, 'I-LEGISLACAO'),\n",
       "   (12823, 12825, 'I-LEGISLACAO'),\n",
       "   (12826, 12827, 'I-LEGISLACAO'),\n",
       "   (12828, 12831, 'I-LEGISLACAO'),\n",
       "   (12832, 12833, 'I-LEGISLACAO'),\n",
       "   (12834, 12835, 'I-LEGISLACAO'),\n",
       "   (12836, 12844, 'I-LEGISLACAO'),\n",
       "   (12852, 12861, 'B-ORGANIZACAO'),\n",
       "   (12862, 12868, 'I-ORGANIZACAO'),\n",
       "   (12869, 12874, 'I-ORGANIZACAO'),\n",
       "   (12975, 12978, 'B-LEGISLACAO'),\n",
       "   (12979, 12980, 'I-LEGISLACAO'),\n",
       "   (12981, 12983, 'I-LEGISLACAO'),\n",
       "   (12984, 12985, 'I-LEGISLACAO'),\n",
       "   (12986, 12987, 'I-LEGISLACAO'),\n",
       "   (12988, 12990, 'I-LEGISLACAO'),\n",
       "   (12991, 12992, 'I-LEGISLACAO'),\n",
       "   (12993, 12996, 'I-LEGISLACAO'),\n",
       "   (12997, 12998, 'I-LEGISLACAO'),\n",
       "   (12999, 13000, 'I-LEGISLACAO'),\n",
       "   (13001, 13009, 'I-LEGISLACAO'),\n",
       "   (13271, 13274, 'B-LEGISLACAO'),\n",
       "   (13275, 13277, 'I-LEGISLACAO'),\n",
       "   (13278, 13288, 'I-LEGISLACAO'),\n",
       "   (13850, 13856, 'B-JURISPRUDENCIA'),\n",
       "   (13857, 13864, 'I-JURISPRUDENCIA'),\n",
       "   (14655, 14661, 'B-JURISPRUDENCIA'),\n",
       "   (14662, 14665, 'I-JURISPRUDENCIA'),\n",
       "   (14666, 14668, 'I-JURISPRUDENCIA'),\n",
       "   (14669, 14672, 'I-JURISPRUDENCIA'),\n",
       "   (14914, 14917, 'B-LEGISLACAO'),\n",
       "   (14918, 14919, 'I-LEGISLACAO'),\n",
       "   (14920, 14922, 'I-LEGISLACAO'),\n",
       "   (14923, 14924, 'I-LEGISLACAO'),\n",
       "   (14925, 14926, 'I-LEGISLACAO'),\n",
       "   (14927, 14929, 'I-LEGISLACAO'),\n",
       "   (14930, 14931, 'I-LEGISLACAO'),\n",
       "   (14932, 14933, 'I-LEGISLACAO'),\n",
       "   (14934, 14935, 'I-LEGISLACAO'),\n",
       "   (14936, 14938, 'I-LEGISLACAO'),\n",
       "   (14939, 14940, 'I-LEGISLACAO'),\n",
       "   (14941, 14943, 'I-LEGISLACAO'),\n",
       "   (14944, 14947, 'I-LEGISLACAO'),\n",
       "   (14948, 14950, 'I-LEGISLACAO'),\n",
       "   (14951, 14959, 'I-LEGISLACAO'),\n",
       "   (15060, 15063, 'B-LEGISLACAO'),\n",
       "   (15064, 15065, 'I-LEGISLACAO'),\n",
       "   (15066, 15068, 'I-LEGISLACAO'),\n",
       "   (15069, 15070, 'I-LEGISLACAO'),\n",
       "   (15071, 15072, 'I-LEGISLACAO'),\n",
       "   (15073, 15075, 'I-LEGISLACAO'),\n",
       "   (15076, 15077, 'I-LEGISLACAO'),\n",
       "   (15078, 15079, 'I-LEGISLACAO'),\n",
       "   (15080, 15081, 'I-LEGISLACAO'),\n",
       "   (15082, 15084, 'I-LEGISLACAO'),\n",
       "   (15085, 15088, 'I-LEGISLACAO'),\n",
       "   (15089, 15091, 'I-LEGISLACAO'),\n",
       "   (15092, 15100, 'I-LEGISLACAO'),\n",
       "   (15212, 15215, 'B-LEGISLACAO'),\n",
       "   (15216, 15217, 'I-LEGISLACAO'),\n",
       "   (15218, 15220, 'I-LEGISLACAO'),\n",
       "   (15221, 15222, 'I-LEGISLACAO'),\n",
       "   (15223, 15224, 'I-LEGISLACAO'),\n",
       "   (15225, 15227, 'I-LEGISLACAO'),\n",
       "   (15228, 15229, 'I-LEGISLACAO'),\n",
       "   (15230, 15232, 'I-LEGISLACAO'),\n",
       "   (15233, 15234, 'I-LEGISLACAO'),\n",
       "   (15235, 15237, 'I-LEGISLACAO'),\n",
       "   (15238, 15241, 'I-LEGISLACAO'),\n",
       "   (15242, 15244, 'I-LEGISLACAO'),\n",
       "   (15245, 15253, 'I-LEGISLACAO'),\n",
       "   (15425, 15428, 'B-LEGISLACAO'),\n",
       "   (15429, 15430, 'I-LEGISLACAO'),\n",
       "   (15431, 15433, 'I-LEGISLACAO'),\n",
       "   (15434, 15435, 'I-LEGISLACAO'),\n",
       "   (15436, 15437, 'I-LEGISLACAO'),\n",
       "   (15438, 15440, 'I-LEGISLACAO'),\n",
       "   (15441, 15442, 'I-LEGISLACAO'),\n",
       "   (15443, 15444, 'I-LEGISLACAO'),\n",
       "   (15445, 15446, 'I-LEGISLACAO'),\n",
       "   (15447, 15449, 'I-LEGISLACAO'),\n",
       "   (15450, 15451, 'I-LEGISLACAO'),\n",
       "   (15452, 15454, 'I-LEGISLACAO'),\n",
       "   (15455, 15458, 'I-LEGISLACAO'),\n",
       "   (15459, 15461, 'I-LEGISLACAO'),\n",
       "   (15462, 15470, 'I-LEGISLACAO'),\n",
       "   (15477, 15485, 'B-ORGANIZACAO'),\n",
       "   (15486, 15494, 'I-ORGANIZACAO'),\n",
       "   (15495, 15497, 'I-ORGANIZACAO'),\n",
       "   (15498, 15505, 'I-ORGANIZACAO'),\n",
       "   (15511, 15518, 'B-JURISPRUDENCIA'),\n",
       "   (15519, 15527, 'I-JURISPRUDENCIA'),\n",
       "   (15528, 15538, 'I-JURISPRUDENCIA'),\n",
       "   (15545, 15555, 'B-TEMPO'),\n",
       "   (15730, 15733, 'B-LEGISLACAO'),\n",
       "   (15734, 15735, 'I-LEGISLACAO'),\n",
       "   (15736, 15741, 'I-LEGISLACAO'),\n",
       "   (15742, 15744, 'I-LEGISLACAO'),\n",
       "   (15745, 15748, 'I-LEGISLACAO'),\n",
       "   (15837, 15840, 'B-LEGISLACAO'),\n",
       "   (15841, 15842, 'I-LEGISLACAO'),\n",
       "   (15843, 15845, 'I-LEGISLACAO'),\n",
       "   (15846, 15848, 'I-LEGISLACAO'),\n",
       "   (15849, 15852, 'I-LEGISLACAO'),\n",
       "   (15853, 15861, 'I-LEGISLACAO'),\n",
       "   (15886, 15892, 'B-LEGISLACAO'),\n",
       "   (15893, 15903, 'I-LEGISLACAO'),\n",
       "   (15904, 15905, 'I-LEGISLACAO'),\n",
       "   (15906, 15907, 'I-LEGISLACAO'),\n",
       "   (15908, 15916, 'I-LEGISLACAO'),\n",
       "   (15933, 15936, 'B-LEGISLACAO'),\n",
       "   (15937, 15946, 'I-LEGISLACAO'),\n",
       "   (16151, 16154, 'B-ORGANIZACAO'),\n",
       "   (16226, 16229, 'B-LEGISLACAO'),\n",
       "   (16230, 16231, 'I-LEGISLACAO'),\n",
       "   (16232, 16234, 'I-LEGISLACAO'),\n",
       "   (16235, 16237, 'I-LEGISLACAO'),\n",
       "   (16238, 16241, 'I-LEGISLACAO'),\n",
       "   (16242, 16244, 'I-LEGISLACAO'),\n",
       "   (16245, 16253, 'I-LEGISLACAO'),\n",
       "   (16273, 16276, 'B-LEGISLACAO'),\n",
       "   (16277, 16279, 'I-LEGISLACAO'),\n",
       "   (16280, 16291, 'I-LEGISLACAO'),\n",
       "   (16360, 16363, 'B-JURISPRUDENCIA'),\n",
       "   (16364, 16372, 'I-JURISPRUDENCIA'),\n",
       "   (16397, 16400, 'B-LEGISLACAO'),\n",
       "   (16401, 16402, 'I-LEGISLACAO'),\n",
       "   (16403, 16408, 'I-LEGISLACAO'),\n",
       "   (16409, 16411, 'I-LEGISLACAO'),\n",
       "   (16412, 16415, 'I-LEGISLACAO'),\n",
       "   (16526, 16527, 'B-LEGISLACAO'),\n",
       "   (16528, 16530, 'I-LEGISLACAO'),\n",
       "   (16531, 16533, 'I-LEGISLACAO'),\n",
       "   (16534, 16537, 'I-LEGISLACAO'),\n",
       "   (16538, 16539, 'I-LEGISLACAO'),\n",
       "   (16540, 16542, 'I-LEGISLACAO'),\n",
       "   (16543, 16545, 'I-LEGISLACAO'),\n",
       "   (16546, 16549, 'I-LEGISLACAO'),\n",
       "   (16550, 16551, 'I-LEGISLACAO'),\n",
       "   (16552, 16553, 'I-LEGISLACAO'),\n",
       "   (16554, 16561, 'I-LEGISLACAO'),\n",
       "   (16582, 16585, 'B-LEGISLACAO'),\n",
       "   (16586, 16587, 'I-LEGISLACAO'),\n",
       "   (16588, 16589, 'I-LEGISLACAO'),\n",
       "   (16590, 16601, 'I-LEGISLACAO'),\n",
       "   (16904, 16905, 'B-LEGISLACAO'),\n",
       "   (16906, 16908, 'I-LEGISLACAO'),\n",
       "   (16909, 16911, 'I-LEGISLACAO'),\n",
       "   (16912, 16915, 'I-LEGISLACAO'),\n",
       "   (16916, 16917, 'I-LEGISLACAO'),\n",
       "   (16918, 16920, 'I-LEGISLACAO'),\n",
       "   (16921, 16923, 'I-LEGISLACAO'),\n",
       "   (16924, 16927, 'I-LEGISLACAO'),\n",
       "   (16928, 16929, 'I-LEGISLACAO'),\n",
       "   (16930, 16931, 'I-LEGISLACAO'),\n",
       "   (16932, 16942, 'I-LEGISLACAO'),\n",
       "   (16963, 16966, 'B-LEGISLACAO'),\n",
       "   (16967, 16968, 'I-LEGISLACAO'),\n",
       "   (16969, 16970, 'I-LEGISLACAO'),\n",
       "   (16971, 16982, 'I-LEGISLACAO'),\n",
       "   (17029, 17035, 'B-JURISPRUDENCIA'),\n",
       "   (17036, 17043, 'I-JURISPRUDENCIA'),\n",
       "   (17132, 17138, 'B-JURISPRUDENCIA'),\n",
       "   (17139, 17146, 'I-JURISPRUDENCIA'),\n",
       "   (17683, 17686, 'B-LEGISLACAO'),\n",
       "   (17687, 17688, 'I-LEGISLACAO'),\n",
       "   (17689, 17691, 'I-LEGISLACAO'),\n",
       "   (17692, 17693, 'I-LEGISLACAO'),\n",
       "   (17694, 17695, 'I-LEGISLACAO'),\n",
       "   (17696, 17698, 'I-LEGISLACAO'),\n",
       "   (17699, 17700, 'I-LEGISLACAO'),\n",
       "   (17701, 17704, 'I-LEGISLACAO'),\n",
       "   (17963, 17975, 'B-ORGANIZACAO'),\n",
       "   (17976, 17981, 'I-ORGANIZACAO'),\n",
       "   (17982, 17984, 'I-ORGANIZACAO'),\n",
       "   (17985, 17992, 'I-ORGANIZACAO'),\n",
       "   (18023, 18033, 'B-TEMPO'),\n",
       "   (18235, 18238, 'B-LEGISLACAO'),\n",
       "   (18239, 18240, 'I-LEGISLACAO'),\n",
       "   (18241, 18243, 'I-LEGISLACAO'),\n",
       "   (18244, 18245, 'I-LEGISLACAO'),\n",
       "   (18246, 18248, 'I-LEGISLACAO'),\n",
       "   (18249, 18251, 'I-LEGISLACAO'),\n",
       "   (18252, 18253, 'I-LEGISLACAO'),\n",
       "   (18254, 18256, 'I-LEGISLACAO'),\n",
       "   (18257, 18258, 'I-LEGISLACAO'),\n",
       "   (18259, 18262, 'I-LEGISLACAO'),\n",
       "   (18379, 18382, 'B-LEGISLACAO'),\n",
       "   (18383, 18384, 'I-LEGISLACAO'),\n",
       "   (18385, 18387, 'I-LEGISLACAO'),\n",
       "   (18388, 18389, 'I-LEGISLACAO'),\n",
       "   (18390, 18391, 'I-LEGISLACAO'),\n",
       "   (18392, 18394, 'I-LEGISLACAO'),\n",
       "   (18395, 18396, 'I-LEGISLACAO'),\n",
       "   (18397, 18400, 'I-LEGISLACAO'),\n",
       "   (18411, 18419, 'B-PESSOA'),\n",
       "   (18420, 18426, 'I-PESSOA'),\n",
       "   (18473, 18477, 'B-PESSOA'),\n",
       "   (18478, 18484, 'I-PESSOA'),\n",
       "   (18485, 18487, 'I-PESSOA'),\n",
       "   (18488, 18495, 'I-PESSOA')]})"
      ]
     },
     "execution_count": 17,
     "metadata": {},
     "output_type": "execute_result"
    }
   ],
   "source": [
    "documentos[2]"
   ]
  },
  {
   "cell_type": "code",
   "execution_count": 18,
   "metadata": {},
   "outputs": [],
   "source": [
    "import random"
   ]
  },
  {
   "cell_type": "code",
   "execution_count": 24,
   "metadata": {},
   "outputs": [],
   "source": [
    "random.shuffle(documentos)\n",
    "dados_treino = documentos[:int(len(documentos)*0.8)]\n",
    "dados_validacao = documentos[int(len(documentos)*0.8):]"
   ]
  },
  {
   "cell_type": "code",
   "execution_count": 25,
   "metadata": {},
   "outputs": [
    {
     "data": {
      "text/plain": [
       "40"
      ]
     },
     "execution_count": 25,
     "metadata": {},
     "output_type": "execute_result"
    }
   ],
   "source": [
    "len(dados_treino)"
   ]
  },
  {
   "cell_type": "code",
   "execution_count": 27,
   "metadata": {},
   "outputs": [],
   "source": [
    "from tqdm import tqdm\n",
    "from spacy.training import Example"
   ]
  },
  {
   "cell_type": "code",
   "execution_count": 28,
   "metadata": {},
   "outputs": [],
   "source": [
    "def treinar_modelo(dados_treino,dados_validacao,epochs):\n",
    "    model = spacy.load('pt_core_news_sm')\n",
    "    if 'ner' not in model.pipe_names:\n",
    "        ner = model.create_pipe('ner')\n",
    "        model.add_pipe(ner,last=True)\n",
    "    else:\n",
    "        ner = model.get_pipe('ner')\n",
    "    for _,anotacoes in dados_treino:\n",
    "        for ent in anotacoes.get('entities'):\n",
    "            ner.add_label(ent[2])\n",
    "\n",
    "    outros_pipelines = [pipeline for pipeline in model.pipe_names if pipeline != 'ner']\n",
    "\n",
    "    with model.disable_pipes(*outros_pipelines):\n",
    "        spacy.util.fix_random_seed()\n",
    "        otimizador = model.create_optimizer()\n",
    "        for epoch in tqdm(range(epochs), 'Treinando o modelo'):\n",
    "            random.seed(10)\n",
    "            random.shuffle(dados_treino)\n",
    "            losses = {'ner':0.0}\n",
    "\n",
    "            for textos,anotacoes in dados_treino:\n",
    "                exemplo = Example.from_dict(model.make_doc(textos), anotacoes)\n",
    "                model.update([exemplo], drop=0.2, sgd=otimizador, losses=losses)\n",
    "            print(f\"\\nEpoch: {epoch} - Loss: {losses['ner']/len(dados_treino)}\")\n",
    "\n",
    "            val_losses = {'ner':0.0}\n",
    "            exemplos = []\n",
    "            for textos,anotacoes in dados_validacao:\n",
    "                exemplo = Example.from_dict(model.make_doc(textos),anotacoes)\n",
    "                exemplos.append(exemplo)\n",
    "            for exemplo in exemplos:\n",
    "                model.update([exemplo],sgd=None,drop=0,losses=val_losses)\n",
    "\n",
    "            print(f\"\\nEpoch: {epoch} - Val Loss: {val_losses['ner']/len(dados_validacao)}\")\n",
    "    return model"
   ]
  },
  {
   "cell_type": "code",
   "execution_count": 30,
   "metadata": {},
   "outputs": [
    {
     "name": "stderr",
     "output_type": "stream",
     "text": [
      "Treinando o modelo:   0%|          | 0/27 [00:00<?, ?it/s]"
     ]
    },
    {
     "name": "stdout",
     "output_type": "stream",
     "text": [
      "\n",
      "Epoch: 0 - Loss: 1039.836193271797\n"
     ]
    },
    {
     "name": "stderr",
     "output_type": "stream",
     "text": [
      "Treinando o modelo:   4%|▎         | 1/27 [01:14<32:21, 74.69s/it]"
     ]
    },
    {
     "name": "stdout",
     "output_type": "stream",
     "text": [
      "\n",
      "Epoch: 0 - Val Loss: 834.8725585102673\n",
      "\n",
      "Epoch: 1 - Loss: 698.0798875186547\n"
     ]
    },
    {
     "name": "stderr",
     "output_type": "stream",
     "text": [
      "Treinando o modelo:   7%|▋         | 2/27 [02:26<30:29, 73.19s/it]"
     ]
    },
    {
     "name": "stdout",
     "output_type": "stream",
     "text": [
      "\n",
      "Epoch: 1 - Val Loss: 539.0278696424464\n",
      "\n",
      "Epoch: 2 - Loss: 476.74858321722047\n"
     ]
    },
    {
     "name": "stderr",
     "output_type": "stream",
     "text": [
      "Treinando o modelo:  11%|█         | 3/27 [03:38<29:00, 72.51s/it]"
     ]
    },
    {
     "name": "stdout",
     "output_type": "stream",
     "text": [
      "\n",
      "Epoch: 2 - Val Loss: 352.58276097393696\n",
      "\n",
      "Epoch: 3 - Loss: 351.6594219048658\n"
     ]
    },
    {
     "name": "stderr",
     "output_type": "stream",
     "text": [
      "Treinando o modelo:  15%|█▍        | 4/27 [04:52<28:04, 73.22s/it]"
     ]
    },
    {
     "name": "stdout",
     "output_type": "stream",
     "text": [
      "\n",
      "Epoch: 3 - Val Loss: 239.44381207243765\n",
      "\n",
      "Epoch: 4 - Loss: 286.11837292338714\n"
     ]
    },
    {
     "name": "stderr",
     "output_type": "stream",
     "text": [
      "Treinando o modelo:  19%|█▊        | 5/27 [06:02<26:20, 71.84s/it]"
     ]
    },
    {
     "name": "stdout",
     "output_type": "stream",
     "text": [
      "\n",
      "Epoch: 4 - Val Loss: 224.99244832837257\n",
      "\n",
      "Epoch: 5 - Loss: 236.9756275606366\n"
     ]
    },
    {
     "name": "stderr",
     "output_type": "stream",
     "text": [
      "Treinando o modelo:  22%|██▏       | 6/27 [07:11<24:49, 70.93s/it]"
     ]
    },
    {
     "name": "stdout",
     "output_type": "stream",
     "text": [
      "\n",
      "Epoch: 5 - Val Loss: 144.48192616410077\n",
      "\n",
      "Epoch: 6 - Loss: 205.25607476523987\n"
     ]
    },
    {
     "name": "stderr",
     "output_type": "stream",
     "text": [
      "Treinando o modelo:  26%|██▌       | 7/27 [08:21<23:30, 70.53s/it]"
     ]
    },
    {
     "name": "stdout",
     "output_type": "stream",
     "text": [
      "\n",
      "Epoch: 6 - Val Loss: 96.17809688747906\n",
      "\n",
      "Epoch: 7 - Loss: 183.8650016734474\n"
     ]
    },
    {
     "name": "stderr",
     "output_type": "stream",
     "text": [
      "Treinando o modelo:  30%|██▉       | 8/27 [09:33<22:30, 71.10s/it]"
     ]
    },
    {
     "name": "stdout",
     "output_type": "stream",
     "text": [
      "\n",
      "Epoch: 7 - Val Loss: 74.26827990260492\n",
      "\n",
      "Epoch: 8 - Loss: 164.15619130296926\n"
     ]
    },
    {
     "name": "stderr",
     "output_type": "stream",
     "text": [
      "Treinando o modelo:  33%|███▎      | 9/27 [10:43<21:14, 70.79s/it]"
     ]
    },
    {
     "name": "stdout",
     "output_type": "stream",
     "text": [
      "\n",
      "Epoch: 8 - Val Loss: 62.118504077483635\n",
      "\n",
      "Epoch: 9 - Loss: 140.56090899017602\n"
     ]
    },
    {
     "name": "stderr",
     "output_type": "stream",
     "text": [
      "Treinando o modelo:  37%|███▋      | 10/27 [11:52<19:54, 70.26s/it]"
     ]
    },
    {
     "name": "stdout",
     "output_type": "stream",
     "text": [
      "\n",
      "Epoch: 9 - Val Loss: 59.613490773959846\n",
      "\n",
      "Epoch: 10 - Loss: 129.4361704928632\n"
     ]
    },
    {
     "name": "stderr",
     "output_type": "stream",
     "text": [
      "Treinando o modelo:  41%|████      | 11/27 [13:02<18:40, 70.03s/it]"
     ]
    },
    {
     "name": "stdout",
     "output_type": "stream",
     "text": [
      "\n",
      "Epoch: 10 - Val Loss: 48.312580651385055\n",
      "\n",
      "Epoch: 11 - Loss: 116.370616868571\n"
     ]
    },
    {
     "name": "stderr",
     "output_type": "stream",
     "text": [
      "Treinando o modelo:  44%|████▍     | 12/27 [14:11<17:29, 69.96s/it]"
     ]
    },
    {
     "name": "stdout",
     "output_type": "stream",
     "text": [
      "\n",
      "Epoch: 11 - Val Loss: 60.97057246576944\n",
      "\n",
      "Epoch: 12 - Loss: 116.4850332914652\n"
     ]
    },
    {
     "name": "stderr",
     "output_type": "stream",
     "text": [
      "Treinando o modelo:  48%|████▊     | 13/27 [15:21<16:15, 69.71s/it]"
     ]
    },
    {
     "name": "stdout",
     "output_type": "stream",
     "text": [
      "\n",
      "Epoch: 12 - Val Loss: 37.42738947003475\n",
      "\n",
      "Epoch: 13 - Loss: 103.47291315069288\n"
     ]
    },
    {
     "name": "stderr",
     "output_type": "stream",
     "text": [
      "Treinando o modelo:  52%|█████▏    | 14/27 [16:29<15:01, 69.36s/it]"
     ]
    },
    {
     "name": "stdout",
     "output_type": "stream",
     "text": [
      "\n",
      "Epoch: 13 - Val Loss: 31.165029438882733\n",
      "\n",
      "Epoch: 14 - Loss: 89.48774369067299\n"
     ]
    },
    {
     "name": "stderr",
     "output_type": "stream",
     "text": [
      "Treinando o modelo:  56%|█████▌    | 15/27 [17:38<13:49, 69.10s/it]"
     ]
    },
    {
     "name": "stdout",
     "output_type": "stream",
     "text": [
      "\n",
      "Epoch: 14 - Val Loss: 34.0881087730266\n",
      "\n",
      "Epoch: 15 - Loss: 86.04906550093318\n"
     ]
    },
    {
     "name": "stderr",
     "output_type": "stream",
     "text": [
      "Treinando o modelo:  59%|█████▉    | 16/27 [18:47<12:39, 69.08s/it]"
     ]
    },
    {
     "name": "stdout",
     "output_type": "stream",
     "text": [
      "\n",
      "Epoch: 15 - Val Loss: 26.36700869358345\n",
      "\n",
      "Epoch: 16 - Loss: 81.69042966804625\n"
     ]
    },
    {
     "name": "stderr",
     "output_type": "stream",
     "text": [
      "Treinando o modelo:  63%|██████▎   | 17/27 [19:55<11:27, 68.80s/it]"
     ]
    },
    {
     "name": "stdout",
     "output_type": "stream",
     "text": [
      "\n",
      "Epoch: 16 - Val Loss: 31.262082500231294\n",
      "\n",
      "Epoch: 17 - Loss: 78.31053769195923\n"
     ]
    },
    {
     "name": "stderr",
     "output_type": "stream",
     "text": [
      "Treinando o modelo:  67%|██████▋   | 18/27 [21:05<10:21, 69.10s/it]"
     ]
    },
    {
     "name": "stdout",
     "output_type": "stream",
     "text": [
      "\n",
      "Epoch: 17 - Val Loss: 28.45896222857457\n",
      "\n",
      "Epoch: 18 - Loss: 76.84978676629439\n"
     ]
    },
    {
     "name": "stderr",
     "output_type": "stream",
     "text": [
      "Treinando o modelo:  70%|███████   | 19/27 [22:14<09:13, 69.23s/it]"
     ]
    },
    {
     "name": "stdout",
     "output_type": "stream",
     "text": [
      "\n",
      "Epoch: 18 - Val Loss: 24.233701092006726\n",
      "\n",
      "Epoch: 19 - Loss: 83.0789729373664\n"
     ]
    },
    {
     "name": "stderr",
     "output_type": "stream",
     "text": [
      "Treinando o modelo:  74%|███████▍  | 20/27 [23:22<08:02, 68.97s/it]"
     ]
    },
    {
     "name": "stdout",
     "output_type": "stream",
     "text": [
      "\n",
      "Epoch: 19 - Val Loss: 24.815358317045966\n",
      "\n",
      "Epoch: 20 - Loss: 70.49254093176353\n"
     ]
    },
    {
     "name": "stderr",
     "output_type": "stream",
     "text": [
      "Treinando o modelo:  78%|███████▊  | 21/27 [24:33<06:56, 69.43s/it]"
     ]
    },
    {
     "name": "stdout",
     "output_type": "stream",
     "text": [
      "\n",
      "Epoch: 20 - Val Loss: 23.71174998427322\n",
      "\n",
      "Epoch: 21 - Loss: 60.78175403674861\n"
     ]
    },
    {
     "name": "stderr",
     "output_type": "stream",
     "text": [
      "Treinando o modelo:  81%|████████▏ | 22/27 [25:42<05:45, 69.16s/it]"
     ]
    },
    {
     "name": "stdout",
     "output_type": "stream",
     "text": [
      "\n",
      "Epoch: 21 - Val Loss: 20.592742746590226\n",
      "\n",
      "Epoch: 22 - Loss: 57.86881610789341\n"
     ]
    },
    {
     "name": "stderr",
     "output_type": "stream",
     "text": [
      "Treinando o modelo:  85%|████████▌ | 23/27 [26:50<04:35, 68.96s/it]"
     ]
    },
    {
     "name": "stdout",
     "output_type": "stream",
     "text": [
      "\n",
      "Epoch: 22 - Val Loss: 20.86203487807216\n",
      "\n",
      "Epoch: 23 - Loss: 55.09105962876546\n"
     ]
    },
    {
     "name": "stderr",
     "output_type": "stream",
     "text": [
      "Treinando o modelo:  89%|████████▉ | 24/27 [28:01<03:29, 69.72s/it]"
     ]
    },
    {
     "name": "stdout",
     "output_type": "stream",
     "text": [
      "\n",
      "Epoch: 23 - Val Loss: 22.448863239415445\n",
      "\n",
      "Epoch: 24 - Loss: 56.95467621779235\n"
     ]
    },
    {
     "name": "stderr",
     "output_type": "stream",
     "text": [
      "Treinando o modelo:  93%|█████████▎| 25/27 [29:23<02:26, 73.25s/it]"
     ]
    },
    {
     "name": "stdout",
     "output_type": "stream",
     "text": [
      "\n",
      "Epoch: 24 - Val Loss: 21.653428213289573\n",
      "\n",
      "Epoch: 25 - Loss: 57.57413849568221\n"
     ]
    },
    {
     "name": "stderr",
     "output_type": "stream",
     "text": [
      "Treinando o modelo:  96%|█████████▋| 26/27 [30:31<01:11, 71.81s/it]"
     ]
    },
    {
     "name": "stdout",
     "output_type": "stream",
     "text": [
      "\n",
      "Epoch: 25 - Val Loss: 23.498616729347752\n",
      "\n",
      "Epoch: 26 - Loss: 52.40602450650429\n"
     ]
    },
    {
     "name": "stderr",
     "output_type": "stream",
     "text": [
      "Treinando o modelo: 100%|██████████| 27/27 [31:40<00:00, 70.40s/it]"
     ]
    },
    {
     "name": "stdout",
     "output_type": "stream",
     "text": [
      "\n",
      "Epoch: 26 - Val Loss: 22.393006223056688\n"
     ]
    },
    {
     "name": "stderr",
     "output_type": "stream",
     "text": [
      "\n"
     ]
    }
   ],
   "source": [
    "model = treinar_modelo(dados_treino,dados_validacao,27)"
   ]
  },
  {
   "cell_type": "code",
   "execution_count": 31,
   "metadata": {},
   "outputs": [],
   "source": [
    "model.to_disk('modelo')"
   ]
  },
  {
   "cell_type": "code",
   "execution_count": null,
   "metadata": {},
   "outputs": [],
   "source": []
  }
 ],
 "metadata": {
  "kernelspec": {
   "display_name": "Python 3",
   "language": "python",
   "name": "python3"
  },
  "language_info": {
   "codemirror_mode": {
    "name": "ipython",
    "version": 3
   },
   "file_extension": ".py",
   "mimetype": "text/x-python",
   "name": "python",
   "nbconvert_exporter": "python",
   "pygments_lexer": "ipython3",
   "version": "3.9.0"
  }
 },
 "nbformat": 4,
 "nbformat_minor": 2
}
