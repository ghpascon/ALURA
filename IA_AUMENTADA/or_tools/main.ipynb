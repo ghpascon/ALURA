{
 "cells": [
  {
   "cell_type": "markdown",
   "metadata": {},
   "source": [
    "# DEFINIR PARADAS DOS AVIOES"
   ]
  },
  {
   "cell_type": "markdown",
   "metadata": {},
   "source": [
    "5 AVIOES E 3 ESTACIONAMENTOS"
   ]
  },
  {
   "cell_type": "code",
   "execution_count": 1,
   "metadata": {},
   "outputs": [
    {
     "name": "stdout",
     "output_type": "stream",
     "text": [
      "load c:\\Users\\Usuario\\AppData\\Local\\Programs\\Python\\Python39\\lib\\site-packages\\ortools\\.libs\\zlib1.dll...\n",
      "load c:\\Users\\Usuario\\AppData\\Local\\Programs\\Python\\Python39\\lib\\site-packages\\ortools\\.libs\\abseil_dll.dll...\n",
      "load c:\\Users\\Usuario\\AppData\\Local\\Programs\\Python\\Python39\\lib\\site-packages\\ortools\\.libs\\utf8_validity.dll...\n",
      "load c:\\Users\\Usuario\\AppData\\Local\\Programs\\Python\\Python39\\lib\\site-packages\\ortools\\.libs\\re2.dll...\n",
      "load c:\\Users\\Usuario\\AppData\\Local\\Programs\\Python\\Python39\\lib\\site-packages\\ortools\\.libs\\libprotobuf.dll...\n",
      "load c:\\Users\\Usuario\\AppData\\Local\\Programs\\Python\\Python39\\lib\\site-packages\\ortools\\.libs\\highs.dll...\n",
      "load c:\\Users\\Usuario\\AppData\\Local\\Programs\\Python\\Python39\\lib\\site-packages\\ortools\\.libs\\ortools.dll...\n"
     ]
    }
   ],
   "source": [
    "import pandas as pd\n",
    "from ortools.sat.python import cp_model"
   ]
  },
  {
   "cell_type": "code",
   "execution_count": 27,
   "metadata": {},
   "outputs": [],
   "source": [
    "modelo = cp_model.CpModel()"
   ]
  },
  {
   "cell_type": "code",
   "execution_count": 28,
   "metadata": {},
   "outputs": [],
   "source": [
    "estacionamento1 = modelo.NewIntVar(1,5,'estacionamento1')\n",
    "estacionamento2 = modelo.NewIntVar(1,5,'estacionamento2')\n",
    "\n",
    "modelo.Add(estacionamento1 != 1)\n",
    "\n",
    "bonus = modelo.NewIntVar(0,1,'bonus')\n",
    "\n",
    "modelo.Add(estacionamento2>10).OnlyEnforceIf(bonus)\n",
    "modelo.Add(estacionamento2<=10).OnlyEnforceIf(bonus.Not())\n",
    "\n",
    "modelo.Maximize(bonus)\n",
    "\n",
    "\n",
    "solucionador = cp_model.CpSolver()\n",
    "status = solucionador.Solve(modelo)"
   ]
  },
  {
   "cell_type": "code",
   "execution_count": 29,
   "metadata": {},
   "outputs": [
    {
     "name": "stdout",
     "output_type": "stream",
     "text": [
      "Valor de estacionamento1: 2\n",
      "Valor de estacionamento2: 1\n"
     ]
    }
   ],
   "source": [
    "if status == cp_model.FEASIBLE or status == cp_model.OPTIMAL:\n",
    "    print(f\"Valor de estacionamento1: {solucionador.Value(estacionamento1)}\")\n",
    "    print(f\"Valor de estacionamento2: {solucionador.Value(estacionamento2)}\")\n",
    "else:\n",
    "    print(\"Nenhuma solução encontrada.\")\n"
   ]
  },
  {
   "cell_type": "markdown",
   "metadata": {},
   "source": [
    "# TESTES"
   ]
  },
  {
   "cell_type": "code",
   "execution_count": null,
   "metadata": {},
   "outputs": [
    {
     "name": "stdout",
     "output_type": "stream",
     "text": [
      "Valor de estacionamento1: 2\n",
      "Valor de estacionamento2: 11\n"
     ]
    }
   ],
   "source": [
    "# Criar Modelo\n",
    "modelo = cp_model.CpModel()\n",
    "\n",
    "# VARIAVEIS\n",
    "estacionamento1 = modelo.NewIntVar(1,5,'estacionamento1')\n",
    "estacionamento2 = modelo.NewIntVar(1,20,'estacionamento2')\n",
    "\n",
    "# RESTRICOES\n",
    "modelo.Add(estacionamento1 != 1)\n",
    "\n",
    "# RESTIRCOES OPCIONAIS\n",
    "bonus = modelo.NewBoolVar(0,1,'bonus')\n",
    "\n",
    "modelo.Add(estacionamento2>10).OnlyEnforceIf(bonus)\n",
    "modelo.Add(estacionamento2<=10).OnlyEnforceIf(bonus.Not())\n",
    "\n",
    "modelo.Maximize(bonus)\n",
    "\n",
    "#SOLUCIONAR\n",
    "solucionador = cp_model.CpSolver()\n",
    "status = solucionador.Solve(modelo)\n",
    "if status == cp_model.FEASIBLE or status == cp_model.OPTIMAL:\n",
    "    print(f\"Valor de estacionamento1: {solucionador.Value(estacionamento1)}\")\n",
    "    print(f\"Valor de estacionamento2: {solucionador.Value(estacionamento2)}\")\n",
    "else:\n",
    "    print(\"Nenhuma solução encontrada.\")\n"
   ]
  },
  {
   "cell_type": "code",
   "execution_count": null,
   "metadata": {},
   "outputs": [
    {
     "name": "stdout",
     "output_type": "stream",
     "text": [
      "Valor de estacionamento 1: 2\n",
      "Valor de estacionamento 2: 1\n"
     ]
    }
   ],
   "source": [
    "from ortools.sat.python import cp_model\n",
    "\n",
    "# Criar Modelo\n",
    "modelo = cp_model.CpModel()\n",
    "\n",
    "# VARIÁVEIS\n",
    "estacionamentos = []\n",
    "estacionamentos.append(modelo.NewIntVar(1, 5, 'estacionamento1'))\n",
    "estacionamentos.append(modelo.NewIntVar(1, 5, 'estacionamento2'))\n",
    "\n",
    "# RESTRIÇÕES\n",
    "#valores nao podem ser iguais\n",
    "for i in range(len(estacionamentos) - 1):\n",
    "    modelo.Add(estacionamentos[i] != estacionamentos[i + 1])\n",
    "\n",
    "# SOLUCIONAR\n",
    "solucionador = cp_model.CpSolver()\n",
    "status = solucionador.Solve(modelo)\n",
    "\n",
    "if status == cp_model.FEASIBLE or status == cp_model.OPTIMAL:\n",
    "    for i, estacionamento in enumerate(estacionamentos):\n",
    "        print(f\"Valor de estacionamento {i + 1}: {solucionador.Value(estacionamento)}\")\n",
    "else:\n",
    "    print(\"Nenhuma solução encontrada.\")\n"
   ]
  },
  {
   "cell_type": "markdown",
   "metadata": {},
   "source": [
    "# FUNCAO"
   ]
  },
  {
   "cell_type": "code",
   "execution_count": 41,
   "metadata": {},
   "outputs": [
    {
     "name": "stdout",
     "output_type": "stream",
     "text": [
      "OPTIMAL\n",
      "estacionamento_0 = 3\n",
      "estacionamento_1 = 2\n",
      "estacionamento_2 = 1\n"
     ]
    }
   ],
   "source": [
    "def criar_estacionamentos(total_de_estacionamentos, total_de_avioes, modelo):\n",
    "    return [modelo.NewIntVar(1, total_de_avioes, f'estacionamento_{i}') for i in range(total_de_estacionamentos)]\n",
    "\n",
    "def avioes_distintos(estacionamentos, modelo):\n",
    "    modelo.AddAllDifferent(estacionamentos)\n",
    "\n",
    "def resolve(solucionador, modelo, estacionamentos):\n",
    "    status = solucionador.Solve(modelo)\n",
    "    print(solucionador.StatusName(status))\n",
    "    for estacionamento in estacionamentos:\n",
    "        valor = solucionador.Value(estacionamento)\n",
    "        print(estacionamento, \"=\", valor)\n",
    "    \n",
    "modelo = cp_model.CpModel()\n",
    "\n",
    "estacionamentos = criar_estacionamentos(3, 5, modelo)\n",
    "avioes_distintos(estacionamentos, modelo)\n",
    "\n",
    "solucionador = cp_model.CpSolver()\n",
    "resolve(solucionador, modelo, estacionamentos)"
   ]
  },
  {
   "cell_type": "code",
   "execution_count": null,
   "metadata": {},
   "outputs": [
    {
     "name": "stdout",
     "output_type": "stream",
     "text": [
      "OPTIMAL\n",
      "estacionamento_0 = 0\n",
      "estacionamento_1 = 1\n"
     ]
    }
   ],
   "source": [
    "def criar_estacionamentos(total_de_estacionamentos, total_de_avioes, modelo):\n",
    "    return [modelo.NewIntVar(1, total_de_avioes, f'estacionamento_{i}') for i in range(total_de_estacionamentos)]\n",
    "\n",
    "def avioes_distintos(estacionamentos, modelo):\n",
    "    modelo.AddAllDifferent(estacionamentos)\n",
    "\n",
    "def resolve(solucionador, modelo, estacionamentos):\n",
    "    status = solucionador.Solve(modelo)\n",
    "    print(solucionador.StatusName(status))\n",
    "    if not status == cp_model.FEASIBLE and not status == cp_model.OPTIMAL:\n",
    "        print('Sem Solução Válida')\n",
    "        return\n",
    "    for estacionamento in estacionamentos:\n",
    "        valor = solucionador.Value(estacionamento)\n",
    "        print(estacionamento, \"=\", valor)\n",
    "    \n",
    "modelo = cp_model.CpModel()\n",
    "\n",
    "estacionamentos = criar_estacionamentos(\n",
    "    total_de_estacionamentos=2, \n",
    "    total_de_avioes=1, \n",
    "    modelo=modelo\n",
    ")\n",
    "avioes_distintos(estacionamentos, modelo)\n",
    "\n",
    "solucionador = cp_model.CpSolver()\n",
    "resolve(solucionador, modelo, estacionamentos)"
   ]
  },
  {
   "cell_type": "code",
   "execution_count": 116,
   "metadata": {},
   "outputs": [
    {
     "name": "stdout",
     "output_type": "stream",
     "text": [
      "INFEASIBLE\n",
      "Sem Solução Válida\n"
     ]
    }
   ],
   "source": [
    "def criar_estacionamentos(total_de_estacionamentos, total_de_avioes, modelo):\n",
    "    # 0 representa que a vaga pode estar vazia\n",
    "    return [modelo.NewIntVar(0, total_de_avioes, f'estacionamento_{i}') for i in range(total_de_estacionamentos)]\n",
    "\n",
    "def avioes_distintos(estacionamentos, modelo):\n",
    "    modelo.AddAllDifferent(estacionamentos)\n",
    "\n",
    "def todo_aviao_tem_que_estacionar(total_de_avioes, estacionamentos, modelo):\n",
    "  variaveis = {}\n",
    "  for i in range(1, total_de_avioes + 1):\n",
    "    for j, estacionamento in enumerate(estacionamentos):\n",
    "        aviao_i_em_j = modelo.NewBoolVar(f'aviao_{i}_em{j}')\n",
    "        modelo.Add(estacionamento == i).OnlyEnforceIf(aviao_i_em_j)\n",
    "        modelo.Add(estacionamento != i).OnlyEnforceIf(aviao_i_em_j.Not())\n",
    "        variaveis[(i, j)] = aviao_i_em_j\n",
    "\n",
    "  for i in range(1, total_de_avioes + 1):\n",
    "    modelo.AddExactlyOne([variaveis[(i,j)] for j in range(len(estacionamentos))])\n",
    "\n",
    "def resolve(solucionador, modelo, estacionamentos):\n",
    "    status = solucionador.Solve(modelo)\n",
    "    print(solucionador.StatusName(status))\n",
    "    if status != cp_model.FEASIBLE and status != cp_model.OPTIMAL:\n",
    "        print('Sem Solução Válida')\n",
    "        return\n",
    "    for estacionamento in estacionamentos:\n",
    "        valor = solucionador.Value(estacionamento)\n",
    "        print(estacionamento, \"=\", valor)\n",
    "\n",
    "modelo = cp_model.CpModel()\n",
    "\n",
    "total_de_avioes = 5\n",
    "total_de_estacionamentos = 4\n",
    "\n",
    "estacionamentos = criar_estacionamentos(total_de_estacionamentos, total_de_avioes, modelo)\n",
    "avioes_distintos(estacionamentos, modelo)\n",
    "todo_aviao_tem_que_estacionar(total_de_avioes, estacionamentos, modelo)\n",
    "\n",
    "solucionador = cp_model.CpSolver()\n",
    "resolve(solucionador, modelo, estacionamentos)"
   ]
  },
  {
   "cell_type": "code",
   "execution_count": 3,
   "metadata": {},
   "outputs": [
    {
     "name": "stdout",
     "output_type": "stream",
     "text": [
      "OPTIMAL\n",
      "estacionamento_1 tem aviao 2 grande=False\n",
      "estacionamento_2 sem aviao\n",
      "estacionamento_3 tem aviao 3 grande=True\n",
      "estacionamento_4 tem aviao 1 grande=True\n"
     ]
    }
   ],
   "source": [
    "class Estacionamento:\n",
    "  def __init__(self, k, total_de_avioes, grande, modelo):\n",
    "    self.grande = grande\n",
    "    self.variavel = modelo.NewIntVar(0, total_de_avioes, f'estacionamento_{k}')\n",
    "    self.k = k\n",
    "    self.vizinhos = []\n",
    "    self.recebe_aviao_grande = modelo.NewBoolVar(f'recebe_aviao_grande_{k}')\n",
    "    if not self.grande:\n",
    "      modelo.Add(self.recebe_aviao_grande == 0)\n",
    "    \n",
    "\n",
    "class Aviao:\n",
    "  def __init__(self, k, grande):\n",
    "    self.k = k\n",
    "    self.grande = grande\n",
    "\n",
    "\n",
    "def criar_estacionamentos(total_de_estacionamentos, total_de_avioes, modelo):\n",
    "  return [modelo.NewIntVar(0, total_de_avioes, f'estacionamento_{i}') for i in range(total_de_estacionamentos)]\n",
    "\n",
    "    \n",
    "\n",
    "def resolve(solucionador, modelo, estacionamentos, avioes):\n",
    "  status = solucionador.Solve(modelo)\n",
    "  print(solucionador.StatusName(status))\n",
    "  if status == cp_model.INFEASIBLE:\n",
    "    print(\"Sem solucao\")\n",
    "    return\n",
    "  for estacionamento in estacionamentos:\n",
    "    variavel = estacionamento.variavel\n",
    "    valor = solucionador.Value(variavel)\n",
    "    if valor == 0:\n",
    "      print(f\"{variavel} sem aviao\")\n",
    "    else:\n",
    "      aviao = avioes[valor - 1]\n",
    "      print(f\"{variavel} tem aviao {valor} grande={aviao.grande}\")\n",
    "    \n",
    "\n",
    "def avioes_distintos(estacionamentos, modelo):\n",
    "  variaveis = [estacionamento.variavel for estacionamento in estacionamentos]\n",
    "  modelo.AddAllDifferent(variaveis)\n",
    "    \n",
    "\n",
    "def todo_aviao_tem_que_estacionar(total_de_avioes, estacionamentos, modelo):\n",
    "  variaveis = {}\n",
    "  for i in range(1, total_de_avioes + 1):\n",
    "    for j, estacionamento in enumerate(estacionamentos):\n",
    "      aviao_i_em_j = modelo.NewBoolVar(f'aviao_{i}_em{j}')\n",
    "      modelo.Add(estacionamento.variavel == i).OnlyEnforceIf(aviao_i_em_j)\n",
    "      modelo.Add(estacionamento.variavel != i).OnlyEnforceIf(aviao_i_em_j.Not())\n",
    "      variaveis[(i, j)] = aviao_i_em_j\n",
    "\n",
    "  for i in range(1, total_de_avioes + 1):\n",
    "    modelo.AddExactlyOne([variaveis[(i,j)] for j in range(len(estacionamentos))])\n",
    "    \n",
    "\n",
    "def remover_do_estacionamento(modelo, variavel_estacionamento, avioes_grandes):\n",
    "  for aviao in avioes_grandes:\n",
    "    modelo.Add(variavel_estacionamento != aviao.k)\n",
    "    \n",
    "\n",
    "def limita_aviao_grande_para_estacionamento_grande(modelo, estacionamentos, avioes):\n",
    "  avioes_grandes = [aviao for aviao in avioes if aviao.grande]\n",
    "  for estacionamento in estacionamentos:\n",
    "    if estacionamento.grande:\n",
    "      for aviao in avioes_grandes:\n",
    "        modelo.Add(estacionamento.variavel != aviao.k).OnlyEnforceIf(estacionamento.recebe_aviao_grande.Not())\n",
    "    else:\n",
    "      # nao aceita!!\n",
    "      # REMOVER AVIOES GRANDES!\n",
    "      remover_do_estacionamento(modelo, estacionamento.variavel, avioes_grandes)\n",
    "\n",
    "def criar_estacionamentos(estacionamentos, total_de_avioes, modelo):\n",
    "  variaveis = []\n",
    "  for i, estacionamento in enumerate(estacionamentos):\n",
    "    variavel = modelo.NewIntVar(0, total_de_avioes, f'estacionamento_{i}')\n",
    "    estacionamento.variavel = variavel\n",
    "    variaveis.append(variavel)\n",
    "  return variaveis\n",
    "\n",
    "def limita_vizinhos(modelo, estacionamentos, avioes):\n",
    "  for estacionamento in estacionamentos:\n",
    "    if not estacionamento.grande:\n",
    "      continue\n",
    "    for vizinho in estacionamento.vizinhos:\n",
    "      if vizinho.grande:\n",
    "        # se o vizinho tem um aviao grande => eu nao posso receber aviao grande\n",
    "        modelo.Add(estacionamento.recebe_aviao_grande == 0).OnlyEnforceIf(vizinho.recebe_aviao_grande)\n",
    "\n",
    "avioes = [Aviao(1, True),\n",
    "          Aviao(2, False),\n",
    "          Aviao(3, True)]\n",
    "modelo = cp_model.CpModel()\n",
    "total_de_avioes = len(avioes)\n",
    "\n",
    "estacionamentos = [Estacionamento(1, total_de_avioes, False, modelo),\n",
    "                   Estacionamento(2, total_de_avioes, False, modelo),\n",
    "                   Estacionamento(3, total_de_avioes, True, modelo),\n",
    "                   Estacionamento(4, total_de_avioes, True, modelo)]\n",
    "estacionamentos[2].vizinhos = [estacionamentos[0]]\n",
    "\n",
    "avioes_distintos(estacionamentos, modelo)\n",
    "todo_aviao_tem_que_estacionar(total_de_avioes, estacionamentos, modelo)\n",
    "limita_vizinhos(modelo, estacionamentos, avioes)\n",
    "limita_aviao_grande_para_estacionamento_grande(modelo, estacionamentos, avioes)\n",
    "\n",
    "solucionador = cp_model.CpSolver()\n",
    "resolve(solucionador, modelo, estacionamentos, avioes)"
   ]
  },
  {
   "cell_type": "code",
   "execution_count": null,
   "metadata": {},
   "outputs": [],
   "source": []
  }
 ],
 "metadata": {
  "kernelspec": {
   "display_name": "Python 3",
   "language": "python",
   "name": "python3"
  },
  "language_info": {
   "codemirror_mode": {
    "name": "ipython",
    "version": 3
   },
   "file_extension": ".py",
   "mimetype": "text/x-python",
   "name": "python",
   "nbconvert_exporter": "python",
   "pygments_lexer": "ipython3",
   "version": "3.9.0"
  }
 },
 "nbformat": 4,
 "nbformat_minor": 2
}
