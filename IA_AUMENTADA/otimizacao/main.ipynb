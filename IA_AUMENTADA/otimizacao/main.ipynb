{
 "cells": [
  {
   "cell_type": "code",
   "execution_count": 7,
   "metadata": {},
   "outputs": [],
   "source": [
    "from ortools.sat.python import cp_model"
   ]
  },
  {
   "cell_type": "code",
   "execution_count": 8,
   "metadata": {},
   "outputs": [],
   "source": [
    "class Estacionamento:\n",
    "  def __init__(self, k, total_de_avioes, grande, modelo, tem_controle_de_passaporte):\n",
    "    self.grande = grande\n",
    "    self.tem_controle_de_passaporte = tem_controle_de_passaporte\n",
    "    self.variavel = modelo.NewIntVar(0, total_de_avioes, f'estacionamento_{k}')\n",
    "    self.k = k\n",
    "    self.vizinhos = []\n",
    "    self.recebe_aviao_grande = modelo.NewBoolVar(f'recebe_aviao_grande_{k}')\n",
    "    if not self.grande:\n",
    "      modelo.Add(self.recebe_aviao_grande == 0)\n",
    "\n",
    "class Aviao:\n",
    "  def __init__(self, k, grande, requer_controle_de_passaporte):\n",
    "    self.k = k\n",
    "    self.grande = grande\n",
    "    self.requer_controle_de_passaporte = requer_controle_de_passaporte"
   ]
  },
  {
   "cell_type": "code",
   "execution_count": 21,
   "metadata": {},
   "outputs": [],
   "source": [
    "def resolve(solucionador, modelo, estacionamentos, avioes,penalidades):\n",
    "  status = solucionador.Solve(modelo)\n",
    "  print(solucionador.StatusName(status))\n",
    "  if status == cp_model.INFEASIBLE:\n",
    "    print(\"Sem solucao\")\n",
    "    return\n",
    "  for estacionamento in estacionamentos:\n",
    "    variavel = estacionamento.variavel\n",
    "    valor = solucionador.Value(variavel)\n",
    "    if valor == 0:\n",
    "      print(f\"{variavel} sem aviao\")\n",
    "    else:\n",
    "      aviao = avioes[valor - 1]\n",
    "      print(f\"{variavel} tem aviao {valor} grande={aviao.grande}\")\n",
    "\n",
    "def avioes_distintos(estacionamentos, modelo):\n",
    "  variaveis = [estacionamento.variavel for estacionamento in estacionamentos]\n",
    "  modelo.AddAllDifferent(variaveis)\n",
    "\n",
    "def todo_aviao_tem_que_estacionar(total_de_avioes, estacionamentos, modelo):\n",
    "  variaveis = {}\n",
    "  for i in range(1, total_de_avioes + 1):\n",
    "    for j, estacionamento in enumerate(estacionamentos):\n",
    "      aviao_i_em_j = modelo.NewBoolVar(f'aviao_{i}_em{j}')\n",
    "      modelo.Add(estacionamento.variavel == i).OnlyEnforceIf(aviao_i_em_j)\n",
    "      modelo.Add(estacionamento.variavel != i).OnlyEnforceIf(aviao_i_em_j.Not())\n",
    "      variaveis[(i, j)] = aviao_i_em_j\n",
    "\n",
    "  for i in range(1, total_de_avioes + 1):\n",
    "    modelo.AddExactlyOne([variaveis[(i,j)] for j in range(len(estacionamentos))])\n",
    "\n",
    "def limita_aviao_grande_para_estacionamento_grande(modelo, estacionamentos, avioes):\n",
    "  avioes_grandes = [aviao for aviao in avioes if aviao.grande]\n",
    "  for estacionamento in estacionamentos:\n",
    "    for aviao in avioes_grandes:\n",
    "      modelo.Add(estacionamento.variavel != aviao.k).OnlyEnforceIf(estacionamento.recebe_aviao_grande.Not())\n",
    "\n",
    "def limita_vizinhos(modelo, estacionamentos, avioes):\n",
    "  for estacionamento in estacionamentos:\n",
    "    if not estacionamento.grande:\n",
    "      continue\n",
    "    for vizinho in estacionamento.vizinhos:\n",
    "      if vizinho.grande:\n",
    "        # se o vizinho tem um aviao grande => eu nao posso receber aviao grande\n",
    "        modelo.Add(estacionamento.recebe_aviao_grande == 0).OnlyEnforceIf(vizinho.recebe_aviao_grande)\n",
    "        \n",
    "def limitar_avioes_que_requerem_passaporte(modelo, estacionamentos, avioes):\n",
    "  avioes_com_controle = [aviao for aviao in avioes if aviao.requer_controle_de_passaporte]\n",
    "  estacionamentos_sem_controle = [estacionamento for estacionamento in estacionamentos if not estacionamento.tem_controle_de_passaporte]\n",
    "  for estacionamento in estacionamentos_sem_controle:\n",
    "    for aviao in avioes_com_controle:\n",
    "      modelo.Add(estacionamento.variavel != aviao.k)\n",
    "\n",
    "def prefere_avioes_com_controle_de_passaporte(modelo, estacionamentos, avioes):\n",
    "  estacionamentos_com_controle = [estacionamento for estacionamento in estacionamentos if estacionamento.tem_controle_de_passaporte]\n",
    "  avioes_com_controle = [aviao for aviao in avioes if aviao.requer_controle_de_passaporte]\n",
    "  avioes_sem_controle = [aviao for aviao in avioes if not aviao.requer_controle_de_passaporte]\n",
    "  penalidades=[]\n",
    "  for estacionamento in estacionamentos_com_controle:\n",
    "    for aviao in avioes_sem_controle:\n",
    "      penalidade = modelo.NewIntVar(0, 1000, f'penalidade_{estacionamento.k}_{aviao.k}')\n",
    "      \n",
    "      aviao_esta_nesse_estacionamento = modelo.NewBoolVar(f'estacionamento_{estacionamento.k}_tem_aviao_{aviao.k}')\n",
    "      modelo.Add(estacionamento.variavel == aviao.k).OnlyEnforceIf(aviao_esta_nesse_estacionamento)\n",
    "      modelo.Add(estacionamento.variavel != aviao.k).OnlyEnforceIf(aviao_esta_nesse_estacionamento.Not())\n",
    "      \n",
    "      modelo.Add(penalidade == 1000).OnlyEnforceIf(aviao_esta_nesse_estacionamento)\n",
    "      modelo.Add(penalidade == 0).OnlyEnforceIf(aviao_esta_nesse_estacionamento.Not())\n",
    "      \n",
    "      modelo.Add(penalidade == 1000).OnlyEnforceIf(aviao_esta_nesse_estacionamento)\n",
    "      modelo.Add(penalidade == 0).OnlyEnforceIf(aviao_esta_nesse_estacionamento.Not())\n",
    "      penalidades.append(penalidade)\n",
    "  return penalidades"
   ]
  },
  {
   "cell_type": "code",
   "execution_count": 18,
   "metadata": {},
   "outputs": [
    {
     "name": "stdout",
     "output_type": "stream",
     "text": [
      "OPTIMAL\n",
      "estacionamento_1 tem aviao 1 grande=True\n",
      "estacionamento_2 sem aviao\n",
      "estacionamento_3 tem aviao 2 grande=False\n"
     ]
    }
   ],
   "source": [
    "modelo = cp_model.CpModel()\n",
    "avioes = [\n",
    "    Aviao(1, True, True),\n",
    "    Aviao(2, False, True),\n",
    "]\n",
    "total_de_avioes = len(avioes)\n",
    "\n",
    "estacionamentos = [\n",
    "    Estacionamento(1, total_de_avioes, True, modelo, True),\n",
    "    Estacionamento(2, total_de_avioes, True, modelo, False),\n",
    "    Estacionamento(3, total_de_avioes, False, modelo, True),\n",
    "]\n",
    "\n",
    "avioes_distintos(estacionamentos, modelo)\n",
    "todo_aviao_tem_que_estacionar(total_de_avioes, estacionamentos, modelo)\n",
    "limita_vizinhos(modelo, estacionamentos, avioes)\n",
    "limita_aviao_grande_para_estacionamento_grande(modelo, estacionamentos, avioes)\n",
    "limitar_avioes_que_requerem_passaporte(modelo, estacionamentos, avioes)\n",
    "\n",
    "solucionador = cp_model.CpSolver()\n",
    "resolve(solucionador, modelo, estacionamentos, avioes)"
   ]
  },
  {
   "cell_type": "code",
   "execution_count": 22,
   "metadata": {},
   "outputs": [
    {
     "name": "stdout",
     "output_type": "stream",
     "text": [
      "OPTIMAL\n",
      "estacionamento_1 tem aviao 3 grande=False\n",
      "estacionamento_2 tem aviao 2 grande=False\n",
      "estacionamento_3 tem aviao 1 grande=False\n"
     ]
    }
   ],
   "source": [
    "avioes = [Aviao(1, False, False),\n",
    "          Aviao(2, False, False),\n",
    "          Aviao(3, False, False)]\n",
    "modelo = cp_model.CpModel()\n",
    "total_de_avioes = len(avioes)\n",
    "\n",
    "estacionamentos = [Estacionamento(1, total_de_avioes, False, modelo, True),\n",
    "                   Estacionamento(2, total_de_avioes, False, modelo, False),\n",
    "                   Estacionamento(3, total_de_avioes, False, modelo, True)]\n",
    "\n",
    "avioes_distintos(estacionamentos, modelo)\n",
    "todo_aviao_tem_que_estacionar(total_de_avioes, estacionamentos, modelo)\n",
    "limita_vizinhos(modelo, estacionamentos, avioes)\n",
    "limita_aviao_grande_para_estacionamento_grande(modelo, estacionamentos, avioes)\n",
    "limitar_avioes_que_requerem_passaporte(modelo, estacionamentos, avioes)\n",
    "penalidades= prefere_avioes_com_controle_de_passaporte(modelo, estacionamentos, avioes)\n",
    "\n",
    "solucionador = cp_model.CpSolver()\n",
    "resolve(solucionador, modelo, estacionamentos, avioes, penalidades)"
   ]
  },
  {
   "cell_type": "code",
   "execution_count": null,
   "metadata": {},
   "outputs": [],
   "source": []
  }
 ],
 "metadata": {
  "kernelspec": {
   "display_name": "Python 3",
   "language": "python",
   "name": "python3"
  },
  "language_info": {
   "codemirror_mode": {
    "name": "ipython",
    "version": 3
   },
   "file_extension": ".py",
   "mimetype": "text/x-python",
   "name": "python",
   "nbconvert_exporter": "python",
   "pygments_lexer": "ipython3",
   "version": "3.9.0"
  }
 },
 "nbformat": 4,
 "nbformat_minor": 2
}
