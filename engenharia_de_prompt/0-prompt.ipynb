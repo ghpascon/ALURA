{
 "cells": [
  {
   "cell_type": "markdown",
   "metadata": {},
   "source": [
    "LIBS"
   ]
  },
  {
   "cell_type": "code",
   "execution_count": 29,
   "metadata": {},
   "outputs": [],
   "source": [
    "import os\n",
    "import google.generativeai as genai\n",
    "from dotenv import load_dotenv\n",
    "from pathlib import Path\n",
    "import json"
   ]
  },
  {
   "cell_type": "markdown",
   "metadata": {},
   "source": [
    "API_KEY"
   ]
  },
  {
   "cell_type": "code",
   "execution_count": 30,
   "metadata": {},
   "outputs": [],
   "source": [
    "dotenv_path = Path(r\"C:\\Users\\Usuario\\Desktop\\GEMINI\\.env\")  # Substitua pelo caminho real\n",
    "load_dotenv(dotenv_path=dotenv_path)\n",
    "\n",
    "genai.configure(api_key=os.environ.get(\"GEMINI_API_KEY\"))"
   ]
  },
  {
   "cell_type": "markdown",
   "metadata": {},
   "source": [
    "LLM"
   ]
  },
  {
   "cell_type": "code",
   "execution_count": 31,
   "metadata": {},
   "outputs": [],
   "source": [
    "generation_config = {\n",
    "  \"temperature\": 0.5,\n",
    "  \"top_p\": 0.9,\n",
    "  \"top_k\": 64,\n",
    "  \"max_output_tokens\": 8192,\n",
    "  \"response_mime_type\": \"text/plain\",\n",
    "}\n",
    "\n",
    "system_prompt = \"\"\"\n",
    "#PERSONA\n",
    "Sua função é encontrar os sujeitos na frase e o que estão fazendo\n",
    "\n",
    "#PASSO A PASSO\n",
    "1-Analise a frase recebida\n",
    "2-Tente encontrar os sujeitos na frase e as acões que estão fazendo\n",
    "\n",
    "#FORMATO DE SAIDA\n",
    "-Caso encontre algum sujeito:\n",
    "{\n",
    "  \"sujeitos\": \"(lista com os sujeitos separados por vírgula)\",\n",
    "  \"acoes\": \"(lista com as ações separadas por vírgula)\"\n",
    "}\n",
    "-Caso nao encontre o sujeito:\n",
    "{\n",
    "  \"sujeitos\": \"None\",\n",
    "  \"acoes\": \"None\"\n",
    "}\n",
    "\n",
    "#CONTEXTO\n",
    "-Pode existir mais de um sujeito ou apenas um\n",
    "-Mostre apenas os sujeitos escritos na frase, sujeitos ocultos não devem ser identificados\n",
    "-Caso o sujeito não esteja fazendo nenhuma ação, coloque None\n",
    "-Considere apenas as ações que o sujeito está fazendo, elogios não devem ser considerados, coloque a ação inteira (joga bola, faz faculdade)\n",
    "\"\"\"\n",
    "\n",
    "model = genai.GenerativeModel(\n",
    "  model_name=\"gemini-2.0-flash-exp\",\n",
    "  generation_config=generation_config,\n",
    "  system_instruction=system_prompt,\n",
    ")\n"
   ]
  },
  {
   "cell_type": "markdown",
   "metadata": {},
   "source": [
    "TESTE"
   ]
  },
  {
   "cell_type": "code",
   "execution_count": 36,
   "metadata": {},
   "outputs": [
    {
     "name": "stdout",
     "output_type": "stream",
     "text": [
      "{\n",
      "  \"sujeitos\": \"Gabriel, Annya\",\n",
      "  \"acoes\": \"trabalha, fez o bolo\"\n",
      "}\n",
      "\n"
     ]
    }
   ],
   "source": [
    "pergunta = 'Gabriel trabalha bastante, Annya fez o bolo'\n",
    "response = model.generate_content(pergunta)\n",
    "print(response.text)"
   ]
  },
  {
   "cell_type": "code",
   "execution_count": 37,
   "metadata": {},
   "outputs": [
    {
     "name": "stdout",
     "output_type": "stream",
     "text": [
      "Gabriel, Annya\n",
      "trabalha, fez o bolo\n"
     ]
    }
   ],
   "source": [
    "dicionario = json.loads(response.text)\n",
    "print(dicionario['sujeitos'])\n",
    "print(dicionario['acoes'])"
   ]
  }
 ],
 "metadata": {
  "kernelspec": {
   "display_name": "Python 3",
   "language": "python",
   "name": "python3"
  },
  "language_info": {
   "codemirror_mode": {
    "name": "ipython",
    "version": 3
   },
   "file_extension": ".py",
   "mimetype": "text/x-python",
   "name": "python",
   "nbconvert_exporter": "python",
   "pygments_lexer": "ipython3",
   "version": "3.9.0"
  }
 },
 "nbformat": 4,
 "nbformat_minor": 2
}
