{
 "cells": [
  {
   "cell_type": "markdown",
   "metadata": {},
   "source": [
    "LIBS"
   ]
  },
  {
   "cell_type": "code",
   "execution_count": 1,
   "metadata": {},
   "outputs": [],
   "source": [
    "import pandas as pd\n",
    "from  sklearn.feature_extraction.text import CountVectorizer\n",
    "from unidecode import unidecode\n",
    "from gensim.models import KeyedVectors\n",
    "from nltk.tokenize import word_tokenize\n",
    "from string import punctuation\n",
    "import numpy as np\n",
    "from sklearn.linear_model import LogisticRegression\n",
    "from sklearn.metrics import classification_report\n",
    "from sklearn.dummy import DummyClassifier"
   ]
  },
  {
   "cell_type": "markdown",
   "metadata": {},
   "source": [
    "LOAD CSV"
   ]
  },
  {
   "cell_type": "code",
   "execution_count": 2,
   "metadata": {},
   "outputs": [
    {
     "name": "stdout",
     "output_type": "stream",
     "text": [
      "                                               title  ...                                               link\n",
      "0  Após polêmica, Marine Le Pen diz que abomina n...  ...  http://www1.folha.uol.com.br/mundo/2017/04/187...\n",
      "1  Macron e Le Pen vão ao 2º turno na França, em ...  ...  http://www1.folha.uol.com.br/mundo/2017/04/187...\n",
      "2  Apesar de larga vitória nas legislativas, Macr...  ...  http://www1.folha.uol.com.br/mundo/2017/06/189...\n",
      "3  Governo antecipa balanço, e Alckmin anuncia qu...  ...  http://www1.folha.uol.com.br/cotidiano/2015/07...\n",
      "4  Após queda em maio, a atividade econômica sobe...  ...  http://www1.folha.uol.com.br/mercado/2017/08/1...\n",
      "\n",
      "[5 rows x 6 columns]\n",
      "                                               title  ...                                               link\n",
      "0                                     Grandes irmãos  ...  http://www1.folha.uol.com.br/colunas/ruycastro...\n",
      "1  Haddad congela orçamento e suspende emendas de...  ...  http://www1.folha.uol.com.br/colunas/monicaber...\n",
      "2  Proposta de reforma da Fifa tem a divulgação d...  ...  http://www1.folha.uol.com.br/esporte/2015/09/1...\n",
      "3  Mercado incipiente, internet das coisas conect...  ...  http://www1.folha.uol.com.br/mercado/2016/09/1...\n",
      "4  Mortes: Psicanalista, estudou o autismo em cri...  ...  http://www1.folha.uol.com.br/cotidiano/2017/07...\n",
      "\n",
      "[5 rows x 6 columns]\n"
     ]
    }
   ],
   "source": [
    "train_df = pd.read_csv('C:/Users/Usuario/Desktop/word_embeeding_data/treino.csv')\n",
    "test_df = pd.read_csv('C:/Users/Usuario/Desktop/word_embeeding_data/teste.csv')\n",
    "\n",
    "print(train_df.head())\n",
    "print(test_df.head())"
   ]
  },
  {
   "cell_type": "markdown",
   "metadata": {},
   "source": [
    "LOAD MODEL"
   ]
  },
  {
   "cell_type": "code",
   "execution_count": 3,
   "metadata": {},
   "outputs": [],
   "source": [
    "model = KeyedVectors.load_word2vec_format('C:/Users/Usuario/Desktop/word_embeeding_data/cbow_s300.txt')"
   ]
  },
  {
   "cell_type": "code",
   "execution_count": 4,
   "metadata": {},
   "outputs": [],
   "source": [
    "# model.most_similar('itália')\n",
    "\n",
    "# word_list = ['ford', 'ferrari', 'fiat']\n",
    "# model.most_similar(positive=word_list)\n",
    "\n",
    "# model.most_similar(positive=['nuvens', 'estrela'], negative=['nuvem'])\n",
    "\n",
    "# model.most_similar(positive=['garoto', 'mulher'], negative=['homem'])\n"
   ]
  },
  {
   "cell_type": "markdown",
   "metadata": {},
   "source": [
    "VETORIZACAO"
   ]
  },
  {
   "cell_type": "code",
   "execution_count": 5,
   "metadata": {},
   "outputs": [],
   "source": [
    "def tokenizador(texto):\n",
    "    lista = []\n",
    "    for txt in (word_tokenize(texto.lower(), preserve_line=True)):\n",
    "        if txt in punctuation: continue\n",
    "        lista.append(txt)\n",
    "    \n",
    "    return lista\n",
    "\n",
    "# test_list = tokenizador('tudo certo')\n",
    "# print(test_list)"
   ]
  },
  {
   "cell_type": "code",
   "execution_count": 6,
   "metadata": {},
   "outputs": [],
   "source": [
    "def combinar_vet_sum(tokens, model, vetor_len):\n",
    "    result = np.zeros(vetor_len)\n",
    "    for token in tokens:\n",
    "        try:\n",
    "            result += model.get_vector(token)\n",
    "        except KeyError:\n",
    "            if token.isnumeric():\n",
    "                token = '0'*len(token)\n",
    "            else:\n",
    "                token = 'unknown'\n",
    "            result += model.get_vector(token)\n",
    "    return result\n",
    "\n",
    "# combinar_vet_sum(test_list, model, vetor_len=300)"
   ]
  },
  {
   "cell_type": "code",
   "execution_count": 7,
   "metadata": {},
   "outputs": [
    {
     "name": "stdout",
     "output_type": "stream",
     "text": [
      "(90000, 300)\n",
      "(20513, 300)\n"
     ]
    }
   ],
   "source": [
    "def matriz_vetores(textos, model, vetor_len):\n",
    "    matriz = np.zeros((len(textos), vetor_len))\n",
    "    for i, texto in enumerate(textos.copy()):\n",
    "        tokens = tokenizador(texto)\n",
    "        matriz[i] = combinar_vet_sum(tokens, model, vetor_len)\n",
    "    return matriz\n",
    "\n",
    "matriz_train = matriz_vetores(train_df['title'], model, 300)\n",
    "print(matriz_train.shape)\n",
    "\n",
    "matriz_test = matriz_vetores(test_df['title'], model, 300)\n",
    "print(matriz_test.shape)"
   ]
  },
  {
   "cell_type": "markdown",
   "metadata": {},
   "source": [
    "CLASSIFICAÇÃO"
   ]
  },
  {
   "cell_type": "code",
   "execution_count": 8,
   "metadata": {},
   "outputs": [
    {
     "name": "stdout",
     "output_type": "stream",
     "text": [
      "modelo treinado\n",
      "[75]\n"
     ]
    }
   ],
   "source": [
    "lr_model = LogisticRegression(max_iter=200)\n",
    "lr_model.fit(matriz_train, train_df['category'])\n",
    "print('modelo treinado')\n",
    "print(lr_model.n_iter_)"
   ]
  },
  {
   "cell_type": "markdown",
   "metadata": {},
   "source": [
    "https://commons.wikimedia.org/wiki/File:Precis%C3%A3o_e_revogacao.svg\n",
    "\n",
    "Artigo sobre precision e recall"
   ]
  },
  {
   "cell_type": "code",
   "execution_count": 9,
   "metadata": {},
   "outputs": [
    {
     "name": "stdout",
     "output_type": "stream",
     "text": [
      "0.7957392872812363\n",
      "              precision    recall  f1-score   support\n",
      "\n",
      "     colunas       0.86      0.71      0.78      6103\n",
      "   cotidiano       0.61      0.79      0.69      1698\n",
      "     esporte       0.92      0.88      0.90      4663\n",
      "   ilustrada       0.13      0.88      0.23       131\n",
      "     mercado       0.84      0.79      0.81      5867\n",
      "       mundo       0.74      0.86      0.79      2051\n",
      "\n",
      "    accuracy                           0.80     20513\n",
      "   macro avg       0.68      0.82      0.70     20513\n",
      "weighted avg       0.83      0.80      0.81     20513\n",
      "\n"
     ]
    }
   ],
   "source": [
    "score_all = lr_model.score(matriz_test, test_df['category'])\n",
    "print(score_all)\n",
    "\n",
    "predictions = lr_model.predict(matriz_test)\n",
    "classification = classification_report(test_df['category'], predictions)\n",
    "print(classification)"
   ]
  },
  {
   "cell_type": "code",
   "execution_count": 10,
   "metadata": {},
   "outputs": [
    {
     "name": "stderr",
     "output_type": "stream",
     "text": [
      "c:\\Users\\Usuario\\AppData\\Local\\Programs\\Python\\Python39\\lib\\site-packages\\sklearn\\metrics\\_classification.py:1531: UndefinedMetricWarning: Precision is ill-defined and being set to 0.0 in labels with no predicted samples. Use `zero_division` parameter to control this behavior.\n",
      "  _warn_prf(average, modifier, f\"{metric.capitalize()} is\", len(result))\n",
      "c:\\Users\\Usuario\\AppData\\Local\\Programs\\Python\\Python39\\lib\\site-packages\\sklearn\\metrics\\_classification.py:1531: UndefinedMetricWarning: Precision is ill-defined and being set to 0.0 in labels with no predicted samples. Use `zero_division` parameter to control this behavior.\n",
      "  _warn_prf(average, modifier, f\"{metric.capitalize()} is\", len(result))\n"
     ]
    },
    {
     "name": "stdout",
     "output_type": "stream",
     "text": [
      "              precision    recall  f1-score   support\n",
      "\n",
      "     colunas       0.30      1.00      0.46      6103\n",
      "   cotidiano       0.00      0.00      0.00      1698\n",
      "     esporte       0.00      0.00      0.00      4663\n",
      "   ilustrada       0.00      0.00      0.00       131\n",
      "     mercado       0.00      0.00      0.00      5867\n",
      "       mundo       0.00      0.00      0.00      2051\n",
      "\n",
      "    accuracy                           0.30     20513\n",
      "   macro avg       0.05      0.17      0.08     20513\n",
      "weighted avg       0.09      0.30      0.14     20513\n",
      "\n"
     ]
    },
    {
     "name": "stderr",
     "output_type": "stream",
     "text": [
      "c:\\Users\\Usuario\\AppData\\Local\\Programs\\Python\\Python39\\lib\\site-packages\\sklearn\\metrics\\_classification.py:1531: UndefinedMetricWarning: Precision is ill-defined and being set to 0.0 in labels with no predicted samples. Use `zero_division` parameter to control this behavior.\n",
      "  _warn_prf(average, modifier, f\"{metric.capitalize()} is\", len(result))\n"
     ]
    }
   ],
   "source": [
    "dc = DummyClassifier()\n",
    "dc.fit(matriz_train, train_df['category'])\n",
    "dc_predict = dc.predict(matriz_test)\n",
    "\n",
    "dc_classification = classification_report(test_df['category'], dc_predict)\n",
    "print(dc_classification)"
   ]
  }
 ],
 "metadata": {
  "kernelspec": {
   "display_name": "Python 3",
   "language": "python",
   "name": "python3"
  },
  "language_info": {
   "codemirror_mode": {
    "name": "ipython",
    "version": 3
   },
   "file_extension": ".py",
   "mimetype": "text/x-python",
   "name": "python",
   "nbconvert_exporter": "python",
   "pygments_lexer": "ipython3",
   "version": "3.9.0"
  }
 },
 "nbformat": 4,
 "nbformat_minor": 2
}
