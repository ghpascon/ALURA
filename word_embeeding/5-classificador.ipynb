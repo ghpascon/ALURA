{
 "cells": [
  {
   "cell_type": "markdown",
   "metadata": {},
   "source": []
  },
  {
   "cell_type": "markdown",
   "metadata": {},
   "source": [
    "libs"
   ]
  },
  {
   "cell_type": "code",
   "execution_count": 36,
   "metadata": {},
   "outputs": [],
   "source": [
    "import pandas as pd\n",
    "from  sklearn.feature_extraction.text import CountVectorizer\n",
    "from unidecode import unidecode\n",
    "from gensim.models import Word2Vec, KeyedVectors\n",
    "from nltk.tokenize import word_tokenize\n",
    "from string import punctuation\n",
    "import numpy as np\n",
    "from sklearn.linear_model import LogisticRegression\n",
    "from sklearn.metrics import classification_report\n",
    "from sklearn.dummy import DummyClassifier\n",
    "import spacy\n",
    "from gensim.models.callbacks import CallbackAny2Vec\n",
    "import pickle\n"
   ]
  },
  {
   "cell_type": "markdown",
   "metadata": {},
   "source": [
    "LOAD DATA"
   ]
  },
  {
   "cell_type": "code",
   "execution_count": 2,
   "metadata": {},
   "outputs": [
    {
     "name": "stdout",
     "output_type": "stream",
     "text": [
      "                                               title  \\\n",
      "0  Após polêmica, Marine Le Pen diz que abomina n...   \n",
      "1  Macron e Le Pen vão ao 2º turno na França, em ...   \n",
      "2  Apesar de larga vitória nas legislativas, Macr...   \n",
      "3  Governo antecipa balanço, e Alckmin anuncia qu...   \n",
      "4  Após queda em maio, a atividade econômica sobe...   \n",
      "\n",
      "                                                text        date   category  \\\n",
      "0  A candidata da direita nacionalista à Presidên...  2017-04-28      mundo   \n",
      "1  O centrista independente Emmanuel Macron e a d...  2017-04-23      mundo   \n",
      "2  As eleições legislativas deste domingo (19) na...  2017-06-19      mundo   \n",
      "3  O número de ocorrências de homicídios dolosos ...  2015-07-24  cotidiano   \n",
      "4  A economia cresceu 0,25% no segundo trimestre,...  2017-08-17    mercado   \n",
      "\n",
      "  subcategory                                               link  \n",
      "0         NaN  http://www1.folha.uol.com.br/mundo/2017/04/187...  \n",
      "1         NaN  http://www1.folha.uol.com.br/mundo/2017/04/187...  \n",
      "2         NaN  http://www1.folha.uol.com.br/mundo/2017/06/189...  \n",
      "3         NaN  http://www1.folha.uol.com.br/cotidiano/2015/07...  \n",
      "4         NaN  http://www1.folha.uol.com.br/mercado/2017/08/1...  \n",
      "                                               title  \\\n",
      "0                                     Grandes irmãos   \n",
      "1  Haddad congela orçamento e suspende emendas de...   \n",
      "2  Proposta de reforma da Fifa tem a divulgação d...   \n",
      "3  Mercado incipiente, internet das coisas conect...   \n",
      "4  Mortes: Psicanalista, estudou o autismo em cri...   \n",
      "\n",
      "                                                text        date   category  \\\n",
      "0  RIO DE JANEIRO - O Brasil, cada vez menos famí...  2017-03-06    colunas   \n",
      "1  O prefeito de São Paulo, Fernando Haddad (PT),...  2016-08-10    colunas   \n",
      "2  A Fifa divulgou, nesta quinta (10), um relatór...  2015-10-09    esporte   \n",
      "3  Bueiros, coleiras, aparelhos hospitalares, ele...  2016-11-09    mercado   \n",
      "4  Toda vez que o grupo de amigos de Silvana Rabe...  2017-02-07  cotidiano   \n",
      "\n",
      "     subcategory                                               link  \n",
      "0      ruycastro  http://www1.folha.uol.com.br/colunas/ruycastro...  \n",
      "1  monicabergamo  http://www1.folha.uol.com.br/colunas/monicaber...  \n",
      "2            NaN  http://www1.folha.uol.com.br/esporte/2015/09/1...  \n",
      "3            NaN  http://www1.folha.uol.com.br/mercado/2016/09/1...  \n",
      "4            NaN  http://www1.folha.uol.com.br/cotidiano/2017/07...  \n"
     ]
    }
   ],
   "source": [
    "train_df = pd.read_csv('C:/Users/Usuario/Desktop/word_embeeding_data/treino.csv')\n",
    "test_df = pd.read_csv('C:/Users/Usuario/Desktop/word_embeeding_data/teste.csv')\n",
    "\n",
    "print(train_df.head())\n",
    "print(test_df.head())"
   ]
  },
  {
   "cell_type": "markdown",
   "metadata": {},
   "source": [
    "LOAD MODEL"
   ]
  },
  {
   "cell_type": "code",
   "execution_count": 3,
   "metadata": {},
   "outputs": [],
   "source": [
    "cbow_model = KeyedVectors.load_word2vec_format('model/cbow_model.txt')\n",
    "sg_model = KeyedVectors.load_word2vec_format('model/sg_model.txt')"
   ]
  },
  {
   "cell_type": "code",
   "execution_count": 4,
   "metadata": {},
   "outputs": [
    {
     "name": "stdout",
     "output_type": "stream",
     "text": [
      "O modelo possui 300 dimensões.\n"
     ]
    }
   ],
   "source": [
    "vector_size = cbow_model.vector_size\n",
    "print(f\"O modelo possui {vector_size} dimensões.\")"
   ]
  },
  {
   "cell_type": "markdown",
   "metadata": {},
   "source": [
    "VETORIZACAO"
   ]
  },
  {
   "cell_type": "code",
   "execution_count": 17,
   "metadata": {},
   "outputs": [],
   "source": [
    "def tokenizador(texto, nlp):\n",
    "    doc = nlp(texto)\n",
    "    lista = []\n",
    "    for txt in doc:\n",
    "        if not txt.is_stop and txt.is_alpha:\n",
    "            lista.append(txt.text.lower())\n",
    "\n",
    "    return lista\n",
    "\n",
    "def combinar_vet_sum(tokens, model):\n",
    "    result = np.zeros((1, model.vector_size))\n",
    "    for token in tokens:\n",
    "        try:\n",
    "            result += model.get_vector(token)\n",
    "        except KeyError:\n",
    "            pass\n",
    "    return result\n",
    "\n",
    "def matriz_vetores(textos, model, nlp):\n",
    "    matriz = np.zeros((len(textos), model.vector_size))\n",
    "    for i, texto in enumerate(textos.copy()):\n",
    "        if i % 5000 == 0:  \n",
    "            print(f\"{i}/{len(textos)}\")\n",
    "        tokens = tokenizador(texto, nlp)\n",
    "        matriz[i] = combinar_vet_sum(tokens, model)\n",
    "    return matriz"
   ]
  },
  {
   "cell_type": "code",
   "execution_count": 37,
   "metadata": {},
   "outputs": [],
   "source": [
    "nlp = spacy.load('pt_core_news_sm', disable=['paser', 'ner', 'tagger', 'textcat'])"
   ]
  },
  {
   "cell_type": "code",
   "execution_count": 19,
   "metadata": {},
   "outputs": [
    {
     "name": "stdout",
     "output_type": "stream",
     "text": [
      "0/90000\n",
      "5000/90000\n",
      "10000/90000\n",
      "15000/90000\n",
      "20000/90000\n",
      "25000/90000\n",
      "30000/90000\n",
      "35000/90000\n",
      "40000/90000\n",
      "45000/90000\n",
      "50000/90000\n",
      "55000/90000\n",
      "60000/90000\n",
      "65000/90000\n",
      "70000/90000\n",
      "75000/90000\n",
      "80000/90000\n",
      "85000/90000\n",
      "0/20513\n",
      "5000/20513\n",
      "10000/20513\n",
      "15000/20513\n",
      "20000/20513\n",
      "(90000, 300)\n",
      "(20513, 300)\n"
     ]
    }
   ],
   "source": [
    "matriz_train_cbow = matriz_vetores(train_df['title'], cbow_model, nlp)\n",
    "matriz_test_cbow = matriz_vetores(test_df['title'], cbow_model, nlp)\n",
    "\n",
    "print(matriz_train_cbow.shape)\n",
    "print(matriz_test_cbow.shape)"
   ]
  },
  {
   "cell_type": "code",
   "execution_count": 21,
   "metadata": {},
   "outputs": [
    {
     "name": "stdout",
     "output_type": "stream",
     "text": [
      "0/90000\n",
      "5000/90000\n",
      "10000/90000\n",
      "15000/90000\n",
      "20000/90000\n",
      "25000/90000\n",
      "30000/90000\n",
      "35000/90000\n",
      "40000/90000\n",
      "45000/90000\n",
      "50000/90000\n",
      "55000/90000\n",
      "60000/90000\n",
      "65000/90000\n",
      "70000/90000\n",
      "75000/90000\n",
      "80000/90000\n",
      "85000/90000\n",
      "0/20513\n",
      "5000/20513\n",
      "10000/20513\n",
      "15000/20513\n",
      "20000/20513\n",
      "(90000, 300)\n",
      "(20513, 300)\n"
     ]
    }
   ],
   "source": [
    "matriz_train_sg = matriz_vetores(train_df['title'], sg_model, nlp)\n",
    "matriz_test_sg = matriz_vetores(test_df['title'], sg_model, nlp)\n",
    "\n",
    "print(matriz_train_sg.shape)\n",
    "print(matriz_test_sg.shape)"
   ]
  },
  {
   "cell_type": "markdown",
   "metadata": {},
   "source": [
    "CLASSIFICADOR CBOW"
   ]
  },
  {
   "cell_type": "code",
   "execution_count": 28,
   "metadata": {},
   "outputs": [
    {
     "name": "stdout",
     "output_type": "stream",
     "text": [
      "modelo treinado\n",
      "[343]\n"
     ]
    }
   ],
   "source": [
    "lr_model_cbow = LogisticRegression(max_iter=1000)\n",
    "lr_model_cbow.fit(matriz_train_cbow, train_df['category'])\n",
    "print('modelo treinado')\n",
    "print(lr_model_cbow.n_iter_)"
   ]
  },
  {
   "cell_type": "code",
   "execution_count": 29,
   "metadata": {},
   "outputs": [
    {
     "name": "stdout",
     "output_type": "stream",
     "text": [
      "0.7787256861502462"
     ]
    },
    {
     "name": "stdout",
     "output_type": "stream",
     "text": [
      "\n",
      "              precision    recall  f1-score   support\n",
      "\n",
      "     colunas       0.81      0.71      0.75      6103\n",
      "   cotidiano       0.62      0.79      0.69      1698\n",
      "     esporte       0.91      0.86      0.89      4663\n",
      "   ilustrada       0.13      0.82      0.22       131\n",
      "     mercado       0.83      0.77      0.80      5867\n",
      "       mundo       0.73      0.82      0.77      2051\n",
      "\n",
      "    accuracy                           0.78     20513\n",
      "   macro avg       0.67      0.80      0.69     20513\n",
      "weighted avg       0.81      0.78      0.79     20513\n",
      "\n"
     ]
    }
   ],
   "source": [
    "score_all_cbow = lr_model_cbow.score(matriz_test_cbow, test_df['category'])\n",
    "print(score_all_cbow)\n",
    "\n",
    "predictions_cbow = lr_model_cbow.predict(matriz_test_cbow)\n",
    "classification_cbow = classification_report(test_df['category'], predictions_cbow)\n",
    "print(classification_cbow)"
   ]
  },
  {
   "cell_type": "code",
   "execution_count": 24,
   "metadata": {},
   "outputs": [
    {
     "name": "stderr",
     "output_type": "stream",
     "text": [
      "c:\\Users\\Usuario\\AppData\\Local\\Programs\\Python\\Python39\\lib\\site-packages\\sklearn\\metrics\\_classification.py:1531: UndefinedMetricWarning: Precision is ill-defined and being set to 0.0 in labels with no predicted samples. Use `zero_division` parameter to control this behavior.\n",
      "  _warn_prf(average, modifier, f\"{metric.capitalize()} is\", len(result))\n"
     ]
    },
    {
     "name": "stdout",
     "output_type": "stream",
     "text": [
      "              precision    recall  f1-score   support\n",
      "\n",
      "     colunas       0.30      1.00      0.46      6103\n",
      "   cotidiano       0.00      0.00      0.00      1698\n",
      "     esporte       0.00      0.00      0.00      4663\n",
      "   ilustrada       0.00      0.00      0.00       131\n",
      "     mercado       0.00      0.00      0.00      5867\n",
      "       mundo       0.00      0.00      0.00      2051\n",
      "\n",
      "    accuracy                           0.30     20513\n",
      "   macro avg       0.05      0.17      0.08     20513\n",
      "weighted avg       0.09      0.30      0.14     20513\n",
      "\n"
     ]
    },
    {
     "name": "stderr",
     "output_type": "stream",
     "text": [
      "c:\\Users\\Usuario\\AppData\\Local\\Programs\\Python\\Python39\\lib\\site-packages\\sklearn\\metrics\\_classification.py:1531: UndefinedMetricWarning: Precision is ill-defined and being set to 0.0 in labels with no predicted samples. Use `zero_division` parameter to control this behavior.\n",
      "  _warn_prf(average, modifier, f\"{metric.capitalize()} is\", len(result))\n",
      "c:\\Users\\Usuario\\AppData\\Local\\Programs\\Python\\Python39\\lib\\site-packages\\sklearn\\metrics\\_classification.py:1531: UndefinedMetricWarning: Precision is ill-defined and being set to 0.0 in labels with no predicted samples. Use `zero_division` parameter to control this behavior.\n",
      "  _warn_prf(average, modifier, f\"{metric.capitalize()} is\", len(result))\n"
     ]
    }
   ],
   "source": [
    "dc_cbow = DummyClassifier()\n",
    "dc_cbow.fit(matriz_train_cbow, train_df['category'])\n",
    "dc_cbow_predict = dc_cbow.predict(matriz_test_cbow)\n",
    "\n",
    "dc_cbow_classification = classification_report(test_df['category'], dc_cbow_predict)\n",
    "print(dc_cbow_classification)"
   ]
  },
  {
   "cell_type": "markdown",
   "metadata": {},
   "source": [
    "CLASSIFICAÇÃO SG"
   ]
  },
  {
   "cell_type": "code",
   "execution_count": 25,
   "metadata": {},
   "outputs": [
    {
     "name": "stdout",
     "output_type": "stream",
     "text": [
      "modelo treinado\n",
      "[155]\n"
     ]
    }
   ],
   "source": [
    "lr_model_sg = LogisticRegression(max_iter=200)\n",
    "lr_model_sg.fit(matriz_train_sg, train_df['category'])\n",
    "print('modelo treinado')\n",
    "print(lr_model_sg.n_iter_)"
   ]
  },
  {
   "cell_type": "code",
   "execution_count": 26,
   "metadata": {},
   "outputs": [
    {
     "name": "stdout",
     "output_type": "stream",
     "text": [
      "0.7969580266172671\n",
      "              precision    recall  f1-score   support\n",
      "\n",
      "     colunas       0.81      0.72      0.76      6103\n",
      "   cotidiano       0.65      0.81      0.72      1698\n",
      "     esporte       0.94      0.88      0.90      4663\n",
      "   ilustrada       0.14      0.86      0.24       131\n",
      "     mercado       0.84      0.80      0.82      5867\n",
      "       mundo       0.76      0.84      0.80      2051\n",
      "\n",
      "    accuracy                           0.80     20513\n",
      "   macro avg       0.69      0.82      0.71     20513\n",
      "weighted avg       0.82      0.80      0.81     20513\n",
      "\n"
     ]
    }
   ],
   "source": [
    "score_all_sg = lr_model_sg.score(matriz_test_sg, test_df['category'])\n",
    "print(score_all_sg)\n",
    "\n",
    "predictions_sg = lr_model_sg.predict(matriz_test_sg)\n",
    "classification_sg = classification_report(test_df['category'], predictions_sg)\n",
    "print(classification_sg)"
   ]
  },
  {
   "cell_type": "code",
   "execution_count": 27,
   "metadata": {},
   "outputs": [
    {
     "name": "stderr",
     "output_type": "stream",
     "text": [
      "c:\\Users\\Usuario\\AppData\\Local\\Programs\\Python\\Python39\\lib\\site-packages\\sklearn\\metrics\\_classification.py:1531: UndefinedMetricWarning: Precision is ill-defined and being set to 0.0 in labels with no predicted samples. Use `zero_division` parameter to control this behavior.\n",
      "  _warn_prf(average, modifier, f\"{metric.capitalize()} is\", len(result))\n"
     ]
    },
    {
     "name": "stdout",
     "output_type": "stream",
     "text": [
      "              precision    recall  f1-score   support\n",
      "\n",
      "     colunas       0.30      1.00      0.46      6103\n",
      "   cotidiano       0.00      0.00      0.00      1698\n",
      "     esporte       0.00      0.00      0.00      4663\n",
      "   ilustrada       0.00      0.00      0.00       131\n",
      "     mercado       0.00      0.00      0.00      5867\n",
      "       mundo       0.00      0.00      0.00      2051\n",
      "\n",
      "    accuracy                           0.30     20513\n",
      "   macro avg       0.05      0.17      0.08     20513\n",
      "weighted avg       0.09      0.30      0.14     20513\n",
      "\n"
     ]
    },
    {
     "name": "stderr",
     "output_type": "stream",
     "text": [
      "c:\\Users\\Usuario\\AppData\\Local\\Programs\\Python\\Python39\\lib\\site-packages\\sklearn\\metrics\\_classification.py:1531: UndefinedMetricWarning: Precision is ill-defined and being set to 0.0 in labels with no predicted samples. Use `zero_division` parameter to control this behavior.\n",
      "  _warn_prf(average, modifier, f\"{metric.capitalize()} is\", len(result))\n",
      "c:\\Users\\Usuario\\AppData\\Local\\Programs\\Python\\Python39\\lib\\site-packages\\sklearn\\metrics\\_classification.py:1531: UndefinedMetricWarning: Precision is ill-defined and being set to 0.0 in labels with no predicted samples. Use `zero_division` parameter to control this behavior.\n",
      "  _warn_prf(average, modifier, f\"{metric.capitalize()} is\", len(result))\n"
     ]
    }
   ],
   "source": [
    "dc_sg = DummyClassifier()\n",
    "dc_sg.fit(matriz_train_sg, train_df['category'])\n",
    "dc_sg_predict = dc_sg.predict(matriz_test_sg)\n",
    "\n",
    "dc_sg_classification = classification_report(test_df['category'], dc_sg_predict)\n",
    "print(dc_sg_classification)"
   ]
  },
  {
   "cell_type": "markdown",
   "metadata": {},
   "source": [
    "SAVE"
   ]
  },
  {
   "cell_type": "code",
   "execution_count": 35,
   "metadata": {},
   "outputs": [],
   "source": [
    "with open(\"model/lr_model_cbow.pkl\", 'wb') as f:\n",
    "    pickle.dump(lr_model_cbow, f)\n",
    "\n",
    "with open('model/lr_model_sg.pkl', 'wb') as f:\n",
    "    pickle.dump(lr_model_sg, f)"
   ]
  },
  {
   "cell_type": "code",
   "execution_count": 40,
   "metadata": {},
   "outputs": [],
   "source": [
    "with open(\"model/nlp.pkl\", 'wb') as f:\n",
    "    pickle.dump(nlp, f)"
   ]
  }
 ],
 "metadata": {
  "kernelspec": {
   "display_name": "Python 3",
   "language": "python",
   "name": "python3"
  },
  "language_info": {
   "codemirror_mode": {
    "name": "ipython",
    "version": 3
   },
   "file_extension": ".py",
   "mimetype": "text/x-python",
   "name": "python",
   "nbconvert_exporter": "python",
   "pygments_lexer": "ipython3",
   "version": "3.9.0"
  }
 },
 "nbformat": 4,
 "nbformat_minor": 2
}
