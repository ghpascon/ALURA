{
 "cells": [
  {
   "cell_type": "markdown",
   "metadata": {},
   "source": [
    "LIBS"
   ]
  },
  {
   "cell_type": "code",
   "execution_count": 1,
   "metadata": {},
   "outputs": [],
   "source": [
    "import findspark\n",
    "\n",
    "# Encontra a instalação do Spark no sistema\n",
    "findspark.init()\n",
    "\n",
    "# Importa o PySpark após o findspark ter configurado o ambiente\n",
    "from pyspark.sql import SparkSession\n",
    "from pyspark.sql import functions as f\n",
    "from pyspark.sql.types import DoubleType, StringType\n",
    "import os"
   ]
  },
  {
   "cell_type": "markdown",
   "metadata": {},
   "source": [
    "DATAFRAME"
   ]
  },
  {
   "cell_type": "markdown",
   "metadata": {},
   "source": [
    "Session"
   ]
  },
  {
   "cell_type": "code",
   "execution_count": 2,
   "metadata": {},
   "outputs": [
    {
     "data": {
      "text/html": [
       "\n",
       "            <div>\n",
       "                <p><b>SparkSession - in-memory</b></p>\n",
       "                \n",
       "        <div>\n",
       "            <p><b>SparkContext</b></p>\n",
       "\n",
       "            <p><a href=\"http://192.168.5.132:4040\">Spark UI</a></p>\n",
       "\n",
       "            <dl>\n",
       "              <dt>Version</dt>\n",
       "                <dd><code>v3.5.4</code></dd>\n",
       "              <dt>Master</dt>\n",
       "                <dd><code>local[*]</code></dd>\n",
       "              <dt>AppName</dt>\n",
       "                <dd><code>ExemploDF</code></dd>\n",
       "            </dl>\n",
       "        </div>\n",
       "        \n",
       "            </div>\n",
       "        "
      ],
      "text/plain": [
       "<pyspark.sql.session.SparkSession at 0x21107f5d130>"
      ]
     },
     "execution_count": 2,
     "metadata": {},
     "output_type": "execute_result"
    },
    {
     "name": "stderr",
     "output_type": "stream",
     "text": [
      "----------------------------------------\n",
      "Exception occurred during processing of request from ('127.0.0.1', 51770)\n",
      "Traceback (most recent call last):\n",
      "  File \"c:\\Users\\Usuario\\AppData\\Local\\Programs\\Python\\Python39\\lib\\socketserver.py\", line 316, in _handle_request_noblock\n",
      "    self.process_request(request, client_address)\n",
      "  File \"c:\\Users\\Usuario\\AppData\\Local\\Programs\\Python\\Python39\\lib\\socketserver.py\", line 347, in process_request\n",
      "    self.finish_request(request, client_address)\n",
      "  File \"c:\\Users\\Usuario\\AppData\\Local\\Programs\\Python\\Python39\\lib\\socketserver.py\", line 360, in finish_request\n",
      "    self.RequestHandlerClass(request, client_address, self)\n",
      "  File \"c:\\Users\\Usuario\\AppData\\Local\\Programs\\Python\\Python39\\lib\\socketserver.py\", line 720, in __init__\n",
      "    self.handle()\n",
      "  File \"c:\\Users\\Usuario\\AppData\\Local\\Programs\\Python\\Python39\\lib\\site-packages\\pyspark\\accumulators.py\", line 295, in handle\n",
      "    poll(accum_updates)\n",
      "  File \"c:\\Users\\Usuario\\AppData\\Local\\Programs\\Python\\Python39\\lib\\site-packages\\pyspark\\accumulators.py\", line 267, in poll\n",
      "    if self.rfile in r and func():\n",
      "  File \"c:\\Users\\Usuario\\AppData\\Local\\Programs\\Python\\Python39\\lib\\site-packages\\pyspark\\accumulators.py\", line 271, in accum_updates\n",
      "    num_updates = read_int(self.rfile)\n",
      "  File \"c:\\Users\\Usuario\\AppData\\Local\\Programs\\Python\\Python39\\lib\\site-packages\\pyspark\\serializers.py\", line 594, in read_int\n",
      "    length = stream.read(4)\n",
      "  File \"c:\\Users\\Usuario\\AppData\\Local\\Programs\\Python\\Python39\\lib\\socket.py\", line 704, in readinto\n",
      "    return self._sock.recv_into(b)\n",
      "ConnectionResetError: [WinError 10054] Foi forçado o cancelamento de uma conexão existente pelo host remoto\n",
      "----------------------------------------\n"
     ]
    }
   ],
   "source": [
    "spark = SparkSession.builder.appName(\"ExemploDF\").getOrCreate()\n",
    "spark.sparkContext.setLogLevel(\"INFO\")\n",
    "\n",
    "spark"
   ]
  },
  {
   "cell_type": "markdown",
   "metadata": {},
   "source": [
    "DATAFRAME"
   ]
  },
  {
   "cell_type": "code",
   "execution_count": 3,
   "metadata": {},
   "outputs": [
    {
     "name": "stdout",
     "output_type": "stream",
     "text": [
      "+------+-----+\n",
      "|  nome|idade|\n",
      "+------+-----+\n",
      "| Alice|   29|\n",
      "|   Bob|   35|\n",
      "|Carlos|   42|\n",
      "+------+-----+\n",
      "\n"
     ]
    }
   ],
   "source": [
    "# Criando dados\n",
    "dados = [(\"Alice\", 29), (\"Bob\", 35), (\"Carlos\", 42)]\n",
    "\n",
    "# Criando DataFrame\n",
    "df = spark.createDataFrame(dados, [\"nome\", \"idade\"])\n",
    "\n",
    "# Mostrar o DataFrame\n",
    "df.show()"
   ]
  },
  {
   "cell_type": "markdown",
   "metadata": {},
   "source": [
    "CARREGAR DADOS PARA O DATAFRAME"
   ]
  },
  {
   "cell_type": "code",
   "execution_count": 4,
   "metadata": {},
   "outputs": [
    {
     "name": "stdout",
     "output_type": "stream",
     "text": [
      "+-----+--------------------+----+---+---------+---+----+\n",
      "|  _c0|                 _c1| _c2|_c3|      _c4|_c5| _c6|\n",
      "+-----+--------------------+----+---+---------+---+----+\n",
      "| 4519|DANIELA DA SILVA ...|2135| 50|     0,00|  5|NULL|\n",
      "| 8638|JOAO DOS SANTOS F...|2135| 50|     0,00|  5|NULL|\n",
      "|11748|PANIFICADORA E CO...|2062| 49|     0,00|  1|NULL|\n",
      "|12027| L G SORVETERIA LTDA|2062| 49|     0,00|  5|NULL|\n",
      "|13289|ANDREIA CRISTINA ...|2305| 65|100000,00|  1|NULL|\n",
      "+-----+--------------------+----+---+---------+---+----+\n",
      "only showing top 5 rows\n",
      "\n"
     ]
    }
   ],
   "source": [
    "path = r'c:\\Users\\Usuario\\Desktop\\DADOS SPARK\\empresas\\part-00000-58983ad4-8444-4405-aec6-9cd3e5413d1b-c000.csv'\n",
    "\n",
    "# Lendo todos os arquivos CSV na pasta\n",
    "empresas = spark.read.option(\"mode\", \"DROPMALFORMED\").csv(path, sep=';', inferSchema=True)\n",
    "\n",
    "# Exibindo o DataFrame\n",
    "empresas.show(5)\n"
   ]
  },
  {
   "cell_type": "code",
   "execution_count": 5,
   "metadata": {},
   "outputs": [
    {
     "name": "stdout",
     "output_type": "stream",
     "text": [
      "+-----+---+---+---+--------------------+---+--------+---+----+----+--------+-------+----+-------+------------------+-----+-------------------+----------------+--------+----+----+----+--------+----+----+----+----+--------------------+----+----+\n",
      "|  _c0|_c1|_c2|_c3|                 _c4|_c5|     _c6|_c7| _c8| _c9|    _c10|   _c11|_c12|   _c13|              _c14| _c15|               _c16|            _c17|    _c18|_c19|_c20|_c21|    _c22|_c23|_c24|_c25|_c26|                _c27|_c28|_c29|\n",
      "+-----+---+---+---+--------------------+---+--------+---+----+----+--------+-------+----+-------+------------------+-----+-------------------+----------------+--------+----+----+----+--------+----+----+----+----+--------------------+----+----+\n",
      "| 4519|  1| 48|  1|            GIRAFFAS|  8|19950331|  1|NULL|NULL|19940516|5611203|NULL|    RUA|     HENRIQUE SAVI|15 55|LOJA UN2A 01 TERREO|JARDIM AEROPORTO|17012205|  SP|6219|NULL|    NULL|NULL|NULL|NULL|NULL|                NULL|NULL|NULL|\n",
      "| 8638|  1| 79|  1|AGROPECUARIA FAGU...|  8|20150209| 73|NULL|NULL|19940524|4771704|NULL|AVENIDA| EUCLIDES DA CUNHA|  474|              SALAO|          CENTRO|19275000|  SP|7255|NULL|    NULL|NULL|NULL|NULL|NULL|                NULL|NULL|NULL|\n",
      "|11748|  1| 90|  1|                NULL|  4|20181219| 63|NULL|NULL|19940531|4721102|NULL|    RUA|    JOSE BONIFACIO|  110|               NULL|      VILA DINIZ|15013150|  SP|7097|NULL|    NULL|NULL|NULL|NULL|NULL|                NULL|NULL|NULL|\n",
      "|12027|  1|  2|  1|                NULL|  8|20081231| 71|NULL|NULL|19940608|4721104|NULL|AVENIDA|      INDIANOPOLIS| 3304|               NULL|           SAUDE| 4062003|  SP|7107|NULL|    NULL|NULL|NULL|NULL|NULL|                NULL|NULL|NULL|\n",
      "|13289|  1| 83|  1|JS MATERIAIS DE C...|  2|20040123|  0|NULL|NULL|19940601|4744099|NULL|    RUA|SALVADOR TAMAIOLLI|  165|               NULL|   PORTO BELLO I|13660000|  SP|6915|  19|35811286|NULL|NULL|NULL|NULL|CONTATO@LEONECONT...|NULL|NULL|\n",
      "+-----+---+---+---+--------------------+---+--------+---+----+----+--------+-------+----+-------+------------------+-----+-------------------+----------------+--------+----+----+----+--------+----+----+----+----+--------------------+----+----+\n",
      "only showing top 5 rows\n",
      "\n"
     ]
    }
   ],
   "source": [
    "path = r'c:\\Users\\Usuario\\Desktop\\DADOS SPARK\\estabelecimentos\\part-00000-701c2cc9-d9db-469f-be12-341c24a77308-c000.csv'\n",
    "\n",
    "# Lendo todos os arquivos CSV na pasta\n",
    "estabelecimentos = spark.read.option(\"mode\", \"DROPMALFORMED\").csv(path, sep=';', inferSchema=True)\n",
    "\n",
    "# Exibindo o DataFrame\n",
    "estabelecimentos.show(5)\n"
   ]
  },
  {
   "cell_type": "code",
   "execution_count": 6,
   "metadata": {},
   "outputs": [
    {
     "name": "stdout",
     "output_type": "stream",
     "text": [
      "+-----+---+--------------------+-----------+---+--------+----+-----------+----+---+----+\n",
      "|  _c0|_c1|                 _c2|        _c3|_c4|     _c5| _c6|        _c7| _c8|_c9|_c10|\n",
      "+-----+---+--------------------+-----------+---+--------+----+-----------+----+---+----+\n",
      "|11748|  2|   MARIO KATUMI HOSI|***504158**| 49|19940530|NULL|***000000**|NULL|  0|   7|\n",
      "|11748|  2|  ROBERTO YUKIO HOSI|***241578**| 22|19940530|NULL|***000000**|NULL|  0|   7|\n",
      "|13289|  2|ANDREIA CRISTINA ...|***787278**| 65|20180615|NULL|***000000**|NULL|  0|   3|\n",
      "|17389|  2|MARCIA DO CANTO A...|***920408**| 49|19940613|NULL|***000000**|NULL|  0|   7|\n",
      "|19204|  2|ALMIR CARLOS CAPE...|***299028**| 49|19980908|NULL|***000000**|NULL|  0|   7|\n",
      "+-----+---+--------------------+-----------+---+--------+----+-----------+----+---+----+\n",
      "only showing top 5 rows\n",
      "\n"
     ]
    }
   ],
   "source": [
    "path = r'c:\\Users\\Usuario\\Desktop\\DADOS SPARK\\socios\\part-00000-1ab6459b-5a3c-4294-83b8-316c171f0202-c000.csv'\n",
    "\n",
    "# Lendo todos os arquivos CSV na pasta\n",
    "socios = spark.read.option(\"mode\", \"DROPMALFORMED\").csv(path, sep=';', inferSchema=True)\n",
    "\n",
    "# Exibindo o DataFrame\n",
    "socios.show(5)\n"
   ]
  },
  {
   "cell_type": "code",
   "execution_count": 7,
   "metadata": {},
   "outputs": [
    {
     "data": {
      "text/plain": [
       "['cnpj_basico',\n",
       " 'razao_social_nome_empresarial',\n",
       " 'natureza_juridica',\n",
       " 'qualificacao_do_responsavel',\n",
       " 'capital_social_da_empresa',\n",
       " 'porte_da_empresa',\n",
       " 'ente_federativo_responsavel']"
      ]
     },
     "execution_count": 7,
     "metadata": {},
     "output_type": "execute_result"
    }
   ],
   "source": [
    "empresasColNames = ['cnpj_basico', 'razao_social_nome_empresarial', 'natureza_juridica', 'qualificacao_do_responsavel', 'capital_social_da_empresa', 'porte_da_empresa', 'ente_federativo_responsavel']\n",
    "for index,colName in enumerate(empresasColNames):\n",
    "    empresas = empresas.withColumnRenamed(f\"_c{index}\", colName)\n",
    "\n",
    "empresas.columns"
   ]
  },
  {
   "cell_type": "code",
   "execution_count": 8,
   "metadata": {},
   "outputs": [
    {
     "data": {
      "text/plain": [
       "['cnpj_basico',\n",
       " 'cnpj_ordem',\n",
       " 'cnpj_dv',\n",
       " 'identificador_matriz_filial',\n",
       " 'nome_fantasia',\n",
       " 'situacao_cadastral',\n",
       " 'data_situacao_cadastral',\n",
       " 'motivo_situacao_cadastral',\n",
       " 'nome_da_cidade_no_exterior',\n",
       " 'pais',\n",
       " 'data_de_inicio_atividade',\n",
       " 'cnae_fiscal_principal',\n",
       " 'cnae_fiscal_secundaria',\n",
       " 'tipo_de_logradouro',\n",
       " 'logradouro',\n",
       " 'numero',\n",
       " 'complemento',\n",
       " 'bairro',\n",
       " 'cep',\n",
       " 'uf',\n",
       " 'municipio',\n",
       " 'ddd_1',\n",
       " 'telefone_1',\n",
       " 'ddd_2',\n",
       " 'telefone_2',\n",
       " 'ddd_do_fax',\n",
       " 'fax',\n",
       " 'correio_eletronico',\n",
       " 'situacao_especial',\n",
       " 'data_da_situacao_especial']"
      ]
     },
     "execution_count": 8,
     "metadata": {},
     "output_type": "execute_result"
    }
   ],
   "source": [
    "estabsColNames = ['cnpj_basico', 'cnpj_ordem', 'cnpj_dv', 'identificador_matriz_filial', 'nome_fantasia', 'situacao_cadastral', 'data_situacao_cadastral', 'motivo_situacao_cadastral', 'nome_da_cidade_no_exterior', 'pais', 'data_de_inicio_atividade', 'cnae_fiscal_principal', 'cnae_fiscal_secundaria', 'tipo_de_logradouro', 'logradouro', 'numero', 'complemento', 'bairro', 'cep', 'uf', 'municipio', 'ddd_1', 'telefone_1', 'ddd_2', 'telefone_2', 'ddd_do_fax', 'fax', 'correio_eletronico', 'situacao_especial', 'data_da_situacao_especial']\n",
    "for index,colName in enumerate(estabsColNames):\n",
    "    estabelecimentos = estabelecimentos.withColumnRenamed(f\"_c{index}\", colName)\n",
    "\n",
    "estabelecimentos.columns"
   ]
  },
  {
   "cell_type": "code",
   "execution_count": 9,
   "metadata": {},
   "outputs": [
    {
     "data": {
      "text/plain": [
       "['cnpj_basico',\n",
       " 'identificador_de_socio',\n",
       " 'nome_do_socio_ou_razao_social',\n",
       " 'cnpj_ou_cpf_do_socio',\n",
       " 'qualificacao_do_socio',\n",
       " 'data_de_entrada_sociedade',\n",
       " 'pais',\n",
       " 'representante_legal',\n",
       " 'nome_do_representante',\n",
       " 'qualificacao_do_representante_legal',\n",
       " 'faixa_etaria']"
      ]
     },
     "execution_count": 9,
     "metadata": {},
     "output_type": "execute_result"
    }
   ],
   "source": [
    "sociosColNames = ['cnpj_basico', 'identificador_de_socio', 'nome_do_socio_ou_razao_social', 'cnpj_ou_cpf_do_socio', 'qualificacao_do_socio', 'data_de_entrada_sociedade', 'pais', 'representante_legal', 'nome_do_representante', 'qualificacao_do_representante_legal', 'faixa_etaria']\n",
    "for index,colName in enumerate(sociosColNames):\n",
    "    socios = socios.withColumnRenamed(f\"_c{index}\", colName)\n",
    "\n",
    "socios.columns"
   ]
  },
  {
   "cell_type": "code",
   "execution_count": 10,
   "metadata": {},
   "outputs": [
    {
     "data": {
      "text/html": [
       "<div>\n",
       "<style scoped>\n",
       "    .dataframe tbody tr th:only-of-type {\n",
       "        vertical-align: middle;\n",
       "    }\n",
       "\n",
       "    .dataframe tbody tr th {\n",
       "        vertical-align: top;\n",
       "    }\n",
       "\n",
       "    .dataframe thead th {\n",
       "        text-align: right;\n",
       "    }\n",
       "</style>\n",
       "<table border=\"1\" class=\"dataframe\">\n",
       "  <thead>\n",
       "    <tr style=\"text-align: right;\">\n",
       "      <th></th>\n",
       "      <th>cnpj_basico</th>\n",
       "      <th>razao_social_nome_empresarial</th>\n",
       "      <th>natureza_juridica</th>\n",
       "      <th>qualificacao_do_responsavel</th>\n",
       "      <th>capital_social_da_empresa</th>\n",
       "      <th>porte_da_empresa</th>\n",
       "      <th>ente_federativo_responsavel</th>\n",
       "    </tr>\n",
       "  </thead>\n",
       "  <tbody>\n",
       "    <tr>\n",
       "      <th>0</th>\n",
       "      <td>4519</td>\n",
       "      <td>DANIELA DA SILVA CRUZ</td>\n",
       "      <td>2135</td>\n",
       "      <td>50</td>\n",
       "      <td>0,00</td>\n",
       "      <td>5</td>\n",
       "      <td>None</td>\n",
       "    </tr>\n",
       "    <tr>\n",
       "      <th>1</th>\n",
       "      <td>8638</td>\n",
       "      <td>JOAO DOS SANTOS FAGUNDES</td>\n",
       "      <td>2135</td>\n",
       "      <td>50</td>\n",
       "      <td>0,00</td>\n",
       "      <td>5</td>\n",
       "      <td>None</td>\n",
       "    </tr>\n",
       "    <tr>\n",
       "      <th>2</th>\n",
       "      <td>11748</td>\n",
       "      <td>PANIFICADORA E CONFEITARIA CONFIANCA RIO PRETO...</td>\n",
       "      <td>2062</td>\n",
       "      <td>49</td>\n",
       "      <td>0,00</td>\n",
       "      <td>1</td>\n",
       "      <td>None</td>\n",
       "    </tr>\n",
       "    <tr>\n",
       "      <th>3</th>\n",
       "      <td>12027</td>\n",
       "      <td>L G SORVETERIA LTDA</td>\n",
       "      <td>2062</td>\n",
       "      <td>49</td>\n",
       "      <td>0,00</td>\n",
       "      <td>5</td>\n",
       "      <td>None</td>\n",
       "    </tr>\n",
       "    <tr>\n",
       "      <th>4</th>\n",
       "      <td>13289</td>\n",
       "      <td>ANDREIA CRISTINA DELSIN EIRELI</td>\n",
       "      <td>2305</td>\n",
       "      <td>65</td>\n",
       "      <td>100000,00</td>\n",
       "      <td>1</td>\n",
       "      <td>None</td>\n",
       "    </tr>\n",
       "  </tbody>\n",
       "</table>\n",
       "</div>"
      ],
      "text/plain": [
       "   cnpj_basico                      razao_social_nome_empresarial  \\\n",
       "0         4519                              DANIELA DA SILVA CRUZ   \n",
       "1         8638                           JOAO DOS SANTOS FAGUNDES   \n",
       "2        11748  PANIFICADORA E CONFEITARIA CONFIANCA RIO PRETO...   \n",
       "3        12027                                L G SORVETERIA LTDA   \n",
       "4        13289                     ANDREIA CRISTINA DELSIN EIRELI   \n",
       "\n",
       "   natureza_juridica  qualificacao_do_responsavel capital_social_da_empresa  \\\n",
       "0               2135                           50                      0,00   \n",
       "1               2135                           50                      0,00   \n",
       "2               2062                           49                      0,00   \n",
       "3               2062                           49                      0,00   \n",
       "4               2305                           65                 100000,00   \n",
       "\n",
       "   porte_da_empresa ente_federativo_responsavel  \n",
       "0                 5                        None  \n",
       "1                 5                        None  \n",
       "2                 1                        None  \n",
       "3                 5                        None  \n",
       "4                 1                        None  "
      ]
     },
     "execution_count": 10,
     "metadata": {},
     "output_type": "execute_result"
    }
   ],
   "source": [
    "empresas.limit(5).toPandas()"
   ]
  },
  {
   "cell_type": "code",
   "execution_count": 11,
   "metadata": {},
   "outputs": [
    {
     "data": {
      "text/html": [
       "<div>\n",
       "<style scoped>\n",
       "    .dataframe tbody tr th:only-of-type {\n",
       "        vertical-align: middle;\n",
       "    }\n",
       "\n",
       "    .dataframe tbody tr th {\n",
       "        vertical-align: top;\n",
       "    }\n",
       "\n",
       "    .dataframe thead th {\n",
       "        text-align: right;\n",
       "    }\n",
       "</style>\n",
       "<table border=\"1\" class=\"dataframe\">\n",
       "  <thead>\n",
       "    <tr style=\"text-align: right;\">\n",
       "      <th></th>\n",
       "      <th>cnpj_basico</th>\n",
       "      <th>cnpj_ordem</th>\n",
       "      <th>cnpj_dv</th>\n",
       "      <th>identificador_matriz_filial</th>\n",
       "      <th>nome_fantasia</th>\n",
       "      <th>situacao_cadastral</th>\n",
       "      <th>data_situacao_cadastral</th>\n",
       "      <th>motivo_situacao_cadastral</th>\n",
       "      <th>nome_da_cidade_no_exterior</th>\n",
       "      <th>pais</th>\n",
       "      <th>...</th>\n",
       "      <th>municipio</th>\n",
       "      <th>ddd_1</th>\n",
       "      <th>telefone_1</th>\n",
       "      <th>ddd_2</th>\n",
       "      <th>telefone_2</th>\n",
       "      <th>ddd_do_fax</th>\n",
       "      <th>fax</th>\n",
       "      <th>correio_eletronico</th>\n",
       "      <th>situacao_especial</th>\n",
       "      <th>data_da_situacao_especial</th>\n",
       "    </tr>\n",
       "  </thead>\n",
       "  <tbody>\n",
       "    <tr>\n",
       "      <th>0</th>\n",
       "      <td>4519</td>\n",
       "      <td>1</td>\n",
       "      <td>48</td>\n",
       "      <td>1</td>\n",
       "      <td>GIRAFFAS</td>\n",
       "      <td>8</td>\n",
       "      <td>19950331</td>\n",
       "      <td>1</td>\n",
       "      <td>None</td>\n",
       "      <td>NaN</td>\n",
       "      <td>...</td>\n",
       "      <td>6219</td>\n",
       "      <td>NaN</td>\n",
       "      <td>None</td>\n",
       "      <td>NaN</td>\n",
       "      <td>None</td>\n",
       "      <td>NaN</td>\n",
       "      <td>None</td>\n",
       "      <td>None</td>\n",
       "      <td>None</td>\n",
       "      <td>None</td>\n",
       "    </tr>\n",
       "    <tr>\n",
       "      <th>1</th>\n",
       "      <td>8638</td>\n",
       "      <td>1</td>\n",
       "      <td>79</td>\n",
       "      <td>1</td>\n",
       "      <td>AGROPECUARIA FAGUNDES</td>\n",
       "      <td>8</td>\n",
       "      <td>20150209</td>\n",
       "      <td>73</td>\n",
       "      <td>None</td>\n",
       "      <td>NaN</td>\n",
       "      <td>...</td>\n",
       "      <td>7255</td>\n",
       "      <td>NaN</td>\n",
       "      <td>None</td>\n",
       "      <td>NaN</td>\n",
       "      <td>None</td>\n",
       "      <td>NaN</td>\n",
       "      <td>None</td>\n",
       "      <td>None</td>\n",
       "      <td>None</td>\n",
       "      <td>None</td>\n",
       "    </tr>\n",
       "    <tr>\n",
       "      <th>2</th>\n",
       "      <td>11748</td>\n",
       "      <td>1</td>\n",
       "      <td>90</td>\n",
       "      <td>1</td>\n",
       "      <td>None</td>\n",
       "      <td>4</td>\n",
       "      <td>20181219</td>\n",
       "      <td>63</td>\n",
       "      <td>None</td>\n",
       "      <td>NaN</td>\n",
       "      <td>...</td>\n",
       "      <td>7097</td>\n",
       "      <td>NaN</td>\n",
       "      <td>None</td>\n",
       "      <td>NaN</td>\n",
       "      <td>None</td>\n",
       "      <td>NaN</td>\n",
       "      <td>None</td>\n",
       "      <td>None</td>\n",
       "      <td>None</td>\n",
       "      <td>None</td>\n",
       "    </tr>\n",
       "    <tr>\n",
       "      <th>3</th>\n",
       "      <td>12027</td>\n",
       "      <td>1</td>\n",
       "      <td>2</td>\n",
       "      <td>1</td>\n",
       "      <td>None</td>\n",
       "      <td>8</td>\n",
       "      <td>20081231</td>\n",
       "      <td>71</td>\n",
       "      <td>None</td>\n",
       "      <td>NaN</td>\n",
       "      <td>...</td>\n",
       "      <td>7107</td>\n",
       "      <td>NaN</td>\n",
       "      <td>None</td>\n",
       "      <td>NaN</td>\n",
       "      <td>None</td>\n",
       "      <td>NaN</td>\n",
       "      <td>None</td>\n",
       "      <td>None</td>\n",
       "      <td>None</td>\n",
       "      <td>None</td>\n",
       "    </tr>\n",
       "    <tr>\n",
       "      <th>4</th>\n",
       "      <td>13289</td>\n",
       "      <td>1</td>\n",
       "      <td>83</td>\n",
       "      <td>1</td>\n",
       "      <td>JS MATERIAIS DE CONSTRUCAO</td>\n",
       "      <td>2</td>\n",
       "      <td>20040123</td>\n",
       "      <td>0</td>\n",
       "      <td>None</td>\n",
       "      <td>NaN</td>\n",
       "      <td>...</td>\n",
       "      <td>6915</td>\n",
       "      <td>19.0</td>\n",
       "      <td>35811286</td>\n",
       "      <td>NaN</td>\n",
       "      <td>None</td>\n",
       "      <td>NaN</td>\n",
       "      <td>None</td>\n",
       "      <td>CONTATO@LEONECONTABIL.COM.BR</td>\n",
       "      <td>None</td>\n",
       "      <td>None</td>\n",
       "    </tr>\n",
       "  </tbody>\n",
       "</table>\n",
       "<p>5 rows × 30 columns</p>\n",
       "</div>"
      ],
      "text/plain": [
       "   cnpj_basico  cnpj_ordem  cnpj_dv  identificador_matriz_filial  \\\n",
       "0         4519           1       48                            1   \n",
       "1         8638           1       79                            1   \n",
       "2        11748           1       90                            1   \n",
       "3        12027           1        2                            1   \n",
       "4        13289           1       83                            1   \n",
       "\n",
       "                nome_fantasia  situacao_cadastral  data_situacao_cadastral  \\\n",
       "0                    GIRAFFAS                   8                 19950331   \n",
       "1       AGROPECUARIA FAGUNDES                   8                 20150209   \n",
       "2                        None                   4                 20181219   \n",
       "3                        None                   8                 20081231   \n",
       "4  JS MATERIAIS DE CONSTRUCAO                   2                 20040123   \n",
       "\n",
       "   motivo_situacao_cadastral nome_da_cidade_no_exterior  pais  ...  municipio  \\\n",
       "0                          1                       None   NaN  ...       6219   \n",
       "1                         73                       None   NaN  ...       7255   \n",
       "2                         63                       None   NaN  ...       7097   \n",
       "3                         71                       None   NaN  ...       7107   \n",
       "4                          0                       None   NaN  ...       6915   \n",
       "\n",
       "   ddd_1 telefone_1 ddd_2 telefone_2 ddd_do_fax   fax  \\\n",
       "0    NaN       None   NaN       None        NaN  None   \n",
       "1    NaN       None   NaN       None        NaN  None   \n",
       "2    NaN       None   NaN       None        NaN  None   \n",
       "3    NaN       None   NaN       None        NaN  None   \n",
       "4   19.0   35811286   NaN       None        NaN  None   \n",
       "\n",
       "             correio_eletronico  situacao_especial data_da_situacao_especial  \n",
       "0                          None               None                      None  \n",
       "1                          None               None                      None  \n",
       "2                          None               None                      None  \n",
       "3                          None               None                      None  \n",
       "4  CONTATO@LEONECONTABIL.COM.BR               None                      None  \n",
       "\n",
       "[5 rows x 30 columns]"
      ]
     },
     "execution_count": 11,
     "metadata": {},
     "output_type": "execute_result"
    }
   ],
   "source": [
    "estabelecimentos.limit(5).toPandas()\n"
   ]
  },
  {
   "cell_type": "code",
   "execution_count": 12,
   "metadata": {},
   "outputs": [
    {
     "data": {
      "text/html": [
       "<div>\n",
       "<style scoped>\n",
       "    .dataframe tbody tr th:only-of-type {\n",
       "        vertical-align: middle;\n",
       "    }\n",
       "\n",
       "    .dataframe tbody tr th {\n",
       "        vertical-align: top;\n",
       "    }\n",
       "\n",
       "    .dataframe thead th {\n",
       "        text-align: right;\n",
       "    }\n",
       "</style>\n",
       "<table border=\"1\" class=\"dataframe\">\n",
       "  <thead>\n",
       "    <tr style=\"text-align: right;\">\n",
       "      <th></th>\n",
       "      <th>cnpj_basico</th>\n",
       "      <th>identificador_de_socio</th>\n",
       "      <th>nome_do_socio_ou_razao_social</th>\n",
       "      <th>cnpj_ou_cpf_do_socio</th>\n",
       "      <th>qualificacao_do_socio</th>\n",
       "      <th>data_de_entrada_sociedade</th>\n",
       "      <th>pais</th>\n",
       "      <th>representante_legal</th>\n",
       "      <th>nome_do_representante</th>\n",
       "      <th>qualificacao_do_representante_legal</th>\n",
       "      <th>faixa_etaria</th>\n",
       "    </tr>\n",
       "  </thead>\n",
       "  <tbody>\n",
       "    <tr>\n",
       "      <th>0</th>\n",
       "      <td>11748</td>\n",
       "      <td>2</td>\n",
       "      <td>MARIO KATUMI HOSI</td>\n",
       "      <td>***504158**</td>\n",
       "      <td>49</td>\n",
       "      <td>19940530</td>\n",
       "      <td>NaN</td>\n",
       "      <td>***000000**</td>\n",
       "      <td>None</td>\n",
       "      <td>0</td>\n",
       "      <td>7</td>\n",
       "    </tr>\n",
       "    <tr>\n",
       "      <th>1</th>\n",
       "      <td>11748</td>\n",
       "      <td>2</td>\n",
       "      <td>ROBERTO YUKIO HOSI</td>\n",
       "      <td>***241578**</td>\n",
       "      <td>22</td>\n",
       "      <td>19940530</td>\n",
       "      <td>NaN</td>\n",
       "      <td>***000000**</td>\n",
       "      <td>None</td>\n",
       "      <td>0</td>\n",
       "      <td>7</td>\n",
       "    </tr>\n",
       "    <tr>\n",
       "      <th>2</th>\n",
       "      <td>13289</td>\n",
       "      <td>2</td>\n",
       "      <td>ANDREIA CRISTINA DELSIN</td>\n",
       "      <td>***787278**</td>\n",
       "      <td>65</td>\n",
       "      <td>20180615</td>\n",
       "      <td>NaN</td>\n",
       "      <td>***000000**</td>\n",
       "      <td>None</td>\n",
       "      <td>0</td>\n",
       "      <td>3</td>\n",
       "    </tr>\n",
       "    <tr>\n",
       "      <th>3</th>\n",
       "      <td>17389</td>\n",
       "      <td>2</td>\n",
       "      <td>MARCIA DO CANTO ARRUDA DAIER</td>\n",
       "      <td>***920408**</td>\n",
       "      <td>49</td>\n",
       "      <td>19940613</td>\n",
       "      <td>NaN</td>\n",
       "      <td>***000000**</td>\n",
       "      <td>None</td>\n",
       "      <td>0</td>\n",
       "      <td>7</td>\n",
       "    </tr>\n",
       "    <tr>\n",
       "      <th>4</th>\n",
       "      <td>19204</td>\n",
       "      <td>2</td>\n",
       "      <td>ALMIR CARLOS CAPELLINI</td>\n",
       "      <td>***299028**</td>\n",
       "      <td>49</td>\n",
       "      <td>19980908</td>\n",
       "      <td>NaN</td>\n",
       "      <td>***000000**</td>\n",
       "      <td>None</td>\n",
       "      <td>0</td>\n",
       "      <td>7</td>\n",
       "    </tr>\n",
       "  </tbody>\n",
       "</table>\n",
       "</div>"
      ],
      "text/plain": [
       "   cnpj_basico  identificador_de_socio nome_do_socio_ou_razao_social  \\\n",
       "0        11748                       2             MARIO KATUMI HOSI   \n",
       "1        11748                       2            ROBERTO YUKIO HOSI   \n",
       "2        13289                       2       ANDREIA CRISTINA DELSIN   \n",
       "3        17389                       2  MARCIA DO CANTO ARRUDA DAIER   \n",
       "4        19204                       2        ALMIR CARLOS CAPELLINI   \n",
       "\n",
       "  cnpj_ou_cpf_do_socio  qualificacao_do_socio  data_de_entrada_sociedade  \\\n",
       "0          ***504158**                     49                   19940530   \n",
       "1          ***241578**                     22                   19940530   \n",
       "2          ***787278**                     65                   20180615   \n",
       "3          ***920408**                     49                   19940613   \n",
       "4          ***299028**                     49                   19980908   \n",
       "\n",
       "   pais representante_legal nome_do_representante  \\\n",
       "0   NaN         ***000000**                  None   \n",
       "1   NaN         ***000000**                  None   \n",
       "2   NaN         ***000000**                  None   \n",
       "3   NaN         ***000000**                  None   \n",
       "4   NaN         ***000000**                  None   \n",
       "\n",
       "   qualificacao_do_representante_legal  faixa_etaria  \n",
       "0                                    0             7  \n",
       "1                                    0             7  \n",
       "2                                    0             3  \n",
       "3                                    0             7  \n",
       "4                                    0             7  "
      ]
     },
     "execution_count": 12,
     "metadata": {},
     "output_type": "execute_result"
    }
   ],
   "source": [
    "socios.limit(5).toPandas()\n"
   ]
  },
  {
   "cell_type": "code",
   "execution_count": 13,
   "metadata": {},
   "outputs": [
    {
     "name": "stdout",
     "output_type": "stream",
     "text": [
      "root\n",
      " |-- cnpj_basico: integer (nullable = true)\n",
      " |-- razao_social_nome_empresarial: string (nullable = true)\n",
      " |-- natureza_juridica: integer (nullable = true)\n",
      " |-- qualificacao_do_responsavel: integer (nullable = true)\n",
      " |-- capital_social_da_empresa: string (nullable = true)\n",
      " |-- porte_da_empresa: integer (nullable = true)\n",
      " |-- ente_federativo_responsavel: string (nullable = true)\n",
      "\n"
     ]
    }
   ],
   "source": [
    "empresas.printSchema()"
   ]
  },
  {
   "cell_type": "code",
   "execution_count": 14,
   "metadata": {},
   "outputs": [
    {
     "name": "stdout",
     "output_type": "stream",
     "text": [
      "root\n",
      " |-- cnpj_basico: integer (nullable = true)\n",
      " |-- cnpj_ordem: integer (nullable = true)\n",
      " |-- cnpj_dv: integer (nullable = true)\n",
      " |-- identificador_matriz_filial: integer (nullable = true)\n",
      " |-- nome_fantasia: string (nullable = true)\n",
      " |-- situacao_cadastral: integer (nullable = true)\n",
      " |-- data_situacao_cadastral: integer (nullable = true)\n",
      " |-- motivo_situacao_cadastral: integer (nullable = true)\n",
      " |-- nome_da_cidade_no_exterior: string (nullable = true)\n",
      " |-- pais: integer (nullable = true)\n",
      " |-- data_de_inicio_atividade: integer (nullable = true)\n",
      " |-- cnae_fiscal_principal: integer (nullable = true)\n",
      " |-- cnae_fiscal_secundaria: string (nullable = true)\n",
      " |-- tipo_de_logradouro: string (nullable = true)\n",
      " |-- logradouro: string (nullable = true)\n",
      " |-- numero: string (nullable = true)\n",
      " |-- complemento: string (nullable = true)\n",
      " |-- bairro: string (nullable = true)\n",
      " |-- cep: integer (nullable = true)\n",
      " |-- uf: string (nullable = true)\n",
      " |-- municipio: integer (nullable = true)\n",
      " |-- ddd_1: integer (nullable = true)\n",
      " |-- telefone_1: string (nullable = true)\n",
      " |-- ddd_2: integer (nullable = true)\n",
      " |-- telefone_2: string (nullable = true)\n",
      " |-- ddd_do_fax: integer (nullable = true)\n",
      " |-- fax: string (nullable = true)\n",
      " |-- correio_eletronico: string (nullable = true)\n",
      " |-- situacao_especial: string (nullable = true)\n",
      " |-- data_da_situacao_especial: string (nullable = true)\n",
      "\n"
     ]
    }
   ],
   "source": [
    "estabelecimentos.printSchema()\n"
   ]
  },
  {
   "cell_type": "code",
   "execution_count": 15,
   "metadata": {},
   "outputs": [
    {
     "name": "stdout",
     "output_type": "stream",
     "text": [
      "root\n",
      " |-- cnpj_basico: integer (nullable = true)\n",
      " |-- identificador_de_socio: integer (nullable = true)\n",
      " |-- nome_do_socio_ou_razao_social: string (nullable = true)\n",
      " |-- cnpj_ou_cpf_do_socio: string (nullable = true)\n",
      " |-- qualificacao_do_socio: integer (nullable = true)\n",
      " |-- data_de_entrada_sociedade: integer (nullable = true)\n",
      " |-- pais: integer (nullable = true)\n",
      " |-- representante_legal: string (nullable = true)\n",
      " |-- nome_do_representante: string (nullable = true)\n",
      " |-- qualificacao_do_representante_legal: integer (nullable = true)\n",
      " |-- faixa_etaria: integer (nullable = true)\n",
      "\n"
     ]
    }
   ],
   "source": [
    "socios.printSchema()\n"
   ]
  },
  {
   "cell_type": "markdown",
   "metadata": {},
   "source": [
    "TRATANDO OS DADOS"
   ]
  },
  {
   "cell_type": "code",
   "execution_count": 16,
   "metadata": {},
   "outputs": [
    {
     "name": "stdout",
     "output_type": "stream",
     "text": [
      "root\n",
      " |-- cnpj_basico: integer (nullable = true)\n",
      " |-- razao_social_nome_empresarial: string (nullable = true)\n",
      " |-- natureza_juridica: integer (nullable = true)\n",
      " |-- qualificacao_do_responsavel: integer (nullable = true)\n",
      " |-- capital_social_da_empresa: double (nullable = true)\n",
      " |-- porte_da_empresa: integer (nullable = true)\n",
      " |-- ente_federativo_responsavel: string (nullable = true)\n",
      "\n"
     ]
    }
   ],
   "source": [
    "'''\n",
    "String para double\n",
    "'''\n",
    "\n",
    "empresas = empresas.withColumn(\n",
    "    'capital_social_da_empresa',\n",
    "    f.regexp_replace('capital_social_da_empresa', ',', '.')\n",
    ")\n",
    "empresas = empresas.withColumn(\n",
    "    'capital_social_da_empresa',\n",
    "    empresas['capital_social_da_empresa'].cast(DoubleType())\n",
    ")\n",
    "empresas.printSchema()"
   ]
  },
  {
   "cell_type": "code",
   "execution_count": 17,
   "metadata": {},
   "outputs": [
    {
     "name": "stdout",
     "output_type": "stream",
     "text": [
      "root\n",
      " |-- cnpj_basico: integer (nullable = true)\n",
      " |-- cnpj_ordem: integer (nullable = true)\n",
      " |-- cnpj_dv: integer (nullable = true)\n",
      " |-- identificador_matriz_filial: integer (nullable = true)\n",
      " |-- nome_fantasia: string (nullable = true)\n",
      " |-- situacao_cadastral: integer (nullable = true)\n",
      " |-- data_situacao_cadastral: date (nullable = true)\n",
      " |-- motivo_situacao_cadastral: integer (nullable = true)\n",
      " |-- nome_da_cidade_no_exterior: string (nullable = true)\n",
      " |-- pais: integer (nullable = true)\n",
      " |-- data_de_inicio_atividade: date (nullable = true)\n",
      " |-- cnae_fiscal_principal: integer (nullable = true)\n",
      " |-- cnae_fiscal_secundaria: string (nullable = true)\n",
      " |-- tipo_de_logradouro: string (nullable = true)\n",
      " |-- logradouro: string (nullable = true)\n",
      " |-- numero: string (nullable = true)\n",
      " |-- complemento: string (nullable = true)\n",
      " |-- bairro: string (nullable = true)\n",
      " |-- cep: integer (nullable = true)\n",
      " |-- uf: string (nullable = true)\n",
      " |-- municipio: integer (nullable = true)\n",
      " |-- ddd_1: integer (nullable = true)\n",
      " |-- telefone_1: string (nullable = true)\n",
      " |-- ddd_2: integer (nullable = true)\n",
      " |-- telefone_2: string (nullable = true)\n",
      " |-- ddd_do_fax: integer (nullable = true)\n",
      " |-- fax: string (nullable = true)\n",
      " |-- correio_eletronico: string (nullable = true)\n",
      " |-- situacao_especial: string (nullable = true)\n",
      " |-- data_da_situacao_especial: date (nullable = true)\n",
      "\n"
     ]
    }
   ],
   "source": [
    "'''\n",
    "String para Date\n",
    "'''\n",
    "lista_to_date = [\n",
    "    'data_situacao_cadastral',\n",
    "    'data_de_inicio_atividade',\n",
    "    'data_da_situacao_especial',\n",
    "]\n",
    "\n",
    "for col in lista_to_date:\n",
    "    estabelecimentos = estabelecimentos.withColumn(\n",
    "        col,\n",
    "        f.to_date(estabelecimentos[col].cast(StringType()), 'yyyyMMdd')\n",
    "    )\n",
    "\n",
    "estabelecimentos.printSchema()"
   ]
  },
  {
   "cell_type": "code",
   "execution_count": 18,
   "metadata": {},
   "outputs": [
    {
     "name": "stdout",
     "output_type": "stream",
     "text": [
      "root\n",
      " |-- cnpj_basico: integer (nullable = true)\n",
      " |-- identificador_de_socio: integer (nullable = true)\n",
      " |-- nome_do_socio_ou_razao_social: string (nullable = true)\n",
      " |-- cnpj_ou_cpf_do_socio: string (nullable = true)\n",
      " |-- qualificacao_do_socio: integer (nullable = true)\n",
      " |-- data_de_entrada_sociedade: date (nullable = true)\n",
      " |-- pais: integer (nullable = true)\n",
      " |-- representante_legal: string (nullable = true)\n",
      " |-- nome_do_representante: string (nullable = true)\n",
      " |-- qualificacao_do_representante_legal: integer (nullable = true)\n",
      " |-- faixa_etaria: integer (nullable = true)\n",
      "\n"
     ]
    }
   ],
   "source": [
    "'''\n",
    "String para Date\n",
    "'''\n",
    "\n",
    "socios = socios.withColumn(\n",
    "    'data_de_entrada_sociedade',\n",
    "    f.to_date(socios['data_de_entrada_sociedade'].cast(StringType()), 'yyyyMMdd')\n",
    ")\n",
    "\n",
    "socios.printSchema()"
   ]
  },
  {
   "cell_type": "markdown",
   "metadata": {},
   "source": [
    "SELECIONANDO INFORMAÇÕES"
   ]
  },
  {
   "cell_type": "code",
   "execution_count": 19,
   "metadata": {},
   "outputs": [
    {
     "name": "stdout",
     "output_type": "stream",
     "text": [
      "+-----------------+----------------+\n",
      "|natureza_juridica|porte_da_empresa|\n",
      "+-----------------+----------------+\n",
      "|2135             |5               |\n",
      "|2135             |5               |\n",
      "|2062             |1               |\n",
      "|2062             |5               |\n",
      "|2305             |1               |\n",
      "+-----------------+----------------+\n",
      "only showing top 5 rows\n",
      "\n"
     ]
    }
   ],
   "source": [
    "empresas.select(\n",
    "    'natureza_juridica', \n",
    "    'porte_da_empresa',\n",
    ").show(5, False)"
   ]
  },
  {
   "cell_type": "code",
   "execution_count": 20,
   "metadata": {},
   "outputs": [
    {
     "name": "stdout",
     "output_type": "stream",
     "text": [
      "+-----------------------------+------------+-------------------------+--------------+\n",
      "|nome_do_socio_ou_razao_social|faixa_etaria|data_de_entrada_sociedade|ano_de_entrada|\n",
      "+-----------------------------+------------+-------------------------+--------------+\n",
      "|            MARIO KATUMI HOSI|           7|               1994-05-30|          1994|\n",
      "|           ROBERTO YUKIO HOSI|           7|               1994-05-30|          1994|\n",
      "|         ANDREIA CRISTINA ...|           3|               2018-06-15|          2018|\n",
      "|         MARCIA DO CANTO A...|           7|               1994-06-13|          1994|\n",
      "|         ALMIR CARLOS CAPE...|           7|               1998-09-08|          1998|\n",
      "+-----------------------------+------------+-------------------------+--------------+\n",
      "only showing top 5 rows\n",
      "\n"
     ]
    }
   ],
   "source": [
    "socios.select(\n",
    "    'nome_do_socio_ou_razao_social',\n",
    "    'faixa_etaria',\n",
    "    'data_de_entrada_sociedade',\n",
    "    f.year('data_de_entrada_sociedade').alias('ano_de_entrada')\n",
    ").show(5)"
   ]
  },
  {
   "cell_type": "markdown",
   "metadata": {},
   "source": [
    "DADOS NULLOS"
   ]
  },
  {
   "cell_type": "code",
   "execution_count": 21,
   "metadata": {},
   "outputs": [
    {
     "name": "stdout",
     "output_type": "stream",
     "text": [
      "+-----------+----------------------+-----------------------------+--------------------+---------------------+-------------------------+----+-------------------+---------------------+-----------------------------------+------------+\n",
      "|cnpj_basico|identificador_de_socio|nome_do_socio_ou_razao_social|cnpj_ou_cpf_do_socio|qualificacao_do_socio|data_de_entrada_sociedade|pais|representante_legal|nome_do_representante|qualificacao_do_representante_legal|faixa_etaria|\n",
      "+-----------+----------------------+-----------------------------+--------------------+---------------------+-------------------------+----+-------------------+---------------------+-----------------------------------+------------+\n",
      "|      11748|                     2|            MARIO KATUMI HOSI|         ***504158**|                   49|               1994-05-30|NULL|        ***000000**|                 NULL|                                  0|           7|\n",
      "|      11748|                     2|           ROBERTO YUKIO HOSI|         ***241578**|                   22|               1994-05-30|NULL|        ***000000**|                 NULL|                                  0|           7|\n",
      "|      13289|                     2|         ANDREIA CRISTINA ...|         ***787278**|                   65|               2018-06-15|NULL|        ***000000**|                 NULL|                                  0|           3|\n",
      "|      17389|                     2|         MARCIA DO CANTO A...|         ***920408**|                   49|               1994-06-13|NULL|        ***000000**|                 NULL|                                  0|           7|\n",
      "|      19204|                     2|         ALMIR CARLOS CAPE...|         ***299028**|                   49|               1998-09-08|NULL|        ***000000**|                 NULL|                                  0|           7|\n",
      "+-----------+----------------------+-----------------------------+--------------------+---------------------+-------------------------+----+-------------------+---------------------+-----------------------------------+------------+\n",
      "only showing top 5 rows\n",
      "\n"
     ]
    }
   ],
   "source": [
    "socios.show(5)"
   ]
  },
  {
   "cell_type": "code",
   "execution_count": 22,
   "metadata": {},
   "outputs": [
    {
     "name": "stdout",
     "output_type": "stream",
     "text": [
      "+-----------+----------------------+-----------------------------+--------------------+---------------------+-------------------------+------+-------------------+---------------------+-----------------------------------+------------+\n",
      "|cnpj_basico|identificador_de_socio|nome_do_socio_ou_razao_social|cnpj_ou_cpf_do_socio|qualificacao_do_socio|data_de_entrada_sociedade|  pais|representante_legal|nome_do_representante|qualificacao_do_representante_legal|faixa_etaria|\n",
      "+-----------+----------------------+-----------------------------+--------------------+---------------------+-------------------------+------+-------------------+---------------------+-----------------------------------+------------+\n",
      "|          0|                     0|                           18|                 109|                    0|                        0|203586|                  0|               199229|                                  0|           0|\n",
      "+-----------+----------------------+-----------------------------+--------------------+---------------------+-------------------------+------+-------------------+---------------------+-----------------------------------+------------+\n",
      "\n"
     ]
    }
   ],
   "source": [
    "socios.select(\n",
    "    [f.count(f.when(f.isnull(c), 1)).alias(c) for c in socios.columns]\n",
    ").show()"
   ]
  },
  {
   "cell_type": "code",
   "execution_count": 23,
   "metadata": {},
   "outputs": [],
   "source": [
    "empresas = empresas.na.fill('-').na.fill(0)\n",
    "estabelecimentos = estabelecimentos.na.fill('-').na.fill(0)\n",
    "socios = socios.na.fill('-').na.fill(0)"
   ]
  },
  {
   "cell_type": "markdown",
   "metadata": {},
   "source": [
    "ORDENAR"
   ]
  },
  {
   "cell_type": "code",
   "execution_count": 24,
   "metadata": {},
   "outputs": [
    {
     "name": "stdout",
     "output_type": "stream",
     "text": [
      "+-----------------------------+------------+-------------------------+--------------+\n",
      "|nome_do_socio_ou_razao_social|faixa_etaria|data_de_entrada_sociedade|ano_de_entrada|\n",
      "+-----------------------------+------------+-------------------------+--------------+\n",
      "|         CGC 1 PARTICIPACO...|           0|               2021-02-08|          2021|\n",
      "|         MOVAH PARTICIPACO...|           0|               2021-03-01|          2021|\n",
      "|         SAO JERONIMO EMPR...|           0|               2021-01-22|          2021|\n",
      "|         SOGEST PARTICIPAC...|           0|               2021-04-06|          2021|\n",
      "|         USINA DE ENERGIA ...|           0|               2021-03-15|          2021|\n",
      "|         LH. REDE PARTICIP...|           0|               2021-02-04|          2021|\n",
      "|         PMO GONCALVES PAR...|           0|               2021-01-06|          2021|\n",
      "|         DTHOKI INVESTIMEN...|           0|               2021-01-25|          2021|\n",
      "|           BIVI SERVICOS LTDA|           0|               2021-03-30|          2021|\n",
      "|         DROGA ROCHA DISTR...|           0|               2021-01-22|          2021|\n",
      "+-----------------------------+------------+-------------------------+--------------+\n",
      "only showing top 10 rows\n",
      "\n"
     ]
    }
   ],
   "source": [
    "socios.select(\n",
    "    'nome_do_socio_ou_razao_social',\n",
    "    'faixa_etaria',\n",
    "    'data_de_entrada_sociedade',\n",
    "    f.year('data_de_entrada_sociedade').alias('ano_de_entrada')\n",
    ").orderBy(\n",
    "    ['ano_de_entrada', 'faixa_etaria'],\n",
    "    ascending = [False, True]\n",
    ").show(10)"
   ]
  },
  {
   "cell_type": "markdown",
   "metadata": {},
   "source": [
    "FILTROS"
   ]
  },
  {
   "cell_type": "code",
   "execution_count": 25,
   "metadata": {},
   "outputs": [
    {
     "name": "stdout",
     "output_type": "stream",
     "text": [
      "+-----------+-----------------------------+-----------------+---------------------------+-------------------------+----------------+---------------------------+\n",
      "|cnpj_basico|razao_social_nome_empresarial|natureza_juridica|qualificacao_do_responsavel|capital_social_da_empresa|porte_da_empresa|ente_federativo_responsavel|\n",
      "+-----------+-----------------------------+-----------------+---------------------------+-------------------------+----------------+---------------------------+\n",
      "|   33487689|         DOUGLAS FAUSTINO ...|             2135|                         50|                     49.9|               1|                          -|\n",
      "|   22081642|         PATRICIA CRISTINE...|             2135|                         50|                     49.0|               1|                          -|\n",
      "|   25325590|         ELLEN BRASIL MORE...|             2135|                         50|                     49.0|               1|                          -|\n",
      "|   23458341|         GEAN CARLOS ANDRE...|             2135|                         50|                     45.0|               1|                          -|\n",
      "|   24480729|         ROSANA MARIA DA S...|             2135|                         50|                     45.0|               1|                          -|\n",
      "+-----------+-----------------------------+-----------------+---------------------------+-------------------------+----------------+---------------------------+\n",
      "only showing top 5 rows\n",
      "\n"
     ]
    }
   ],
   "source": [
    "empresas.where(\n",
    "    'capital_social_da_empresa < 50'\n",
    "    ).orderBy(\n",
    "        'capital_social_da_empresa',\n",
    "        ascending=False\n",
    "    ).show(5)"
   ]
  },
  {
   "cell_type": "code",
   "execution_count": 26,
   "metadata": {},
   "outputs": [
    {
     "data": {
      "text/html": [
       "<div>\n",
       "<style scoped>\n",
       "    .dataframe tbody tr th:only-of-type {\n",
       "        vertical-align: middle;\n",
       "    }\n",
       "\n",
       "    .dataframe tbody tr th {\n",
       "        vertical-align: top;\n",
       "    }\n",
       "\n",
       "    .dataframe thead th {\n",
       "        text-align: right;\n",
       "    }\n",
       "</style>\n",
       "<table border=\"1\" class=\"dataframe\">\n",
       "  <thead>\n",
       "    <tr style=\"text-align: right;\">\n",
       "      <th></th>\n",
       "      <th>nome_do_socio_ou_razao_social</th>\n",
       "    </tr>\n",
       "  </thead>\n",
       "  <tbody>\n",
       "    <tr>\n",
       "      <th>0</th>\n",
       "      <td>GABRIEL GONCALVES</td>\n",
       "    </tr>\n",
       "    <tr>\n",
       "      <th>1</th>\n",
       "      <td>GABRIEL HENRIQUE CASTELO BRANCO DE JESUS</td>\n",
       "    </tr>\n",
       "    <tr>\n",
       "      <th>2</th>\n",
       "      <td>GABRIEL ARRUDA BICUDO</td>\n",
       "    </tr>\n",
       "    <tr>\n",
       "      <th>3</th>\n",
       "      <td>GABRIEL AUGUSTO LOPES</td>\n",
       "    </tr>\n",
       "    <tr>\n",
       "      <th>4</th>\n",
       "      <td>GABRIEL COSTA BACELAR</td>\n",
       "    </tr>\n",
       "    <tr>\n",
       "      <th>5</th>\n",
       "      <td>GABRIEL CUNHA DIAS DOS SANTOS</td>\n",
       "    </tr>\n",
       "    <tr>\n",
       "      <th>6</th>\n",
       "      <td>GABRIEL TADEU PILATI</td>\n",
       "    </tr>\n",
       "    <tr>\n",
       "      <th>7</th>\n",
       "      <td>GABRIEL MENEZES MACHADO</td>\n",
       "    </tr>\n",
       "    <tr>\n",
       "      <th>8</th>\n",
       "      <td>GABRIEL FELIPE DE OLIVEIRA ALVES</td>\n",
       "    </tr>\n",
       "    <tr>\n",
       "      <th>9</th>\n",
       "      <td>GABRIEL DE SOUZA FRASSON</td>\n",
       "    </tr>\n",
       "  </tbody>\n",
       "</table>\n",
       "</div>"
      ],
      "text/plain": [
       "              nome_do_socio_ou_razao_social\n",
       "0                         GABRIEL GONCALVES\n",
       "1  GABRIEL HENRIQUE CASTELO BRANCO DE JESUS\n",
       "2                     GABRIEL ARRUDA BICUDO\n",
       "3                     GABRIEL AUGUSTO LOPES\n",
       "4                     GABRIEL COSTA BACELAR\n",
       "5             GABRIEL CUNHA DIAS DOS SANTOS\n",
       "6                      GABRIEL TADEU PILATI\n",
       "7                   GABRIEL MENEZES MACHADO\n",
       "8          GABRIEL FELIPE DE OLIVEIRA ALVES\n",
       "9                  GABRIEL DE SOUZA FRASSON"
      ]
     },
     "execution_count": 26,
     "metadata": {},
     "output_type": "execute_result"
    }
   ],
   "source": [
    "socios.select(\n",
    "    \"nome_do_socio_ou_razao_social\"\n",
    "    ).filter(\n",
    "        socios.nome_do_socio_ou_razao_social.startswith(\"GABRIEL \")\n",
    "    ).limit(10).toPandas()"
   ]
  },
  {
   "cell_type": "markdown",
   "metadata": {},
   "source": [
    "LIKE\\\n",
    "%---% possue a palavra\\\n",
    "---%  começa com a palavra\\\n",
    "%---  termina com a palavra"
   ]
  },
  {
   "cell_type": "code",
   "execution_count": 28,
   "metadata": {},
   "outputs": [
    {
     "name": "stdout",
     "output_type": "stream",
     "text": [
      "+-----------+--------------------------------------------------------------------------------+-----------------+---------------------------+-------------------------+----------------+---------------------------+\n",
      "|cnpj_basico|razao_social_nome_empresarial                                                   |natureza_juridica|qualificacao_do_responsavel|capital_social_da_empresa|porte_da_empresa|ente_federativo_responsavel|\n",
      "+-----------+--------------------------------------------------------------------------------+-----------------+---------------------------+-------------------------+----------------+---------------------------+\n",
      "|751503     |COOP DE CONS DOS FUNCS DO BCO DO BRASIL NO EST GO LTDA                          |2143             |16                         |0.0                      |5               |-                          |\n",
      "|1461315    |PORTO BRASIL INDUSTRIA E COMERCIO LTDA                                          |2062             |49                         |0.0                      |5               |-                          |\n",
      "|1543862    |COMERCIAL B F BRASIL LTDA                                                       |2062             |49                         |0.0                      |5               |-                          |\n",
      "|2088272    |LAISE DE NAZARE BRASIL ALVES                                                    |2135             |50                         |0.0                      |5               |-                          |\n",
      "|2198452    |MORETTO DO BRASIL INDUSTRIA, COMERCIO, IMPORTACAO E EXPORTACAO DE MAQUINAS LTDA.|2062             |5                          |3500000.0                |5               |-                          |\n",
      "|3010729    |FESTIVAL & REVISTA DANCA BRASIL SOCIEDADE UNIPESSOAL LTDA                       |2062             |49                         |2000.0                   |1               |-                          |\n",
      "|3564710    |GALVANIZACAO BRASIL LTDA                                                        |2062             |49                         |0.0                      |5               |-                          |\n",
      "|3746270    |G BRASIL PARTICIPACOES LTDA                                                     |2062             |49                         |7.5183E7                 |5               |-                          |\n",
      "|3864676    |DIRETORIO MUNICIPAL DO PARTIDO TRABALHISTA DO BRASIL - PT DO B                  |3999             |16                         |0.0                      |5               |-                          |\n",
      "|3969554    |PCDOB - PARTIDO COMUNISTA DO BRASIL - DIRETORIO MUNICIPAL                       |3271             |16                         |0.0                      |5               |-                          |\n",
      "+-----------+--------------------------------------------------------------------------------+-----------------+---------------------------+-------------------------+----------------+---------------------------+\n",
      "only showing top 10 rows\n",
      "\n"
     ]
    }
   ],
   "source": [
    "empresas.where(\n",
    "    f.upper(empresas['razao_social_nome_empresarial']).like(\n",
    "        '% BRASIL %'\n",
    "    )\n",
    ").show(10, False)"
   ]
  },
  {
   "cell_type": "markdown",
   "metadata": {},
   "source": [
    "AGRUPAMENTOS"
   ]
  },
  {
   "cell_type": "code",
   "execution_count": 33,
   "metadata": {},
   "outputs": [
    {
     "name": "stdout",
     "output_type": "stream",
     "text": [
      "+--------------+-----+\n",
      "|ano_de_entrada|count|\n",
      "+--------------+-----+\n",
      "|          2010| 8033|\n",
      "|          2011| 8241|\n",
      "|          2012| 7971|\n",
      "|          2013| 8334|\n",
      "|          2014| 7955|\n",
      "|          2015| 8060|\n",
      "|          2016| 8220|\n",
      "|          2017| 8917|\n",
      "|          2018| 9924|\n",
      "|          2019|11806|\n",
      "|          2020|12508|\n",
      "|          2021| 5531|\n",
      "+--------------+-----+\n",
      "\n"
     ]
    }
   ],
   "source": [
    "socios\\\n",
    "    .select(f.year('data_de_entrada_sociedade').alias('ano_de_entrada'))\\\n",
    "    .where('ano_de_entrada >= 2010')\\\n",
    "    .groupBy('ano_de_entrada')\\\n",
    "    .count()\\\n",
    "    .orderBy('ano_de_entrada', ascending=True)\\\n",
    "    .show()"
   ]
  },
  {
   "cell_type": "code",
   "execution_count": 34,
   "metadata": {},
   "outputs": [
    {
     "name": "stdout",
     "output_type": "stream",
     "text": [
      "+----------------+--------------------+----------+\n",
      "|porte_da_empresa|capital_social_medio|frequencia|\n",
      "+----------------+--------------------+----------+\n",
      "|               0|                 0.0|       576|\n",
      "|               1|   207941.5230179709|    312561|\n",
      "|               3|   154639.3795564377|     11588|\n",
      "|               5|   606829.3027531683|    133824|\n",
      "+----------------+--------------------+----------+\n",
      "\n"
     ]
    }
   ],
   "source": [
    "empresas\\\n",
    "    .select('cnpj_basico', 'porte_da_empresa', 'capital_social_da_empresa')\\\n",
    "    .groupBy('porte_da_empresa')\\\n",
    "    .agg(\n",
    "        f.avg(\"capital_social_da_empresa\").alias(\"capital_social_medio\"),\n",
    "        f.count(\"cnpj_basico\").alias(\"frequencia\")\n",
    "    )\\\n",
    "    .orderBy('porte_da_empresa', ascending=True)\\\n",
    "    .show()"
   ]
  },
  {
   "cell_type": "code",
   "execution_count": 35,
   "metadata": {},
   "outputs": [
    {
     "name": "stdout",
     "output_type": "stream",
     "text": [
      "+-------+-------------------------+\n",
      "|summary|capital_social_da_empresa|\n",
      "+-------+-------------------------+\n",
      "|  count|                   458549|\n",
      "|   mean|        322745.6523031563|\n",
      "| stddev|       8.07697065086015E7|\n",
      "|    min|                      0.0|\n",
      "|    25%|                      0.0|\n",
      "|    50%|                   1000.0|\n",
      "|    75%|                   7000.0|\n",
      "|    max|          5.2202625985E10|\n",
      "+-------+-------------------------+\n",
      "\n"
     ]
    }
   ],
   "source": [
    "# .summary(\"count\",\"mean\",\"stddev\",\"min\",\"25%\",\"50%\",\"75%\",\"max\")\n",
    "\n",
    "empresas\\\n",
    "    .select(\"capital_social_da_empresa\")\\\n",
    "    .summary()\\\n",
    "    .show()"
   ]
  },
  {
   "cell_type": "markdown",
   "metadata": {},
   "source": [
    "JUNTAR DF\\\n",
    "inner -> apenas o que existe nos dois df\\\n",
    "left -> colunas presentes no df da esquerda\\\n",
    "right -> colunas presentes no df da direita\\\n",
    "outer -> todas as colunas"
   ]
  },
  {
   "cell_type": "code",
   "execution_count": 36,
   "metadata": {},
   "outputs": [
    {
     "name": "stdout",
     "output_type": "stream",
     "text": [
      "root\n",
      " |-- cnpj_basico: integer (nullable = true)\n",
      " |-- razao_social_nome_empresarial: string (nullable = false)\n",
      " |-- natureza_juridica: integer (nullable = true)\n",
      " |-- qualificacao_do_responsavel: integer (nullable = true)\n",
      " |-- capital_social_da_empresa: double (nullable = false)\n",
      " |-- porte_da_empresa: integer (nullable = true)\n",
      " |-- ente_federativo_responsavel: string (nullable = false)\n",
      "\n"
     ]
    }
   ],
   "source": [
    "empresas.printSchema()"
   ]
  },
  {
   "cell_type": "code",
   "execution_count": 37,
   "metadata": {},
   "outputs": [
    {
     "name": "stdout",
     "output_type": "stream",
     "text": [
      "root\n",
      " |-- cnpj_basico: integer (nullable = true)\n",
      " |-- cnpj_ordem: integer (nullable = true)\n",
      " |-- cnpj_dv: integer (nullable = true)\n",
      " |-- identificador_matriz_filial: integer (nullable = true)\n",
      " |-- nome_fantasia: string (nullable = false)\n",
      " |-- situacao_cadastral: integer (nullable = true)\n",
      " |-- data_situacao_cadastral: date (nullable = true)\n",
      " |-- motivo_situacao_cadastral: integer (nullable = true)\n",
      " |-- nome_da_cidade_no_exterior: string (nullable = false)\n",
      " |-- pais: integer (nullable = true)\n",
      " |-- data_de_inicio_atividade: date (nullable = true)\n",
      " |-- cnae_fiscal_principal: integer (nullable = true)\n",
      " |-- cnae_fiscal_secundaria: string (nullable = false)\n",
      " |-- tipo_de_logradouro: string (nullable = false)\n",
      " |-- logradouro: string (nullable = false)\n",
      " |-- numero: string (nullable = false)\n",
      " |-- complemento: string (nullable = false)\n",
      " |-- bairro: string (nullable = false)\n",
      " |-- cep: integer (nullable = true)\n",
      " |-- uf: string (nullable = false)\n",
      " |-- municipio: integer (nullable = true)\n",
      " |-- ddd_1: integer (nullable = true)\n",
      " |-- telefone_1: string (nullable = false)\n",
      " |-- ddd_2: integer (nullable = true)\n",
      " |-- telefone_2: string (nullable = false)\n",
      " |-- ddd_do_fax: integer (nullable = true)\n",
      " |-- fax: string (nullable = false)\n",
      " |-- correio_eletronico: string (nullable = false)\n",
      " |-- situacao_especial: string (nullable = false)\n",
      " |-- data_da_situacao_especial: date (nullable = true)\n",
      "\n"
     ]
    }
   ],
   "source": [
    "estabelecimentos.printSchema()"
   ]
  },
  {
   "cell_type": "code",
   "execution_count": 38,
   "metadata": {},
   "outputs": [
    {
     "name": "stdout",
     "output_type": "stream",
     "text": [
      "root\n",
      " |-- cnpj_basico: integer (nullable = true)\n",
      " |-- identificador_de_socio: integer (nullable = true)\n",
      " |-- nome_do_socio_ou_razao_social: string (nullable = false)\n",
      " |-- cnpj_ou_cpf_do_socio: string (nullable = false)\n",
      " |-- qualificacao_do_socio: integer (nullable = true)\n",
      " |-- data_de_entrada_sociedade: date (nullable = true)\n",
      " |-- pais: integer (nullable = true)\n",
      " |-- representante_legal: string (nullable = false)\n",
      " |-- nome_do_representante: string (nullable = false)\n",
      " |-- qualificacao_do_representante_legal: integer (nullable = true)\n",
      " |-- faixa_etaria: integer (nullable = true)\n",
      "\n"
     ]
    }
   ],
   "source": [
    "socios.printSchema()"
   ]
  },
  {
   "cell_type": "code",
   "execution_count": 40,
   "metadata": {},
   "outputs": [
    {
     "name": "stdout",
     "output_type": "stream",
     "text": [
      "+-----------+-----------------------------+-----------------+---------------------------+-------------------------+----------------+---------------------------+----------+-------+---------------------------+--------------------+------------------+-----------------------+-------------------------+--------------------------+----+------------------------+---------------------+----------------------+------------------+--------------------+------+-------------------+-------------------+--------+---+---------+-----+----------+-----+----------+----------+-------+--------------------+-----------------+-------------------------+\n",
      "|cnpj_basico|razao_social_nome_empresarial|natureza_juridica|qualificacao_do_responsavel|capital_social_da_empresa|porte_da_empresa|ente_federativo_responsavel|cnpj_ordem|cnpj_dv|identificador_matriz_filial|       nome_fantasia|situacao_cadastral|data_situacao_cadastral|motivo_situacao_cadastral|nome_da_cidade_no_exterior|pais|data_de_inicio_atividade|cnae_fiscal_principal|cnae_fiscal_secundaria|tipo_de_logradouro|          logradouro|numero|        complemento|             bairro|     cep| uf|municipio|ddd_1|telefone_1|ddd_2|telefone_2|ddd_do_fax|    fax|  correio_eletronico|situacao_especial|data_da_situacao_especial|\n",
      "+-----------+-----------------------------+-----------------+---------------------------+-------------------------+----------------+---------------------------+----------+-------+---------------------------+--------------------+------------------+-----------------------+-------------------------+--------------------------+----+------------------------+---------------------+----------------------+------------------+--------------------+------+-------------------+-------------------+--------+---+---------+-----+----------+-----+----------+----------+-------+--------------------+-----------------+-------------------------+\n",
      "|        243|         IN FOCO PRODUCOES...|             2240|                         49|                    500.0|               1|                          -|         1|     20|                          1|                   -|                 2|             2005-08-27|                        0|                         -|   0|              1994-07-29|              7420001|                     -|               RUA|PROF RIVADAVIA CA...|   366|                  -|     FREGUESIA DO O| 2961170| SP|     7107|    0|         -|    0|         -|         0|      -|                   -|                -|                     NULL|\n",
      "|        451|         CONSELHO PASTORAL...|             3999|                         16|                      0.0|               5|                          -|         1|     29|                          1|      CASA DO PASTOR|                 8|             2008-12-31|                       71|                         -|   0|              1994-10-04|              9491000|                     -|               RUA|GERALDO PIRE S GO...|   127|                  -|    JARDIM SAO LUIZ| 5843230| SP|     7107|    0|         -|    0|         -|         0|      -|                   -|                -|                     NULL|\n",
      "|        458|         AMERICO REGATIERI...|             2135|                         50|                   5000.0|               1|                          -|         1|     40|                          1|                   -|                 2|             2005-11-03|                        0|                         -|   0|              1994-10-10|              4614100|                     -|               RUA|          JURUBATUBA| 1.274|            2 ANDAR|             CENTRO| 9725000| SP|     7075|    0|         -|    0|         -|         0|      -|                   -|                -|                     NULL|\n",
      "|        879|         ETAMINE CONFECCOE...|             2062|                         49|                   1092.0|               1|                          -|         1|     71|                          1|                   -|                 8|             2017-07-24|                        1|                         -|   0|              1994-05-03|              1412601|               1412603|               RUA|       DAS PALMEIRAS|    45|                  -|       VILA AUGUSTA| 7022000| SP|     6477|    0|         -|    0|         -|         0|      -|                   -|                -|                     NULL|\n",
      "|       1084|         DAILY FAVA FRIGO ...|             2135|                         50|                      0.0|               1|                          -|         1|     88|                          1|            EXCLUSIV|                 8|             2007-04-03|                        1|                         -|   0|              1994-05-05|              4781400|                     -|               RUA|   MARECHAL DEOLDORO|   702|             FUNDOS|             CENTRO|19700000| SP|     6811|   18|   3612408|    0|         -|        18|3612408|                   -|                -|                     NULL|\n",
      "|       1699|              JORANDY DORICIO|             2135|                         50|                      0.0|               5|                          -|         1|      4|                          1|BAR E MERCEARIA S...|                 8|             1994-08-31|                        1|                         -|   0|              1994-05-06|              5611203|                     -|               RUA|          SANTA IRIA|  1239|                  -| VILA STA TEREZINHA|14815000| SP|     6487|    0|         -|    0|         -|         0|      -|                   -|                -|                     NULL|\n",
      "|       1896|         SERRALHERIA CHUBA...|             2062|                         49|                  20000.0|               1|                          -|         1|     23|                          1|                   -|                 4|             2018-09-18|                       63|                         -|   0|              1994-05-06|              2512800|                     -|               RUA|ISAQUE VALADAO DE...|    82|                  -|    JARDIM SILVEIRA| 3274170| SP|     7107|   11|  29187211|    0|         -|         0|      -|                   -|                -|                     NULL|\n",
      "|       2393|            HELIO MILANI LINS|             2135|                         50|                      0.0|               5|                          -|         1|     72|                          1|BAR E MERCEARIA D...|                 8|             2008-12-31|                       71|                         -|   0|              1994-05-12|              4712100|                     -|               RUA|PAULO APARECIDO A...|  1483|                  -|          JUNQUEIRA|16400033| SP|     6643|    0|         -|    0|         -|         0|      -|                   -|                -|                     NULL|\n",
      "|       2525|         EUZENIR MENDES DO...|             2135|                         50|                      0.0|               5|                          -|         1|     66|                          1|                   -|                 8|             2008-12-31|                       71|                         -|   0|              1994-05-12|              4781400|                     -|               RUA|JOSE CARLOS DE TO...|   154|                  -|             CENTRO|11910000| SP|     7137|    0|         -|    0|         -|         0|      -|                   -|                -|                     NULL|\n",
      "|       2580|         MAGALY ALVES MACI...|             2135|                         50|                      0.0|               1|                          -|         1|     56|                          1|  SORVETES ZERO GRAU|                 8|             2009-02-02|                        1|                         -|   0|              1994-05-12|              5611203|                     -|           AVENIDA|       MIRASSOLANDIA|  1273|                  -|           ELDORADO|15045000| SP|     7097|    0|         -|    0|         -|         0|      -|                   -|                -|                     NULL|\n",
      "|       3352|         ELAINE CRISTINA D...|             2135|                         50|                      0.0|               1|                          -|         1|      9|                          1|                JUMP|                 8|             2008-12-31|                       71|                         -|   0|              1994-05-10|              1412601|               1412603|               RUA|VISCONDE DE SABUGOSA|   341|                  -|CHACARA DO VISCONDE|12050830| SP|     7183|    0|         -|    0|         -|         0|      -|                   -|                -|                     NULL|\n",
      "|       3698|         CARLOS CESAR DE F...|             2135|                         50|                      0.0|               3|                          -|         1|      7|                          1|                   -|                 8|             2020-06-01|                        1|                         -|   0|              1994-05-17|              2829199|  2593400,2862300,4...|           AVENIDA|    NAMEM ABRAO JANA|   180|                  -|  PARQUE INDUSTRIAL|15840000| SP|     6539|   17|  35234908|    0|         -|        17|5461059|paulosenturion@ho...|                -|                     NULL|\n",
      "|       3876|              AGNALDO PEIXOTO|             2135|                         50|                      0.0|               1|                          -|         1|     91|                          1|                   -|                 8|             2009-10-20|                        1|                         -|   0|              1994-05-13|              4755501|                     -|               RUA|      GUILHERME WOLF|   475|                  -|       VILA OITENTA|18900000| SP|     7029|    0|         -|    0|         -|         0|      -|                   -|                -|                     NULL|\n",
      "|       4042|         JOSE ROBERTO OLIV...|             2135|                         50|                      0.0|               5|                          -|         1|      9|                          1|            DESENTEC|                 8|             2003-06-24|                        1|                         -|   0|              1994-05-13|              4761001|                     -|               RUA| HEITOR DOS PRAZERES|   288|                  -|           FERREIRA| 5522000| SP|     7107|    0|         -|    0|         -|         0|      -|                   -|                -|                     NULL|\n",
      "|       4519|         DANIELA DA SILVA ...|             2135|                         50|                      0.0|               5|                          -|         1|     48|                          1|            GIRAFFAS|                 8|             1995-03-31|                        1|                         -|   0|              1994-05-16|              5611203|                     -|               RUA|       HENRIQUE SAVI| 15 55|LOJA UN2A 01 TERREO|   JARDIM AEROPORTO|17012205| SP|     6219|    0|         -|    0|         -|         0|      -|                   -|                -|                     NULL|\n",
      "|       5740|         STUDIUM COMERCIO ...|             2062|                         49|                  14000.0|               1|                          -|         1|     10|                          1|             STUDIUM|                 8|             2011-10-27|                        1|                         -|   0|              1994-05-17|              4641901|                     -|               RUA|           TRES RIOS|   488|              E 492|         BOM RETIRO| 1123001| SP|     7107|    0|         -|    0|         -|         0|      -|                   -|                -|                     NULL|\n",
      "|       6559|         ALPHABRAS INDUSTR...|             2062|                         49|                      0.0|               5|                          -|         2|      0|                          2|                   -|                 8|             1995-04-19|                        1|                         -|   0|              1994-09-30|              4642701|                     -|               RUA|    DR LUIZ MIGLIANO|  1110|       CONJUNTO 702|            MORUMBI| 5711001| SP|     7107|    0|         -|    0|         -|         0|      -|                   -|                -|                     NULL|\n",
      "|       6559|         ALPHABRAS INDUSTR...|             2062|                         49|                      0.0|               5|                          -|         1|     29|                          1|           ALPHABRAS|                 8|             2008-12-31|                       71|                         -|   0|              1994-05-18|              4642701|                     -|           RODOVIA|CASTELO BRANCO KM...|   S/N|SENTIDO INT-CAPITAL|          JD BELVAL| 6436240| SP|     6213|    0|         -|    0|         -|         0|      -|                   -|                -|                     NULL|\n",
      "|       6773|         FELIX OLICHESKI V...|             2135|                         50|                      0.0|               1|                          -|         1|     85|                          1|                   -|                 2|             2006-12-21|                        0|                         -|   0|              1994-05-20|              4781400|                     -|           AVENIDA|                   6|  1057|                  -|             CENTRO|13500270| SP|     6979|    0|         -|    0|         -|         0|      -|                   -|                -|                     NULL|\n",
      "|       7281|         COMERCIAL LEME & ...|             2062|                         49|                      0.0|               5|                          -|         1|      4|                          1|                   -|                 8|             1998-10-13|                        1|                         -|   0|              1994-05-19|              4774100|                     -|               RUA|               CHILE|   301|                  -|          FREZZARIN|13465740| SP|     6131|    0|         -|    0|         -|         0|      -|                   -|                -|                     NULL|\n",
      "+-----------+-----------------------------+-----------------+---------------------------+-------------------------+----------------+---------------------------+----------+-------+---------------------------+--------------------+------------------+-----------------------+-------------------------+--------------------------+----+------------------------+---------------------+----------------------+------------------+--------------------+------+-------------------+-------------------+--------+---+---------+-----+----------+-----+----------+----------+-------+--------------------+-----------------+-------------------------+\n",
      "only showing top 20 rows\n",
      "\n"
     ]
    }
   ],
   "source": [
    "#cnpj_basico\n",
    "\n",
    "empresas_join = empresas.join(\n",
    "    estabelecimentos,\n",
    "    'cnpj_basico',\n",
    "    how='inner'\n",
    ")\n",
    "empresas_join.show()"
   ]
  },
  {
   "cell_type": "code",
   "execution_count": 42,
   "metadata": {},
   "outputs": [
    {
     "name": "stdout",
     "output_type": "stream",
     "text": [
      "+--------------+----------+\n",
      "|data_de_inicio|frequencia|\n",
      "+--------------+----------+\n",
      "|          2010|     15608|\n",
      "|          2011|     16993|\n",
      "|          2012|     23500|\n",
      "|          2013|     19987|\n",
      "|          2014|     20162|\n",
      "|          2015|     21261|\n",
      "|          2016|     26990|\n",
      "|          2017|     23669|\n",
      "|          2018|     27745|\n",
      "|          2019|     32587|\n",
      "|          2020|     39828|\n",
      "|          2021|     15218|\n",
      "+--------------+----------+\n",
      "\n"
     ]
    }
   ],
   "source": [
    "freq = empresas_join\\\n",
    "    .select(\n",
    "        'cnpj_basico', \n",
    "        f.year('data_de_inicio_atividade').alias('data_de_inicio')\n",
    "    )\\\n",
    "    .where('data_de_inicio >= 2010')\\\n",
    "    .groupBy('data_de_inicio')\\\n",
    "    .agg(f.count(\"cnpj_basico\").alias(\"frequencia\"))\\\n",
    "    .orderBy('data_de_inicio', ascending=True)\n",
    "freq.show()"
   ]
  },
  {
   "cell_type": "code",
   "execution_count": 43,
   "metadata": {},
   "outputs": [
    {
     "name": "stdout",
     "output_type": "stream",
     "text": [
      "+--------------+----------+\n",
      "|data_de_inicio|frequencia|\n",
      "+--------------+----------+\n",
      "|          2010|     15608|\n",
      "|          2011|     16993|\n",
      "|          2012|     23500|\n",
      "|          2013|     19987|\n",
      "|          2014|     20162|\n",
      "|          2015|     21261|\n",
      "|          2016|     26990|\n",
      "|          2017|     23669|\n",
      "|          2018|     27745|\n",
      "|          2019|     32587|\n",
      "|          2020|     39828|\n",
      "|          2021|     15218|\n",
      "|         Total|    283548|\n",
      "+--------------+----------+\n",
      "\n"
     ]
    }
   ],
   "source": [
    "freq.union(\n",
    "    freq.select(\n",
    "        f.lit('Total').alias('data_de_inicio'),\n",
    "        f.sum(freq.frequencia).alias('frequencia')   \n",
    "    )\n",
    ").show()"
   ]
  },
  {
   "cell_type": "markdown",
   "metadata": {},
   "source": [
    "SQL"
   ]
  },
  {
   "cell_type": "code",
   "execution_count": 44,
   "metadata": {},
   "outputs": [],
   "source": [
    "empresas.createOrReplaceTempView(\"empresasView\")"
   ]
  },
  {
   "cell_type": "code",
   "execution_count": 45,
   "metadata": {},
   "outputs": [
    {
     "name": "stdout",
     "output_type": "stream",
     "text": [
      "+-----------+-----------------------------+-----------------+---------------------------+-------------------------+----------------+---------------------------+\n",
      "|cnpj_basico|razao_social_nome_empresarial|natureza_juridica|qualificacao_do_responsavel|capital_social_da_empresa|porte_da_empresa|ente_federativo_responsavel|\n",
      "+-----------+-----------------------------+-----------------+---------------------------+-------------------------+----------------+---------------------------+\n",
      "|       4519|         DANIELA DA SILVA ...|             2135|                         50|                      0.0|               5|                          -|\n",
      "|       8638|         JOAO DOS SANTOS F...|             2135|                         50|                      0.0|               5|                          -|\n",
      "|      11748|         PANIFICADORA E CO...|             2062|                         49|                      0.0|               1|                          -|\n",
      "|      12027|          L G SORVETERIA LTDA|             2062|                         49|                      0.0|               5|                          -|\n",
      "|      13289|         ANDREIA CRISTINA ...|             2305|                         65|                 100000.0|               1|                          -|\n",
      "+-----------+-----------------------------+-----------------+---------------------------+-------------------------+----------------+---------------------------+\n",
      "only showing top 5 rows\n",
      "\n"
     ]
    }
   ],
   "source": [
    "spark.sql(\"SELECT * FROM empresasView\").show(5)"
   ]
  },
  {
   "cell_type": "code",
   "execution_count": 46,
   "metadata": {},
   "outputs": [
    {
     "name": "stdout",
     "output_type": "stream",
     "text": [
      "+-----------+-----------------------------+-----------------+---------------------------+-------------------------+----------------+---------------------------+\n",
      "|cnpj_basico|razao_social_nome_empresarial|natureza_juridica|qualificacao_do_responsavel|capital_social_da_empresa|porte_da_empresa|ente_federativo_responsavel|\n",
      "+-----------+-----------------------------+-----------------+---------------------------+-------------------------+----------------+---------------------------+\n",
      "|   14715041|         LIDIANE MARIA DO ...|             2135|                         50|                     50.0|               1|                          -|\n",
      "|   20601885|         CRISTIANO AKIHITO...|             2135|                         50|                     50.0|               1|                          -|\n",
      "|   23661983|         VITOR ALOISIO DO ...|             2135|                         50|                     50.0|               1|                          -|\n",
      "|   23714726|         JOSELINA PANSINI ...|             2135|                         50|                     50.0|               1|                          -|\n",
      "|   26022246|         SUZANE SILVA DE O...|             2135|                         50|                     50.0|               1|                          -|\n",
      "+-----------+-----------------------------+-----------------+---------------------------+-------------------------+----------------+---------------------------+\n",
      "only showing top 5 rows\n",
      "\n"
     ]
    }
   ],
   "source": [
    "spark\\\n",
    "    .sql(\"\"\"\n",
    "        SELECT * \n",
    "            FROM empresasView \n",
    "            WHERE capital_social_da_empresa = 50\n",
    "    \"\"\")\\\n",
    "    .show(5)"
   ]
  },
  {
   "cell_type": "code",
   "execution_count": 47,
   "metadata": {},
   "outputs": [
    {
     "name": "stdout",
     "output_type": "stream",
     "text": [
      "+----------------+-----------------+\n",
      "|porte_da_empresa|            Media|\n",
      "+----------------+-----------------+\n",
      "|               1|207941.5230179709|\n",
      "|               3|154639.3795564377|\n",
      "|               5|606829.3027531683|\n",
      "|               0|              0.0|\n",
      "+----------------+-----------------+\n",
      "\n"
     ]
    }
   ],
   "source": [
    "spark\\\n",
    "    .sql(\"\"\"\n",
    "        SELECT porte_da_empresa, MEAN(capital_social_da_empresa) AS Media \n",
    "            FROM empresasView \n",
    "            GROUP BY porte_da_empresa\n",
    "    \"\"\")\\\n",
    "    .show(5)"
   ]
  },
  {
   "cell_type": "code",
   "execution_count": 48,
   "metadata": {},
   "outputs": [],
   "source": [
    "empresas_join.createOrReplaceTempView(\"empresasJoinView\")"
   ]
  },
  {
   "cell_type": "code",
   "execution_count": 49,
   "metadata": {},
   "outputs": [
    {
     "name": "stdout",
     "output_type": "stream",
     "text": [
      "+--------------+-----+\n",
      "|data_de_inicio|count|\n",
      "+--------------+-----+\n",
      "|          2010|15608|\n",
      "|          2011|16993|\n",
      "|          2012|23500|\n",
      "|          2013|19987|\n",
      "|          2014|20162|\n",
      "|          2015|21261|\n",
      "|          2016|26990|\n",
      "|          2017|23669|\n",
      "|          2018|27745|\n",
      "|          2019|32587|\n",
      "|          2020|39828|\n",
      "|          2021|15218|\n",
      "+--------------+-----+\n",
      "\n"
     ]
    }
   ],
   "source": [
    "freq = spark\\\n",
    "    .sql(\"\"\"\n",
    "        SELECT YEAR(data_de_inicio_atividade) AS data_de_inicio, COUNT(cnpj_basico) AS count\n",
    "            FROM empresasJoinView \n",
    "            WHERE YEAR(data_de_inicio_atividade) >= 2010\n",
    "            GROUP BY data_de_inicio\n",
    "            ORDER BY data_de_inicio\n",
    "    \"\"\")\n",
    "\n",
    "freq\\\n",
    "    .show()"
   ]
  },
  {
   "cell_type": "code",
   "execution_count": 50,
   "metadata": {},
   "outputs": [],
   "source": [
    "freq.createOrReplaceTempView(\"freqView\")"
   ]
  },
  {
   "cell_type": "code",
   "execution_count": 51,
   "metadata": {},
   "outputs": [
    {
     "name": "stdout",
     "output_type": "stream",
     "text": [
      "+--------------+------+\n",
      "|data_de_inicio| count|\n",
      "+--------------+------+\n",
      "|          2010| 15608|\n",
      "|          2011| 16993|\n",
      "|          2012| 23500|\n",
      "|          2013| 19987|\n",
      "|          2014| 20162|\n",
      "|          2015| 21261|\n",
      "|          2016| 26990|\n",
      "|          2017| 23669|\n",
      "|          2018| 27745|\n",
      "|          2019| 32587|\n",
      "|          2020| 39828|\n",
      "|          2021| 15218|\n",
      "|         Total|283548|\n",
      "+--------------+------+\n",
      "\n"
     ]
    }
   ],
   "source": [
    "spark\\\n",
    "    .sql(\"\"\"\n",
    "        SELECT *\n",
    "            FROM freqView\n",
    "        UNION ALL\n",
    "        SELECT 'Total' AS data_de_inicio, SUM(count) AS count\n",
    "            FROM freqView\n",
    "    \"\"\")\\\n",
    "    .show()"
   ]
  }
 ],
 "metadata": {
  "kernelspec": {
   "display_name": "Python 3",
   "language": "python",
   "name": "python3"
  },
  "language_info": {
   "codemirror_mode": {
    "name": "ipython",
    "version": 3
   },
   "file_extension": ".py",
   "mimetype": "text/x-python",
   "name": "python",
   "nbconvert_exporter": "python",
   "pygments_lexer": "ipython3",
   "version": "3.9.0"
  }
 },
 "nbformat": 4,
 "nbformat_minor": 2
}
